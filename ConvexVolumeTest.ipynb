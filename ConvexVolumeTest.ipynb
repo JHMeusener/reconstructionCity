{
 "cells": [
  {
   "cell_type": "code",
   "execution_count": 2,
   "id": "3da5baf7",
   "metadata": {
    "ExecuteTime": {
     "end_time": "2021-09-30T10:58:31.013230Z",
     "start_time": "2021-09-30T10:58:31.004193Z"
    },
    "run_control": {
     "marked": false
    }
   },
   "outputs": [],
   "source": [
    "import pyredner\n",
    "import torch\n",
    "import linAlgHelper\n",
    "from matplotlib.pyplot import imshow\n",
    "import matplotlib.pyplot as plt\n",
    "import open3d as o3d\n",
    "from scipy.spatial import ConvexHull, HalfspaceIntersection\n",
    "import torch.nn as nn\n",
    "import torch.nn.parallel\n",
    "import torch.backends.cudnn as cudnn\n",
    "import numpy as np\n",
    "import trimesh as tm\n",
    "from scipy.spatial import ConvexHull\n",
    "from neuralVolumeHelper import randCam, matrixLookat, createInputVector_planeHitModel,HiddenPrints, SIREN, getView, circular2sinCosC,bound2Mesh, compare2CenteredModels, bound2Pointcloud, meshIt, modelCenterCorrection, getPredictionPoints,compare2CenteredModels, bound2bounds, meshBoundsTM, mesh2pointcloud, array2Pointcloud"
   ]
  },
  {
   "cell_type": "code",
   "execution_count": null,
   "id": "a94d5f04",
   "metadata": {
    "ExecuteTime": {
     "start_time": "2021-09-24T13:04:05.138Z"
    }
   },
   "outputs": [],
   "source": [
    "objects = pyredner.load_obj('/home/jhm/Documents/redner-master/tutorials/teapot.obj', return_objects=True)\n",
    "camera = randCam()\n",
    "scene = pyredner.Scene(camera = camera, objects = objects)\n",
    "light = pyredner.PointLight(position = (camera.position + torch.tensor((0.0, 0.0, 100.0))).to(pyredner.get_device()),\n",
    "                                                intensity = torch.tensor((20000.0, 30000.0, 20000.0), device = pyredner.get_device()))\n",
    "img = pyredner.render_deferred(scene = scene, lights = [light])\n",
    "from matplotlib.pyplot import imshow\n",
    "%matplotlib inline\n",
    "# Gamma correction to convert the image from linear space to sRGB\n",
    "imshow(torch.pow(img, 1.0/2.2).cpu())"
   ]
  },
  {
   "cell_type": "raw",
   "id": "ee1cfae1",
   "metadata": {
    "ExecuteTime": {
     "end_time": "2021-09-13T13:00:20.894984Z",
     "start_time": "2021-09-13T13:00:20.653374Z"
    }
   },
   "source": [
    "img = pyredner.render_deferred(scene = scene, lights = [light])\n",
    "img = pyredner.render_g_buffer(scene = scene, channels = [pyredner.channels.position,\n",
    "                                                                                                         pyredner.channels.shading_normal,\n",
    "                                                                                                         pyredner.channels.diffuse_reflectance])\n",
    "pos = img[:, :, :3]\n",
    "\n",
    "plt.imshow(((pos )).cpu()[:,:,2])"
   ]
  },
  {
   "cell_type": "code",
   "execution_count": 2,
   "id": "e9ab0f7b",
   "metadata": {
    "ExecuteTime": {
     "end_time": "2021-09-24T12:58:13.381259Z",
     "start_time": "2021-09-24T12:58:13.379202Z"
    }
   },
   "outputs": [],
   "source": [
    "#absolute values of x,y,z\n",
    "#now we only have to get the camera-pixel-vectors"
   ]
  },
  {
   "cell_type": "code",
   "execution_count": 3,
   "id": "2dd3e0ee",
   "metadata": {
    "ExecuteTime": {
     "end_time": "2021-09-24T12:58:15.528146Z",
     "start_time": "2021-09-24T12:58:15.390737Z"
    }
   },
   "outputs": [
    {
     "ename": "NameError",
     "evalue": "name 'camera' is not defined",
     "output_type": "error",
     "traceback": [
      "\u001b[0;31m---------------------------------------------------------------------------\u001b[0m",
      "\u001b[0;31mNameError\u001b[0m                                 Traceback (most recent call last)",
      "\u001b[0;32m<ipython-input-3-eac6c61cb811>\u001b[0m in \u001b[0;36m<module>\u001b[0;34m\u001b[0m\n\u001b[0;32m----> 1\u001b[0;31m \u001b[0mcamera\u001b[0m\u001b[0;34m.\u001b[0m\u001b[0mposition\u001b[0m\u001b[0;34m\u001b[0m\u001b[0;34m\u001b[0m\u001b[0m\n\u001b[0m",
      "\u001b[0;31mNameError\u001b[0m: name 'camera' is not defined"
     ]
    }
   ],
   "source": [
    "camera.position"
   ]
  },
  {
   "cell_type": "code",
   "execution_count": 4,
   "id": "1a9ef297",
   "metadata": {
    "ExecuteTime": {
     "end_time": "2021-09-24T12:58:16.371602Z",
     "start_time": "2021-09-24T12:58:16.365063Z"
    }
   },
   "outputs": [
    {
     "ename": "NameError",
     "evalue": "name 'camera' is not defined",
     "output_type": "error",
     "traceback": [
      "\u001b[0;31m---------------------------------------------------------------------------\u001b[0m",
      "\u001b[0;31mNameError\u001b[0m                                 Traceback (most recent call last)",
      "\u001b[0;32m<ipython-input-4-8389ba669f66>\u001b[0m in \u001b[0;36m<module>\u001b[0;34m\u001b[0m\n\u001b[0;32m----> 1\u001b[0;31m \u001b[0mcamera\u001b[0m\u001b[0;34m.\u001b[0m\u001b[0mlook_at\u001b[0m\u001b[0;34m\u001b[0m\u001b[0;34m\u001b[0m\u001b[0m\n\u001b[0m",
      "\u001b[0;31mNameError\u001b[0m: name 'camera' is not defined"
     ]
    }
   ],
   "source": [
    "camera.look_at"
   ]
  },
  {
   "cell_type": "raw",
   "id": "a8053f9b",
   "metadata": {
    "ExecuteTime": {
     "end_time": "2021-09-13T13:00:23.270436Z",
     "start_time": "2021-09-13T13:00:23.266764Z"
    }
   },
   "source": [
    "#cam normal\n",
    "cam_normal = (camera.position-camera.look_at)/((camera.position-camera.look_at)**2).sum()**0.5\n",
    "cam_normal"
   ]
  },
  {
   "cell_type": "code",
   "execution_count": null,
   "id": "8825b062",
   "metadata": {
    "ExecuteTime": {
     "end_time": "2021-09-22T08:48:07.840276Z",
     "start_time": "2021-09-22T08:48:07.833524Z"
    }
   },
   "outputs": [],
   "source": [
    "camera.fov ##fov is for resolution[1]"
   ]
  },
  {
   "cell_type": "code",
   "execution_count": null,
   "id": "2dbe9bd3",
   "metadata": {
    "ExecuteTime": {
     "end_time": "2021-09-22T08:48:08.029250Z",
     "start_time": "2021-09-22T08:48:08.020601Z"
    }
   },
   "outputs": [],
   "source": [
    "camera.resolution"
   ]
  },
  {
   "cell_type": "code",
   "execution_count": null,
   "id": "f0de2de4",
   "metadata": {
    "ExecuteTime": {
     "end_time": "2021-09-22T08:48:08.213650Z",
     "start_time": "2021-09-22T08:48:08.201938Z"
    }
   },
   "outputs": [],
   "source": [
    "degreePPx = camera.fov/camera.resolution[1]"
   ]
  },
  {
   "cell_type": "code",
   "execution_count": null,
   "id": "a1317230",
   "metadata": {
    "ExecuteTime": {
     "end_time": "2021-09-22T08:48:08.411625Z",
     "start_time": "2021-09-22T08:48:08.401906Z"
    }
   },
   "outputs": [],
   "source": [
    "x = torch.arange(camera.resolution[1]).repeat(camera.resolution[0],1)-camera.resolution[1]//2\n",
    "y = (-torch.arange(camera.resolution[0]).repeat(camera.resolution[1],1)+camera.resolution[0]//2).permute(1,0)\n",
    "\n",
    "x = torch.deg2rad(x*degreePPx)\n",
    "y = torch.deg2rad(y*degreePPx)"
   ]
  },
  {
   "cell_type": "code",
   "execution_count": null,
   "id": "fd73e731",
   "metadata": {
    "ExecuteTime": {
     "end_time": "2021-09-22T08:48:08.592019Z",
     "start_time": "2021-09-22T08:48:08.584978Z"
    }
   },
   "outputs": [],
   "source": [
    "delta_normals = torch.stack([x, y, torch.ones_like(x)],-1)\n",
    "oldshape = delta_normals.shape"
   ]
  },
  {
   "cell_type": "code",
   "execution_count": null,
   "id": "05c6f45d",
   "metadata": {
    "ExecuteTime": {
     "end_time": "2021-09-22T08:48:08.762990Z",
     "start_time": "2021-09-22T08:48:08.755888Z"
    }
   },
   "outputs": [],
   "source": [
    "\n",
    "delta_normals = linAlgHelper.asCartesian(delta_normals.reshape(-1,3))"
   ]
  },
  {
   "cell_type": "code",
   "execution_count": null,
   "id": "07aa2e8d",
   "metadata": {
    "ExecuteTime": {
     "end_time": "2021-09-22T08:48:08.937658Z",
     "start_time": "2021-09-22T08:48:08.935424Z"
    }
   },
   "outputs": [],
   "source": [
    "#vector 0 0 1 will be cam_normal"
   ]
  },
  {
   "cell_type": "code",
   "execution_count": null,
   "id": "9d2076f8",
   "metadata": {
    "ExecuteTime": {
     "end_time": "2021-09-22T08:48:09.294387Z",
     "start_time": "2021-09-22T08:48:09.287391Z"
    }
   },
   "outputs": [],
   "source": [
    "rotMatrix = matrixLookat(camera.position, camera.look_at, camera.up)"
   ]
  },
  {
   "cell_type": "code",
   "execution_count": null,
   "id": "1fff3c90",
   "metadata": {
    "ExecuteTime": {
     "end_time": "2021-09-22T08:48:09.452392Z",
     "start_time": "2021-09-22T08:48:09.442906Z"
    }
   },
   "outputs": [],
   "source": [
    "(rotMatrix@delta_normals[:,:,None]).reshape(oldshape)[240,300,:]"
   ]
  },
  {
   "cell_type": "code",
   "execution_count": null,
   "id": "4291ce8a",
   "metadata": {
    "ExecuteTime": {
     "end_time": "2021-09-22T08:48:10.158279Z",
     "start_time": "2021-09-22T08:48:10.152279Z"
    }
   },
   "outputs": [],
   "source": [
    "cam_normal"
   ]
  },
  {
   "cell_type": "markdown",
   "id": "749a5411",
   "metadata": {},
   "source": [
    "# create Vector representation of hitting the plane of the Volumetric"
   ]
  },
  {
   "cell_type": "raw",
   "id": "be763b2e",
   "metadata": {},
   "source": [
    "/**\n",
    " * Determines the point of intersection between a plane defined by a point and a normal vector and a line defined by a point and a direction vector.\n",
    " *\n",
    " * @param planePoint    A point on the plane.\n",
    " * @param planeNormal   The normal vector of the plane.\n",
    " * @param linePoint     A point on the line.\n",
    " * @param lineDirection The direction vector of the line.\n",
    " * @return The point of intersection between the line and the plane, null if the line is parallel to the plane.\n",
    " */\n",
    "public static Vector lineIntersection(Vector planePoint, Vector planeNormal, Vector linePoint, Vector lineDirection) {\n",
    "    if (planeNormal.dot(lineDirection.normalize()) == 0) {\n",
    "        return null;\n",
    "    }\n",
    "\n",
    "    double t = (planeNormal.dot(planePoint) - planeNormal.dot(linePoint)) / planeNormal.dot(lineDirection.normalize());\n",
    "    return linePoint.plus(lineDirection.normalize().scale(t));\n",
    "}"
   ]
  },
  {
   "cell_type": "code",
   "execution_count": null,
   "id": "4a3c89c2",
   "metadata": {
    "ExecuteTime": {
     "end_time": "2021-09-22T08:48:11.042215Z",
     "start_time": "2021-09-22T08:48:11.035539Z"
    }
   },
   "outputs": [],
   "source": [
    "vecCam2CenterNorm = linAlgHelper.p2NormLastDim(vecCam2Center)\n",
    "\n",
    "#a und b sind die normen von cam2center und camvector\n",
    "#a dot b = a_norm b_norm cos(y)\n",
    "# cos(y) = a dot b / (a_length b_length) = a dot b\n",
    "# len(camvector_full) = cam2center_fullLength/cos(y)\n",
    "#inputVector = cam2center_full - len(camvector_full)*b  "
   ]
  },
  {
   "cell_type": "code",
   "execution_count": null,
   "id": "b5df62ea",
   "metadata": {
    "ExecuteTime": {
     "end_time": "2021-09-22T08:48:11.827581Z",
     "start_time": "2021-09-22T08:48:11.784544Z"
    }
   },
   "outputs": [],
   "source": [
    "#test\n",
    "\n",
    "camPos = torch.tensor([[5,5.,0]])\n",
    "center = torch.tensor([[2.,2,0]])\n",
    "camVectorNorm = torch.tensor([[-1.,0.,-0.0],[0.,-1.,-0.0],[-1.,-1.,-0.]])\n",
    "lenCamVector = ((camVectorNorm**2).sum(dim=1)**0.5)[:,None]\n",
    "camVectorNorm = camVectorNorm/lenCamVector\n",
    "vectors = createInputVector_planeHitModel(center, camPos, camVectorNorm)\n",
    "linAlgHelper.asSpherical(vectors)"
   ]
  },
  {
   "cell_type": "code",
   "execution_count": null,
   "id": "0ff59838",
   "metadata": {},
   "outputs": [],
   "source": []
  },
  {
   "cell_type": "code",
   "execution_count": null,
   "id": "818d5bae",
   "metadata": {
    "ExecuteTime": {
     "end_time": "2021-09-22T08:48:12.609892Z",
     "start_time": "2021-09-22T08:48:12.607265Z"
    }
   },
   "outputs": [],
   "source": [
    "vecCam2Center_FULL = camPos - center\n",
    "vecCam2Center_length = (vecCam2Center_FULL**2).sum(dim=-1)**0.5\n",
    "vecCam2Center_norm = vecCam2Center_FULL/vecCam2Center_length[:,None]"
   ]
  },
  {
   "cell_type": "code",
   "execution_count": null,
   "id": "b87f2e98",
   "metadata": {
    "ExecuteTime": {
     "end_time": "2021-09-22T08:48:12.930468Z",
     "start_time": "2021-09-22T08:48:12.927815Z"
    }
   },
   "outputs": [],
   "source": [
    "cosalpha = camVectorNorm@vecCam2Center_norm.permute(1,0)"
   ]
  },
  {
   "cell_type": "code",
   "execution_count": null,
   "id": "8c9240a5",
   "metadata": {
    "ExecuteTime": {
     "end_time": "2021-09-22T08:48:13.312565Z",
     "start_time": "2021-09-22T08:48:13.310182Z"
    }
   },
   "outputs": [],
   "source": [
    "lenCamVectorFULL = vecCam2Center_length/cosalpha"
   ]
  },
  {
   "cell_type": "code",
   "execution_count": null,
   "id": "ee6c0283",
   "metadata": {
    "ExecuteTime": {
     "end_time": "2021-09-22T08:48:13.444021Z",
     "start_time": "2021-09-22T08:48:13.440364Z"
    }
   },
   "outputs": [],
   "source": [
    "lenCamVectorFULL"
   ]
  },
  {
   "cell_type": "code",
   "execution_count": null,
   "id": "14416ee6",
   "metadata": {
    "ExecuteTime": {
     "end_time": "2021-09-22T08:48:13.748062Z",
     "start_time": "2021-09-22T08:48:13.745856Z"
    }
   },
   "outputs": [],
   "source": [
    "returnedVec = vecCam2Center_FULL- lenCamVectorFULL*camVectorNorm"
   ]
  },
  {
   "cell_type": "code",
   "execution_count": null,
   "id": "d8038690",
   "metadata": {
    "ExecuteTime": {
     "end_time": "2021-09-22T08:48:14.035600Z",
     "start_time": "2021-09-22T08:48:14.031913Z"
    }
   },
   "outputs": [],
   "source": [
    "returnedVec@vecCam2Center_norm.permute(1,0) #müsste 0 sein, da die beiden im rechten winkel sind"
   ]
  },
  {
   "cell_type": "code",
   "execution_count": null,
   "id": "4102d1b5",
   "metadata": {
    "ExecuteTime": {
     "end_time": "2021-09-22T08:48:14.355995Z",
     "start_time": "2021-09-22T08:48:14.352442Z"
    }
   },
   "outputs": [],
   "source": [
    "returnedVec"
   ]
  },
  {
   "cell_type": "code",
   "execution_count": null,
   "id": "f73ee8a9",
   "metadata": {
    "ExecuteTime": {
     "end_time": "2021-09-22T08:48:14.481341Z",
     "start_time": "2021-09-22T08:48:14.477774Z"
    }
   },
   "outputs": [],
   "source": [
    "vecCam2Center_norm"
   ]
  },
  {
   "cell_type": "markdown",
   "id": "72462d9c",
   "metadata": {},
   "source": [
    "# creating a Differentiable Volume Border"
   ]
  },
  {
   "cell_type": "code",
   "execution_count": null,
   "id": "6d3d392f",
   "metadata": {
    "ExecuteTime": {
     "end_time": "2021-09-22T08:48:14.852943Z",
     "start_time": "2021-09-22T08:48:14.848602Z"
    }
   },
   "outputs": [],
   "source": [
    "planeNormals = torch.tensor([[-1.,0,0],[0,-1,0.],[0.,0.,-1.],[1.,0.,0.],[0.,1,0.], [0,0,1]])"
   ]
  },
  {
   "cell_type": "code",
   "execution_count": null,
   "id": "acc1bd7c",
   "metadata": {
    "ExecuteTime": {
     "end_time": "2021-09-22T08:48:15.050041Z",
     "start_time": "2021-09-22T08:48:15.047525Z"
    }
   },
   "outputs": [],
   "source": [
    "points = torch.tensor([[0.5,0.5,0.5],[2,2,0],[1,1,1],[0.9,0.9,1.1]])"
   ]
  },
  {
   "cell_type": "code",
   "execution_count": null,
   "id": "092a04aa",
   "metadata": {
    "ExecuteTime": {
     "end_time": "2021-09-22T08:48:15.252980Z",
     "start_time": "2021-09-22T08:48:15.231851Z"
    }
   },
   "outputs": [],
   "source": [
    "planeNormals.cross(points.permute(1,0))"
   ]
  },
  {
   "cell_type": "code",
   "execution_count": null,
   "id": "5860052f",
   "metadata": {
    "ExecuteTime": {
     "end_time": "2021-09-22T08:48:15.435528Z",
     "start_time": "2021-09-22T08:48:15.431647Z"
    }
   },
   "outputs": [],
   "source": [
    "planeNormals[0].dot(points[3])"
   ]
  },
  {
   "cell_type": "code",
   "execution_count": null,
   "id": "1658d1fa",
   "metadata": {
    "ExecuteTime": {
     "end_time": "2021-09-22T08:48:15.605605Z",
     "start_time": "2021-09-22T08:48:15.601349Z"
    }
   },
   "outputs": [],
   "source": [
    "outputTests = linAlgHelper.getPointDistances2PlaneNormal(points[None,:,:], planeNormals[None,:,:])\n",
    "outputTests"
   ]
  },
  {
   "cell_type": "code",
   "execution_count": null,
   "id": "a4ab1dc5",
   "metadata": {
    "ExecuteTime": {
     "end_time": "2021-09-22T08:48:15.824947Z",
     "start_time": "2021-09-22T08:48:15.820469Z"
    }
   },
   "outputs": [],
   "source": [
    "#irgendeiner negativ --> ausserhalb\n",
    "(torch.tanh(outputTests*10)+1).prod(dim=2)"
   ]
  },
  {
   "cell_type": "code",
   "execution_count": null,
   "id": "cc2716e6",
   "metadata": {
    "ExecuteTime": {
     "end_time": "2021-09-22T08:48:16.010037Z",
     "start_time": "2021-09-22T08:48:16.005340Z"
    }
   },
   "outputs": [],
   "source": [
    "hardCutOff = torch.sigmoid((outputTests+0.01)*256).prod(dim=2) #route all point-losses through this in the end\n",
    "softCutOff = torch.sigmoid((outputTests+0.01)).prod(dim=2) #route all point-losses through this in the end if inner loss is high\n",
    "print(hardCutOff)\n",
    "print(hardCutOff*softCutOff)"
   ]
  },
  {
   "cell_type": "code",
   "execution_count": null,
   "id": "374c8194",
   "metadata": {
    "ExecuteTime": {
     "end_time": "2021-09-22T08:48:16.191092Z",
     "start_time": "2021-09-22T08:48:16.185111Z"
    }
   },
   "outputs": [],
   "source": [
    "#constrain boundarys to build a convex volume\n",
    "planeNormals[0,0].clamp(-99999,-0.01)\n",
    "planeNormals[3,0].clamp(0.01,99999)\n",
    "planeNormals[1,1].clamp(-99999,-0.01)\n",
    "planeNormals[4,1].clamp(0.01,99999)\n",
    "planeNormals[2,2].clamp(-99999,-0.01)\n",
    "planeNormals[5,2].clamp(0.01,99999)"
   ]
  },
  {
   "cell_type": "markdown",
   "id": "3f0ddb2d",
   "metadata": {},
   "source": [
    "# pressure to expand the boundary:\n",
    "win for volume  \n",
    "win for every matched point * boundary  \n",
    "loss for every unmatched point * boundary   \n",
    "\n",
    "cycle through big/small weigths in win/loss"
   ]
  },
  {
   "cell_type": "markdown",
   "id": "7ab9fcbd",
   "metadata": {},
   "source": [
    "# build the Volume"
   ]
  },
  {
   "cell_type": "code",
   "execution_count": null,
   "id": "3c73ce66",
   "metadata": {
    "ExecuteTime": {
     "end_time": "2021-09-24T09:48:02.028746Z",
     "start_time": "2021-09-24T09:48:02.014282Z"
    }
   },
   "outputs": [],
   "source": [
    "\n",
    "\n",
    "class convexNeuralVolume(nn.Module):\n",
    "    def __init__(self, center= torch.tensor([0.,0.,0.], requires_grad=True), model=SIREN([3,32,32,1])):\n",
    "        super(convexNeuralVolume,self).__init__()\n",
    "        self.bounds= nn.Parameter(torch.tensor([[-1.,0.,0.],[0,-1,0.],[0.,0.,-1.],[1.,0.,0.],[0.,1,0.], [0.,0.,1]], requires_grad=True).cuda())\n",
    "        self.center = nn.Parameter(center.cuda())\n",
    "        self.model = model.cuda()\n",
    "        #self.shapeCode = torch.rand((1,32),requires_grad=True)\n",
    "    \n",
    "    def forwardBad(self,x, camPos, points):\n",
    "        centered_points = points-self.center\n",
    "        #points are more or less the target and input for the boundary computation\n",
    "        inputVectorsXYZ = createInputVector_planeHitModel(self.center, camPos, x)\n",
    "        inputVectorsTAR = linAlgHelper.asSpherical(vectors)\n",
    "        '''forward pass input: NormedCameraVectors_WorldCoord x [Number,xyz]; Vectors are already preselected for hitting near the bounds (bounds+constants) - maybe by lsh'''\n",
    "        boundsTest = linAlgHelper.getPointDistances2PlaneNormal(centered_points[None,:,:], self.bounds[None,:,:])\n",
    "        hardCutOff = torch.sigmoid((boundsTest+0.01)*256).prod(dim=2) #route all point-losses through this in the end\n",
    "        softCutOff = torch.sigmoid((boundsTest+0.01)).prod(dim=2) #route all point-losses through this in the end if inner loss is high\n",
    "        distances = self.model(circular2sinCos(inputVectorsTAR))\n",
    "        targetDistances = ((centered_points-inputVectorsXYZ)**2).sum(dim=1)**0.5\n",
    "        error = -softCutOff.sum() +(40*abs(distances-targetDistances)*hardCutOff*softCutOff).sum()\n",
    "        return distances, error\n",
    "    \n",
    "    def forward(self,x):\n",
    "        centered_points = x-self.center\n",
    "        inputVectorsTAR = linAlgHelper.asSpherical(centered_points)\n",
    "        #ensure a valid convex bound that is not 0\n",
    "        with torch.no_grad():\n",
    "            self.bounds[0,0].clamp(-99999,-0.01)\n",
    "            self.bounds[3,0].clamp(0.01,99999)\n",
    "            self.bounds[1,1].clamp(-99999,-0.01)\n",
    "            self.bounds[4,1].clamp(0.01,99999)\n",
    "            self.bounds[2,2].clamp(-99999,-0.01)\n",
    "            self.bounds[5,2].clamp(0.01,99999)\n",
    "        '''forward pass input: NormedCameraVectors_WorldCoord x [Number,xyz]; Vectors are already preselected for hitting near the bounds (bounds+constants) - maybe by lsh'''\n",
    "        boundsTest = linAlgHelper.getPointDistances2PlaneNormal(centered_points[None,:,:], self.bounds[None,:,:])\n",
    "        hardCutOff = torch.sigmoid((boundsTest+0.01)*256).prod(dim=2) #route all point-losses through this in the end\n",
    "        softCutOff = torch.sigmoid((boundsTest+0.01)).prod(dim=2) #route all point-losses through this in the end if inner loss is high\n",
    "        modelInput = circular2sinCos(inputVectorsTAR[:,:2])\n",
    "        #print(modelInput.shape)\n",
    "        distances = self.model(modelInput)[:,0]\n",
    "        error = -softCutOff.sum() +(40*abs(distances-inputVectorsTAR[:,2])*(hardCutOff*softCutOff)[0,:]).sum()\n",
    "        return distances.detach().abs(), error\n",
    "    \n",
    "    def mesh(self, simple=True):\n",
    "        ball = tm.primitives.Capsule(radius=1., height=0.,sections=100)\n",
    "        sphericalInput = linAlgHelper.asSpherical(torch.tensor(ball.vertices).float())[:,:2].cuda()\n",
    "        circularOut = circular2sinCos(sphericalInput)\n",
    "        with torch.no_grad():\n",
    "            if simple:\n",
    "                distances = self.model(circularOut.cuda()).abs()\n",
    "            else:\n",
    "                circularOut = torch.cat((circularOut,torch.ones_like(circularOut[:,0])*0.005),dim=1)\n",
    "                distances = self.model(circularOut)\n",
    "            predictedSpherical = torch.cat((sphericalInput,distances),dim=1)\n",
    "            points = linAlgHelper.asCartesian(predictedSpherical).cpu()\n",
    "            #distances2Bounds = linAlgHelper.getPointDistances2PlaneNormal(points[None,:,:], self.bounds[None,:,:])\n",
    "            #wenn etwas negativ ist, berechne das dreieck ankathete-bound, hypotenusenvektor-punkt\n",
    "        \n",
    "        return points, torch.tensor(ball.faces)\n",
    "        "
   ]
  },
  {
   "cell_type": "code",
   "execution_count": null,
   "id": "03b7bdac",
   "metadata": {
    "ExecuteTime": {
     "end_time": "2021-09-22T08:48:23.256800Z",
     "start_time": "2021-09-22T08:48:23.232321Z"
    }
   },
   "outputs": [],
   "source": [
    "ball = tm.primitives.Capsule(radius=1., height=0.,sections=100)\n",
    "sphericalInput = linAlgHelper.asSpherical(torch.tensor(ball.vertices).float())[:,:2]\n",
    "circularOut = circular2sinCos(sphericalInput)\n",
    "circularOut"
   ]
  },
  {
   "cell_type": "code",
   "execution_count": null,
   "id": "4027f9ad",
   "metadata": {
    "ExecuteTime": {
     "end_time": "2021-09-22T08:48:24.134915Z",
     "start_time": "2021-09-22T08:48:24.131246Z"
    }
   },
   "outputs": [],
   "source": [
    "sphericalInput.min(dim=0)"
   ]
  },
  {
   "cell_type": "code",
   "execution_count": null,
   "id": "ef547161",
   "metadata": {
    "ExecuteTime": {
     "end_time": "2021-09-22T08:48:24.927520Z",
     "start_time": "2021-09-22T08:48:24.760729Z"
    }
   },
   "outputs": [],
   "source": [
    "plt.scatter(torch.arange(1000),torch.sin(torch.linspace(-np.pi,np.pi,1000)))\n",
    "plt.scatter(torch.arange(1000),torch.cos(torch.linspace(-np.pi,np.pi,1000)))"
   ]
  },
  {
   "cell_type": "markdown",
   "id": "8213b26c",
   "metadata": {},
   "source": [
    "# train one convex Volume"
   ]
  },
  {
   "cell_type": "code",
   "execution_count": 4,
   "id": "733129a6",
   "metadata": {
    "ExecuteTime": {
     "end_time": "2021-09-29T09:10:45.007118Z",
     "start_time": "2021-09-29T09:10:45.004767Z"
    }
   },
   "outputs": [],
   "source": [
    "import trimesh as tm"
   ]
  },
  {
   "cell_type": "code",
   "execution_count": 5,
   "id": "0c68a0c2",
   "metadata": {
    "ExecuteTime": {
     "end_time": "2021-09-29T09:10:46.042225Z",
     "start_time": "2021-09-29T09:10:45.945475Z"
    }
   },
   "outputs": [
    {
     "ename": "NameError",
     "evalue": "name 'convexNeuralVolume' is not defined",
     "output_type": "error",
     "traceback": [
      "\u001b[0;31m---------------------------------------------------------------------------\u001b[0m",
      "\u001b[0;31mNameError\u001b[0m                                 Traceback (most recent call last)",
      "\u001b[0;32m<ipython-input-5-9531436c13e0>\u001b[0m in \u001b[0;36m<module>\u001b[0;34m\u001b[0m\n\u001b[0;32m----> 1\u001b[0;31m \u001b[0mvolume\u001b[0m \u001b[0;34m=\u001b[0m \u001b[0mconvexNeuralVolume\u001b[0m\u001b[0;34m(\u001b[0m\u001b[0mmodel\u001b[0m\u001b[0;34m=\u001b[0m\u001b[0mSIREN\u001b[0m\u001b[0;34m(\u001b[0m\u001b[0;34m[\u001b[0m\u001b[0;36m3\u001b[0m\u001b[0;34m,\u001b[0m\u001b[0;36m32\u001b[0m\u001b[0;34m,\u001b[0m\u001b[0;36m32\u001b[0m\u001b[0;34m,\u001b[0m\u001b[0;36m1\u001b[0m\u001b[0;34m]\u001b[0m\u001b[0;34m,\u001b[0m \u001b[0mdynScale\u001b[0m\u001b[0;34m=\u001b[0m\u001b[0;32mFalse\u001b[0m\u001b[0;34m)\u001b[0m\u001b[0;34m)\u001b[0m\u001b[0;34m\u001b[0m\u001b[0;34m\u001b[0m\u001b[0m\n\u001b[0m\u001b[1;32m      2\u001b[0m \u001b[0;32mwith\u001b[0m \u001b[0mtorch\u001b[0m\u001b[0;34m.\u001b[0m\u001b[0mno_grad\u001b[0m\u001b[0;34m(\u001b[0m\u001b[0;34m)\u001b[0m\u001b[0;34m:\u001b[0m\u001b[0;34m\u001b[0m\u001b[0;34m\u001b[0m\u001b[0m\n\u001b[1;32m      3\u001b[0m     \u001b[0mobjects\u001b[0m \u001b[0;34m=\u001b[0m \u001b[0mpyredner\u001b[0m\u001b[0;34m.\u001b[0m\u001b[0mload_obj\u001b[0m\u001b[0;34m(\u001b[0m\u001b[0;34m'/home/jhm/Documents/redner-master/tutorials/teapot.obj'\u001b[0m\u001b[0;34m,\u001b[0m \u001b[0mreturn_objects\u001b[0m\u001b[0;34m=\u001b[0m\u001b[0;32mTrue\u001b[0m\u001b[0;34m)\u001b[0m\u001b[0;34m\u001b[0m\u001b[0;34m\u001b[0m\u001b[0m\n",
      "\u001b[0;31mNameError\u001b[0m: name 'convexNeuralVolume' is not defined"
     ]
    }
   ],
   "source": [
    "volume = convexNeuralVolume(model=SIREN([3,32,32,1], dynScale=False))\n",
    "with torch.no_grad():\n",
    "    objects = pyredner.load_obj('/home/jhm/Documents/redner-master/tutorials/teapot.obj', return_objects=True)\n"
   ]
  },
  {
   "cell_type": "code",
   "execution_count": 6,
   "id": "de2a2bee",
   "metadata": {
    "ExecuteTime": {
     "end_time": "2021-09-29T09:10:53.660670Z",
     "start_time": "2021-09-29T09:10:53.652370Z"
    }
   },
   "outputs": [
    {
     "ename": "NameError",
     "evalue": "name 'volume' is not defined",
     "output_type": "error",
     "traceback": [
      "\u001b[0;31m---------------------------------------------------------------------------\u001b[0m",
      "\u001b[0;31mNameError\u001b[0m                                 Traceback (most recent call last)",
      "\u001b[0;32m<ipython-input-6-550e94792ce6>\u001b[0m in \u001b[0;36m<module>\u001b[0;34m\u001b[0m\n\u001b[1;32m      1\u001b[0m \u001b[0;32mimport\u001b[0m \u001b[0mopen3d\u001b[0m \u001b[0;32mas\u001b[0m \u001b[0mo3d\u001b[0m\u001b[0;34m\u001b[0m\u001b[0;34m\u001b[0m\u001b[0m\n\u001b[1;32m      2\u001b[0m \u001b[0;31m# initial view\u001b[0m\u001b[0;34m\u001b[0m\u001b[0;34m\u001b[0m\u001b[0;34m\u001b[0m\u001b[0m\n\u001b[0;32m----> 3\u001b[0;31m \u001b[0mvertices\u001b[0m\u001b[0;34m,\u001b[0m \u001b[0mfaces\u001b[0m \u001b[0;34m=\u001b[0m \u001b[0mvolume\u001b[0m\u001b[0;34m.\u001b[0m\u001b[0mmesh\u001b[0m\u001b[0;34m(\u001b[0m\u001b[0;34m)\u001b[0m\u001b[0;34m\u001b[0m\u001b[0;34m\u001b[0m\u001b[0m\n\u001b[0m\u001b[1;32m      4\u001b[0m mesh = o3d.geometry.TriangleMesh(vertices=o3d.utility.Vector3dVector(np.array(vertices)),\n\u001b[1;32m      5\u001b[0m                           triangles= o3d.utility.Vector3iVector(faces))\n",
      "\u001b[0;31mNameError\u001b[0m: name 'volume' is not defined"
     ]
    }
   ],
   "source": [
    "import open3d as o3d\n",
    "# initial view\n",
    "vertices, faces = volume.mesh()\n",
    "mesh = o3d.geometry.TriangleMesh(vertices=o3d.utility.Vector3dVector(np.array(vertices)),\n",
    "                          triangles= o3d.utility.Vector3iVector(faces))\n",
    "mesh.compute_vertex_normals()\n",
    "#mesh.compute_triangle_normals()\n",
    "mesh.paint_uniform_color([1, 0.706, 0])\n",
    "o3d.visualization.draw_geometries([mesh])"
   ]
  },
  {
   "cell_type": "raw",
   "id": "5cd64ea3",
   "metadata": {},
   "source": [
    "volume.cuda()\n",
    "params = [{'params': list(volume.parameters())[0], 'lr': 0.01 },\n",
    "          {'params': list(volume.parameters())[1], 'lr': 0.001 },\n",
    "         {'params': list(volume.parameters())[2:], 'lr': 0.0001 }]\n",
    "\n",
    "optimizer = torch.optim.Adam(params)\n",
    "scheduler = torch.optim.lr_scheduler.ExponentialLR(optimizer, gamma=0.8)\n",
    "for iter_idx in range(3000):\n",
    "        optimizer.zero_grad()\n",
    "        with torch.no_grad():\n",
    "            img, pos, mask, cam = getView(objects)\n",
    "        distances, error = volume.forward(pos[mask].detach().reshape(-1,3).cuda())\n",
    "        if torch.isnan(distances).any():\n",
    "            print(\"NaN detected\")\n",
    "            break\n",
    "        if not torch.isfinite(distances).all():\n",
    "            print(\"inf detected\")\n",
    "            break\n",
    "        #with torch.autograd.detect_anomaly():\n",
    "        error.backward()\n",
    "        optimizer.step()\n",
    "        if iter_idx % 200==0:\n",
    "            scheduler.step()\n",
    "            print(\"lr reduction\")\n",
    "            for param_group in optimizer.param_groups:\n",
    "                print(param_group[\"lr\"])\n",
    "        if iter_idx % 100 == 0:\n",
    "            log_str = \"loss is: {}\".format(error.item())\n",
    "            print(log_str)"
   ]
  },
  {
   "cell_type": "code",
   "execution_count": null,
   "id": "50820f91",
   "metadata": {
    "ExecuteTime": {
     "end_time": "2021-09-22T08:48:36.371363Z",
     "start_time": "2021-09-22T08:48:36.357258Z"
    }
   },
   "outputs": [],
   "source": [
    "pos[mask].detach()"
   ]
  },
  {
   "cell_type": "code",
   "execution_count": null,
   "id": "80fc46a9",
   "metadata": {},
   "outputs": [],
   "source": []
  },
  {
   "cell_type": "code",
   "execution_count": null,
   "id": "4a5ae157",
   "metadata": {
    "ExecuteTime": {
     "end_time": "2021-09-22T08:48:42.210346Z",
     "start_time": "2021-09-22T08:48:42.151104Z"
    }
   },
   "outputs": [],
   "source": [
    "vertices, faces = volume.mesh()\n",
    "mesh = o3d.geometry.TriangleMesh(vertices=o3d.utility.Vector3dVector(np.array(vertices)),\n",
    "                          triangles= o3d.utility.Vector3iVector(faces))\n",
    "mesh.compute_vertex_normals()\n",
    "#mesh.compute_triangle_normals()\n",
    "mesh.paint_uniform_color([1, 0.706, 0])\n",
    "pointcloud = o3d.geometry.PointCloud(points=o3d.utility.Vector3dVector(pos[mask].detach().cpu()))\n",
    "o3d.visualization.draw_geometries([pointcloud,mesh])"
   ]
  },
  {
   "cell_type": "code",
   "execution_count": null,
   "id": "ca19a94e",
   "metadata": {},
   "outputs": [],
   "source": [
    "pointcloud = o3d.geometry.PointCloud(points=o3d.utility.Vector3dVector(pos[mask].detach().cpu()))\n",
    "o3d.visualization.draw_geometries([pointcloud,mesh])"
   ]
  },
  {
   "cell_type": "code",
   "execution_count": null,
   "id": "a77fb7b7",
   "metadata": {},
   "outputs": [],
   "source": [
    "volume.bounds"
   ]
  },
  {
   "cell_type": "code",
   "execution_count": null,
   "id": "589bdf93",
   "metadata": {},
   "outputs": [],
   "source": [
    "volume.center"
   ]
  },
  {
   "cell_type": "code",
   "execution_count": null,
   "id": "f1b45df3",
   "metadata": {},
   "outputs": [],
   "source": []
  },
  {
   "cell_type": "code",
   "execution_count": null,
   "id": "61093d4b",
   "metadata": {},
   "outputs": [],
   "source": []
  },
  {
   "cell_type": "code",
   "execution_count": null,
   "id": "91c81599",
   "metadata": {},
   "outputs": [],
   "source": []
  },
  {
   "cell_type": "code",
   "execution_count": null,
   "id": "3a0b6dbe",
   "metadata": {},
   "outputs": [],
   "source": []
  },
  {
   "cell_type": "code",
   "execution_count": null,
   "id": "577b448e",
   "metadata": {},
   "outputs": [],
   "source": []
  },
  {
   "cell_type": "code",
   "execution_count": null,
   "id": "6ddb13b2",
   "metadata": {},
   "outputs": [],
   "source": [
    "paraSum = 0\n",
    "for para in volume.parameters():\n",
    "    paraSum += para.numel()\n",
    "paraSum"
   ]
  },
  {
   "cell_type": "code",
   "execution_count": null,
   "id": "b547b520",
   "metadata": {},
   "outputs": [],
   "source": [
    "paraSum = 0\n",
    "for para in volume.model.parameters():\n",
    "    paraSum += para.numel()\n",
    "paraSum"
   ]
  },
  {
   "cell_type": "code",
   "execution_count": null,
   "id": "d59b7d85",
   "metadata": {},
   "outputs": [],
   "source": []
  },
  {
   "cell_type": "code",
   "execution_count": null,
   "id": "122e00b7",
   "metadata": {},
   "outputs": [],
   "source": []
  },
  {
   "cell_type": "code",
   "execution_count": null,
   "id": "10ac7e14",
   "metadata": {},
   "outputs": [],
   "source": [
    "import open3d as o3d\n",
    "pcd=o3d.geometry.PointCloud(points=o3d.utility.Vector3dVector(torch.rand((15,3))))"
   ]
  },
  {
   "cell_type": "code",
   "execution_count": null,
   "id": "690d141c",
   "metadata": {},
   "outputs": [],
   "source": [
    "o3d.visualization.draw_geometries([pcd])\n"
   ]
  },
  {
   "cell_type": "code",
   "execution_count": null,
   "id": "262960e8",
   "metadata": {},
   "outputs": [],
   "source": []
  },
  {
   "cell_type": "markdown",
   "id": "2b2013ce",
   "metadata": {},
   "source": [
    "# einzeltest des bounds adjustments"
   ]
  },
  {
   "cell_type": "markdown",
   "id": "170fc07b",
   "metadata": {},
   "source": [
    "Drei voneinander unabhängige bounds gehen gut, die 4 scheitert. Warum?  \n",
    "These: Die Ebenen betrachten durch den soft-cutoff auch die Punkte, die die Rückseitenebene blocken sollte  \n",
    "- nur die Punkte im Volumen beim inner-loss betrachten  \n",
    "- nur die Punkte ausserhalb der betrachteten Ebene beim Gain betrachten"
   ]
  },
  {
   "cell_type": "code",
   "execution_count": 7,
   "id": "3f559e9b",
   "metadata": {
    "ExecuteTime": {
     "end_time": "2021-09-29T09:11:00.029462Z",
     "start_time": "2021-09-29T09:10:59.996419Z"
    }
   },
   "outputs": [],
   "source": [
    "#center in 0,0, nur eine bound(plane)\n",
    "\n",
    "planeNr = 6\n",
    "\n",
    "targetbound = torch.Tensor([[0.,0.5,1.],[0.,1.,0.],[2.,0.,0.],[0.,-1.4,0.],[-1.,0.,0.],[0.,0.,-1.]])\n",
    "data = torch.rand(5000,3)*6.-3.\n",
    "boundsTest = linAlgHelper.getPointDistances2PlaneNormal(data[None,:,:], targetbound[None,:,:])\n",
    "value = torch.rand(5000,1) \n",
    "value = torch.ones(5000,1)\n",
    "value[((boundsTest[0,:,:] > 0)*1).sum(dim=1)==planeNr,:] = -value[((boundsTest[0,:,:] > 0)*1).sum(dim=1)==planeNr,:]\n",
    "bound = torch.rand((planeNr,3), requires_grad=True)\n",
    "optim = torch.optim.Adam([bound], lr=0.1)"
   ]
  },
  {
   "cell_type": "code",
   "execution_count": 8,
   "id": "09f2a709",
   "metadata": {
    "ExecuteTime": {
     "end_time": "2021-09-29T09:11:07.001969Z",
     "start_time": "2021-09-29T09:11:01.094356Z"
    }
   },
   "outputs": [
    {
     "name": "stdout",
     "output_type": "stream",
     "text": [
      "tensor([[ 0.9593,  0.7738, -0.0600],\n",
      "        [ 0.4162, -0.0670,  0.5548],\n",
      "        [ 0.1885,  0.3352,  0.3370],\n",
      "        [ 0.2046,  0.7429, -0.0334],\n",
      "        [ 0.2731,  0.6013, -0.0269],\n",
      "        [ 0.3220,  0.9989,  0.3358]]) gainsMissed:  605.0 innerLoss:  2009.0\n",
      "tensor([[ 5.1949e-03, -5.8108e-03, -1.0045e+00],\n",
      "        [ 1.8453e-02, -1.3918e+00, -4.1656e-05],\n",
      "        [-1.7090e-02,  4.8633e-01,  9.9434e-01],\n",
      "        [ 3.6044e-03,  1.0042e+00, -4.8735e-02],\n",
      "        [-1.0399e+00, -7.3109e-02,  1.3574e-02],\n",
      "        [ 2.0062e+00, -2.3574e-02,  1.3282e-02]]) gainsMissed:  0.0 innerLoss:  0.0\n",
      "tensor([[ 5.1949e-03, -5.8108e-03, -1.0045e+00],\n",
      "        [ 1.8453e-02, -1.3918e+00, -4.1656e-05],\n",
      "        [-1.7090e-02,  4.8633e-01,  9.9434e-01],\n",
      "        [ 3.6044e-03,  1.0042e+00, -4.8735e-02],\n",
      "        [-1.0399e+00, -7.3109e-02,  1.3574e-02],\n",
      "        [ 2.0062e+00, -2.3574e-02,  1.3282e-02]]) gainsMissed:  0.0 innerLoss:  0.0\n",
      "tensor([[ 5.1949e-03, -5.8108e-03, -1.0045e+00],\n",
      "        [ 1.8453e-02, -1.3918e+00, -4.1656e-05],\n",
      "        [-1.7090e-02,  4.8633e-01,  9.9434e-01],\n",
      "        [ 3.6044e-03,  1.0042e+00, -4.8735e-02],\n",
      "        [-1.0399e+00, -7.3109e-02,  1.3574e-02],\n",
      "        [ 2.0062e+00, -2.3574e-02,  1.3282e-02]]) gainsMissed:  0.0 innerLoss:  0.0\n",
      "tensor([[ 5.1949e-03, -5.8108e-03, -1.0045e+00],\n",
      "        [ 1.8453e-02, -1.3918e+00, -4.1656e-05],\n",
      "        [-1.7090e-02,  4.8633e-01,  9.9434e-01],\n",
      "        [ 3.6044e-03,  1.0042e+00, -4.8735e-02],\n",
      "        [-1.0399e+00, -7.3109e-02,  1.3574e-02],\n",
      "        [ 2.0062e+00, -2.3574e-02,  1.3282e-02]]) gainsMissed:  0.0 innerLoss:  0.0\n"
     ]
    },
    {
     "ename": "KeyboardInterrupt",
     "evalue": "",
     "output_type": "error",
     "traceback": [
      "\u001b[0;31m---------------------------------------------------------------------------\u001b[0m",
      "\u001b[0;31mKeyboardInterrupt\u001b[0m                         Traceback (most recent call last)",
      "\u001b[0;32m<ipython-input-8-e8ca51fdcae5>\u001b[0m in \u001b[0;36m<module>\u001b[0;34m\u001b[0m\n\u001b[1;32m     27\u001b[0m     \u001b[0;31m#bestSeparation = -((-value)*(insideError-0.5)*importance**2)[near]\u001b[0m\u001b[0;34m\u001b[0m\u001b[0;34m\u001b[0m\u001b[0;34m\u001b[0m\u001b[0m\n\u001b[1;32m     28\u001b[0m     \u001b[0merror\u001b[0m \u001b[0;34m=\u001b[0m \u001b[0merrorGreed\u001b[0m\u001b[0;34m.\u001b[0m\u001b[0msum\u001b[0m\u001b[0;34m(\u001b[0m\u001b[0;34m)\u001b[0m \u001b[0;34m+\u001b[0m\u001b[0minnerLoss\u001b[0m\u001b[0;34m.\u001b[0m\u001b[0msum\u001b[0m\u001b[0;34m(\u001b[0m\u001b[0;34m)\u001b[0m\u001b[0;31m#+ bestSeparation.sum()\u001b[0m\u001b[0;34m\u001b[0m\u001b[0;34m\u001b[0m\u001b[0m\n\u001b[0;32m---> 29\u001b[0;31m     \u001b[0merror\u001b[0m\u001b[0;34m.\u001b[0m\u001b[0mbackward\u001b[0m\u001b[0;34m(\u001b[0m\u001b[0;34m)\u001b[0m\u001b[0;34m\u001b[0m\u001b[0;34m\u001b[0m\u001b[0m\n\u001b[0m\u001b[1;32m     30\u001b[0m     \u001b[0moptim\u001b[0m\u001b[0;34m.\u001b[0m\u001b[0mstep\u001b[0m\u001b[0;34m(\u001b[0m\u001b[0;34m)\u001b[0m\u001b[0;34m\u001b[0m\u001b[0;34m\u001b[0m\u001b[0m\n\u001b[1;32m     31\u001b[0m     \u001b[0;31m# gradients should be fine, but the size of the error will be all over the place\u001b[0m\u001b[0;34m\u001b[0m\u001b[0;34m\u001b[0m\u001b[0;34m\u001b[0m\u001b[0m\n",
      "\u001b[0;32m~/.local/lib/python3.6/site-packages/torch/_tensor.py\u001b[0m in \u001b[0;36mbackward\u001b[0;34m(self, gradient, retain_graph, create_graph, inputs)\u001b[0m\n\u001b[1;32m    253\u001b[0m                 \u001b[0mcreate_graph\u001b[0m\u001b[0;34m=\u001b[0m\u001b[0mcreate_graph\u001b[0m\u001b[0;34m,\u001b[0m\u001b[0;34m\u001b[0m\u001b[0;34m\u001b[0m\u001b[0m\n\u001b[1;32m    254\u001b[0m                 inputs=inputs)\n\u001b[0;32m--> 255\u001b[0;31m         \u001b[0mtorch\u001b[0m\u001b[0;34m.\u001b[0m\u001b[0mautograd\u001b[0m\u001b[0;34m.\u001b[0m\u001b[0mbackward\u001b[0m\u001b[0;34m(\u001b[0m\u001b[0mself\u001b[0m\u001b[0;34m,\u001b[0m \u001b[0mgradient\u001b[0m\u001b[0;34m,\u001b[0m \u001b[0mretain_graph\u001b[0m\u001b[0;34m,\u001b[0m \u001b[0mcreate_graph\u001b[0m\u001b[0;34m,\u001b[0m \u001b[0minputs\u001b[0m\u001b[0;34m=\u001b[0m\u001b[0minputs\u001b[0m\u001b[0;34m)\u001b[0m\u001b[0;34m\u001b[0m\u001b[0;34m\u001b[0m\u001b[0m\n\u001b[0m\u001b[1;32m    256\u001b[0m \u001b[0;34m\u001b[0m\u001b[0m\n\u001b[1;32m    257\u001b[0m     \u001b[0;32mdef\u001b[0m \u001b[0mregister_hook\u001b[0m\u001b[0;34m(\u001b[0m\u001b[0mself\u001b[0m\u001b[0;34m,\u001b[0m \u001b[0mhook\u001b[0m\u001b[0;34m)\u001b[0m\u001b[0;34m:\u001b[0m\u001b[0;34m\u001b[0m\u001b[0;34m\u001b[0m\u001b[0m\n",
      "\u001b[0;32m~/.local/lib/python3.6/site-packages/torch/autograd/__init__.py\u001b[0m in \u001b[0;36mbackward\u001b[0;34m(tensors, grad_tensors, retain_graph, create_graph, grad_variables, inputs)\u001b[0m\n\u001b[1;32m    147\u001b[0m     Variable._execution_engine.run_backward(\n\u001b[1;32m    148\u001b[0m         \u001b[0mtensors\u001b[0m\u001b[0;34m,\u001b[0m \u001b[0mgrad_tensors_\u001b[0m\u001b[0;34m,\u001b[0m \u001b[0mretain_graph\u001b[0m\u001b[0;34m,\u001b[0m \u001b[0mcreate_graph\u001b[0m\u001b[0;34m,\u001b[0m \u001b[0minputs\u001b[0m\u001b[0;34m,\u001b[0m\u001b[0;34m\u001b[0m\u001b[0;34m\u001b[0m\u001b[0m\n\u001b[0;32m--> 149\u001b[0;31m         allow_unreachable=True, accumulate_grad=True)  # allow_unreachable flag\n\u001b[0m\u001b[1;32m    150\u001b[0m \u001b[0;34m\u001b[0m\u001b[0m\n\u001b[1;32m    151\u001b[0m \u001b[0;34m\u001b[0m\u001b[0m\n",
      "\u001b[0;31mKeyboardInterrupt\u001b[0m: "
     ]
    }
   ],
   "source": [
    "for i in range(10000):\n",
    "    optim.zero_grad()\n",
    "    boundsTest = linAlgHelper.getPointDistances2PlaneNormal(data[None,:,:], bound[None,:,:])[0]\n",
    "    with torch.no_grad():\n",
    "        inside = boundsTest>0\n",
    "        near = abs(boundsTest)>0.15 #könnte von der länge der ebene abhängig gemacht werden\n",
    "        importance = 0.1/(0.1+abs(boundsTest)) #könnte von der länge der ebene abhängig gemacht werden\n",
    "        completeInner = inside.sum(dim=1)==planeNr\n",
    "        \n",
    "        bound[0,0].clamp(-99999,-0.01)\n",
    "        bound[3,0].clamp(0.01,99999)\n",
    "        bound[1,1].clamp(-99999,-0.01)\n",
    "        bound[4,1].clamp(0.01,99999)\n",
    "        bound[2,2].clamp(-99999,-0.01)\n",
    "        bound[5,2].clamp(0.01,99999)\n",
    "    #hardCutOff = torch.sigmoid((boundsTest+0.01)*256).prod(dim=1) #route all point-losses through this in the end\n",
    "    insideError = torch.sigmoid(boundsTest*8) #könnte von der länge der ebene abhängig gemacht werden\n",
    "    valueMissed = -value*(1-inside*1)\n",
    "    errorGreed = (((1.-insideError)*valueMissed*importance)[value[:,0]<0])\n",
    "    # for the inner loss: errors near a plane are important, but the gradient of the error should shrink, the nearer it gets\n",
    "    wrongValues = value*completeInner[:,None]\n",
    "    innerLoss= (importance**2*wrongValues*insideError)[value[:,0]>0]\n",
    "    #outside = 1.-hardCutOff[0,:]\n",
    "    #greedyGains = torch.relu(-value[:,0]*outside* (1.-softCutOff[0,:])).sum() #vorhersagen aussen erreichen\n",
    "    #innerLoss = torch.relu(value[:,0]*((hardCutOff*softCutOff)[0,:])).sum()  #fehler innen vermeiden\n",
    "    #expansionGain = - #expansionsdrang\n",
    "    #bestSeparation = -((-value)*(insideError-0.5)*importance**2)[near]\n",
    "    error = errorGreed.sum() +innerLoss.sum()#+ bestSeparation.sum()\n",
    "    error.backward()\n",
    "    optim.step()\n",
    "    # gradients should be fine, but the size of the error will be all over the place\n",
    "    #measurement should be done by \n",
    "    with torch.no_grad():\n",
    "        wrongValueInside = wrongValues[value[:,0]>0].sum()\n",
    "        rightValuesOutside = valueMissed[value[:,0]<0].sum()\n",
    "        \n",
    "    if i % 500 == 0:\n",
    "            print(bound.detach(), \"gainsMissed: \",rightValuesOutside.item(),\"innerLoss: \",wrongValueInside.item())"
   ]
  },
  {
   "cell_type": "markdown",
   "id": "e50a9802",
   "metadata": {},
   "source": [
    "Als gradienten brauchen die inner-losses den folgenden distanzskalierungsfaktor:"
   ]
  },
  {
   "cell_type": "code",
   "execution_count": null,
   "id": "2476edba",
   "metadata": {
    "ExecuteTime": {
     "end_time": "2021-09-22T14:34:02.262936Z",
     "start_time": "2021-09-22T14:34:02.121812Z"
    }
   },
   "outputs": [],
   "source": [
    "dis = torch.linspace(-1,1.,100)\n",
    "plt.plot(dis,torch.sigmoid((dis)*8))#*torch.sigmoid(-dis*0.2))"
   ]
  },
  {
   "cell_type": "code",
   "execution_count": null,
   "id": "626d95a7",
   "metadata": {
    "ExecuteTime": {
     "end_time": "2021-09-22T14:34:04.593249Z",
     "start_time": "2021-09-22T14:34:04.452322Z"
    }
   },
   "outputs": [],
   "source": [
    "plt.plot(dis,0.1/(0.1+dis))"
   ]
  },
  {
   "cell_type": "code",
   "execution_count": null,
   "id": "f1bffb42",
   "metadata": {},
   "outputs": [],
   "source": []
  },
  {
   "cell_type": "code",
   "execution_count": null,
   "id": "bf7cec38",
   "metadata": {},
   "outputs": [],
   "source": []
  },
  {
   "cell_type": "code",
   "execution_count": null,
   "id": "eb6c7101",
   "metadata": {},
   "outputs": [],
   "source": []
  },
  {
   "cell_type": "markdown",
   "id": "c0c7087e",
   "metadata": {},
   "source": [
    "# Test mit verschiebbarem Zentrum"
   ]
  },
  {
   "cell_type": "code",
   "execution_count": null,
   "id": "e77b82ec",
   "metadata": {
    "ExecuteTime": {
     "end_time": "2021-09-22T08:49:38.859424Z",
     "start_time": "2021-09-22T08:49:38.819271Z"
    }
   },
   "outputs": [],
   "source": [
    "#center in 0,0, nur eine bound(plane)\n",
    "\n",
    "planeNr = 6\n",
    "\n",
    "targetbound = torch.Tensor([[0.,0.5,1.],[0.,1.,0.],[2.,0.,0.],[0.,-1.4,0.],[-1.,0.,0.],[0.,0.,-1.]])\n",
    "data = torch.rand(50000,3)*12.-6.\n",
    "\n",
    "boundsTest = linAlgHelper.getPointDistances2PlaneNormal(data[None,:,:], targetbound[None,:,:])\n",
    "targetCenter = torch.rand(1,3)*8.-4\n",
    "data = data+targetCenter\n",
    "value = torch.rand(50000,1)\n",
    "value[((boundsTest[0,:,:] > 0)*1).sum(dim=1)==planeNr,:] = -value[((boundsTest[0,:,:] > 0)*1).sum(dim=1)==planeNr,:]\n",
    "\n",
    "\n",
    "\n",
    "center = torch.rand((1,3)).cuda()\n",
    "bound = torch.rand((planeNr,3)).cuda()\n",
    "\n",
    "center.requires_grad = True\n",
    "bound.requires_grad = True\n",
    "\n",
    "data = data.cuda()\n",
    "value = value.cuda()\n",
    "\n",
    "optimBound = torch.optim.Adam([bound], lr=0.01)\n",
    "optimCenter = torch.optim.Adam([center], lr=0.1) #center sollte eventuell schneller wandern als die bounds um nicht zum 0 Volumen zu werden\n",
    "targetCenter"
   ]
  },
  {
   "cell_type": "code",
   "execution_count": null,
   "id": "54fa8d96",
   "metadata": {
    "ExecuteTime": {
     "end_time": "2021-09-22T08:49:57.538954Z",
     "start_time": "2021-09-22T08:49:42.229717Z"
    }
   },
   "outputs": [],
   "source": [
    "for i in range(1000):\n",
    "    optimBound.zero_grad()\n",
    "    optimCenter.zero_grad()\n",
    "    tempdata = data-center\n",
    "    boundsTest = linAlgHelper.getPointDistances2PlaneNormal(tempdata[None,:,:], bound[None,:,:])[0]\n",
    "    with torch.no_grad():\n",
    "        inside = boundsTest>0\n",
    "        near = abs(boundsTest)>0.15 #könnte von der länge der ebene abhängig gemacht werden\n",
    "        importance = 0.1/(0.1+abs(boundsTest)) #könnte von der länge der ebene abhängig gemacht werden\n",
    "        completeInner = inside.sum(dim=1)==planeNr\n",
    "        \n",
    "        bound[0,0].clamp(-99999,-0.01)\n",
    "        bound[3,0].clamp(0.01,99999)\n",
    "        bound[1,1].clamp(-99999,-0.01)\n",
    "        bound[4,1].clamp(0.01,99999)\n",
    "        bound[2,2].clamp(-99999,-0.01)\n",
    "        bound[5,2].clamp(0.01,99999)\n",
    "    #hardCutOff = torch.sigmoid((boundsTest+0.01)*256).prod(dim=1) #route all point-losses through this in the end\n",
    "    insideError = torch.sigmoid(boundsTest*8) #könnte von der länge der ebene abhängig gemacht werden\n",
    "    valueMissed = -value*(1-inside*1)\n",
    "    errorGreed = (((1.-insideError)*valueMissed*importance)[value[:,0]<0])\n",
    "    # for the inner loss: errors near a plane are important, but the gradient of the error should shrink, the nearer it gets\n",
    "    wrongValues = value*completeInner[:,None]\n",
    "    innerLoss= (importance**2*wrongValues*insideError)[value[:,0]>0]\n",
    "    #outside = 1.-hardCutOff[0,:]\n",
    "    #greedyGains = torch.relu(-value[:,0]*outside* (1.-softCutOff[0,:])).sum() #vorhersagen aussen erreichen\n",
    "    #innerLoss = torch.relu(value[:,0]*((hardCutOff*softCutOff)[0,:])).sum()  #fehler innen vermeiden\n",
    "    #expansionGain = - #expansionsdrang\n",
    "    #bestSeparation = -((-value)*(insideError-0.5)*importance**2)[near]\n",
    "    error = 10*errorGreed.sum() +innerLoss.sum()#+ bestSeparation.sum()\n",
    "    error.backward()\n",
    "    optimBound.step()\n",
    "    optimCenter.step()\n",
    "    # gradients should be fine, but the size of the error will be all over the place\n",
    "    #measurement should be done by \n",
    "    with torch.no_grad():\n",
    "        wrongValueInside = wrongValues[value[:,0]>0].sum()\n",
    "        rightValuesOutside = valueMissed[value[:,0]<0].sum()\n",
    "        \n",
    "    if i % 500 == 0:\n",
    "            print(bound.detach(), \"gainsMissed: \",rightValuesOutside.item(),\"innerLoss: \",wrongValueInside.item(), \" /n              center: \",center.detach())"
   ]
  },
  {
   "cell_type": "code",
   "execution_count": null,
   "id": "f939c717",
   "metadata": {
    "ExecuteTime": {
     "end_time": "2021-09-22T08:50:06.486203Z",
     "start_time": "2021-09-22T08:50:00.484232Z"
    }
   },
   "outputs": [],
   "source": [
    "vertices, faces = bound2Mesh2(bound.cpu())\n",
    "vertices = vertices + center.cpu().detach()\n",
    "ehCloud = bound2Pointcloud(bound.cpu(), center=center)\n",
    "mesh = o3d.geometry.TriangleMesh(vertices=o3d.utility.Vector3dVector(np.array(vertices)),\n",
    "                          triangles= o3d.utility.Vector3iVector(faces))\n",
    "mesh.compute_vertex_normals()\n",
    "mesh.orient_triangles()\n",
    "mesh.compute_triangle_normals()\n",
    "mesh.paint_uniform_color([1, 0.706, 0])\n",
    "\n",
    "\n",
    "pointcloud = o3d.geometry.PointCloud(points=o3d.utility.Vector3dVector(data.detach().cpu()))\n",
    "pointcloud.colors = o3d.utility.Vector3dVector(np.hstack([np.sign(value.cpu())/2.+1, (-np.sign(value.cpu()))/2.+1  , np.zeros_like(value.cpu())]).astype(np.float64))\n",
    "o3d.visualization.draw_geometries([pointcloud,mesh,ehCloud])\n"
   ]
  },
  {
   "cell_type": "code",
   "execution_count": null,
   "id": "7a5c738f",
   "metadata": {},
   "outputs": [],
   "source": []
  },
  {
   "cell_type": "markdown",
   "id": "07b22cf2",
   "metadata": {},
   "source": [
    "# Ebenen sollen da stehenbleiben wo sie sind falls keine Punkte in der Nähe sind / sie sollen etwa zu den Vorhersagegebieten wandern\n",
    "\n",
    "einige wenige (ca 16 Punkte in der Kugel um das Netz als vorhergesagt ansehen)  "
   ]
  },
  {
   "cell_type": "markdown",
   "id": "1a959d35",
   "metadata": {},
   "source": [
    "# testen der Vorhersagefähigkeit und konvergenz"
   ]
  },
  {
   "cell_type": "code",
   "execution_count": null,
   "id": "06dcad2e",
   "metadata": {},
   "outputs": [],
   "source": [
    "#vorhersage einer Box - sollte schwierig für sin-layer sein"
   ]
  },
  {
   "cell_type": "code",
   "execution_count": null,
   "id": "feb3e80a",
   "metadata": {
    "ExecuteTime": {
     "end_time": "2021-09-22T08:50:09.527602Z",
     "start_time": "2021-09-22T08:50:09.522100Z"
    }
   },
   "outputs": [],
   "source": [
    "box = tm.primitives.Box()\n",
    "learnModel = SIREN([11,32,32,32,1], scale=True, dynScale=True, phaseShift=True, dynaPhaseShift=False).cuda()\n",
    "\n",
    "#learnModel = torch.nn.Sequential(torch.nn.Linear(11,64), torch.nn.ReLU(), torch.nn.Linear(64,64), torch.nn.ReLU(), torch.nn.Linear(64,1), torch.nn.ReLU())\n",
    "learnModel = learnModel.cuda()\n",
    "\n",
    "optim = torch.optim.Adam(learnModel.parameters(), lr=0.001)#"
   ]
  },
  {
   "cell_type": "code",
   "execution_count": null,
   "id": "a273f3eb",
   "metadata": {
    "ExecuteTime": {
     "end_time": "2021-09-22T08:50:16.683406Z",
     "start_time": "2021-09-22T08:50:10.217350Z"
    }
   },
   "outputs": [],
   "source": [
    "optim = torch.optim.Adam(learnModel.parameters(), lr=0.001)\n",
    "for i in range(2000):\n",
    "    optim.zero_grad()\n",
    "    inputPoints = torch.tensor(box.sample(5000)).float().cuda()-0.3\n",
    "    sphericalInput = linAlgHelper.asSpherical(inputPoints)\n",
    "    circularIn = circular2sinCosC(sphericalInput[:,:2].float())\n",
    "    prediction = learnModel(circularIn)\n",
    "    error = torch.nn.functional.mse_loss(prediction[:,0],sphericalInput[:,2])\n",
    "    error.backward()\n",
    "    optim.step()\n",
    "    if i % 150 == 0:\n",
    "        print(error.detach())\n",
    "optim = torch.optim.Adam(learnModel.parameters(), lr=0.0001)\n",
    "for i in range(2000):\n",
    "    optim.zero_grad()\n",
    "    inputPoints = torch.tensor(box.sample(5000)).float().cuda()-0.3\n",
    "    sphericalInput = linAlgHelper.asSpherical(inputPoints)\n",
    "    circularIn = circular2sinCosC(sphericalInput[:,:2].float())\n",
    "    prediction = learnModel(circularIn)\n",
    "    error = torch.nn.functional.mse_loss(prediction[:,0],sphericalInput[:,2])\n",
    "    error.backward()\n",
    "    optim.step()\n",
    "    if i % 150 == 0:\n",
    "        print(error.detach())"
   ]
  },
  {
   "cell_type": "code",
   "execution_count": null,
   "id": "5a454abe",
   "metadata": {
    "ExecuteTime": {
     "end_time": "2021-09-22T08:50:25.485831Z",
     "start_time": "2021-09-22T08:50:19.387515Z"
    }
   },
   "outputs": [],
   "source": [
    "vertices, faces = mesh(learnModel)\n",
    "mesh_target = o3d.geometry.TriangleMesh(vertices=o3d.utility.Vector3dVector(np.array(vertices)),\n",
    "                          triangles= o3d.utility.Vector3iVector(faces))\n",
    "mesh_target.compute_vertex_normals()\n",
    "#mesh.compute_triangle_normals()\n",
    "mesh_target.paint_uniform_color([1, 0.706, 0])\n",
    "o3d.visualization.draw_geometries([mesh_target])"
   ]
  },
  {
   "cell_type": "code",
   "execution_count": null,
   "id": "a2c25a0b",
   "metadata": {
    "ExecuteTime": {
     "end_time": "2021-09-22T08:50:27.884689Z",
     "start_time": "2021-09-22T08:50:27.882593Z"
    }
   },
   "outputs": [],
   "source": [
    "# train to form the model \"model\""
   ]
  },
  {
   "cell_type": "code",
   "execution_count": null,
   "id": "536cf08a",
   "metadata": {
    "ExecuteTime": {
     "end_time": "2021-09-22T08:50:28.245696Z",
     "start_time": "2021-09-22T08:50:28.240014Z"
    }
   },
   "outputs": [],
   "source": [
    "model=SIREN([11,2,2,2,1]).cuda()"
   ]
  },
  {
   "cell_type": "code",
   "execution_count": null,
   "id": "1e1c528b",
   "metadata": {
    "ExecuteTime": {
     "end_time": "2021-09-22T08:50:33.538558Z",
     "start_time": "2021-09-22T08:50:28.841090Z"
    }
   },
   "outputs": [],
   "source": [
    "vertices, faces = mesh(model)\n",
    "mesh_target = o3d.geometry.TriangleMesh(vertices=o3d.utility.Vector3dVector(np.array(vertices)),\n",
    "                          triangles= o3d.utility.Vector3iVector(faces))\n",
    "mesh_target.compute_vertex_normals()\n",
    "#mesh.compute_triangle_normals()\n",
    "mesh_target.paint_uniform_color([1, 0.706, 0])\n",
    "o3d.visualization.draw_geometries([mesh_target])"
   ]
  },
  {
   "cell_type": "code",
   "execution_count": null,
   "id": "cc1ca9bd",
   "metadata": {
    "ExecuteTime": {
     "end_time": "2021-09-22T08:50:39.691528Z",
     "start_time": "2021-09-22T08:50:35.490862Z"
    }
   },
   "outputs": [],
   "source": [
    "learnModel = SIREN([11,64,64,32,1]).cuda()\n",
    "\n",
    "with torch.no_grad():\n",
    "    vertices, faces = mesh(learnModel)\n",
    "mesh_learned = o3d.geometry.TriangleMesh(vertices=o3d.utility.Vector3dVector(np.array(vertices)),\n",
    "                          triangles= o3d.utility.Vector3iVector(faces))\n",
    "mesh_learned.compute_vertex_normals()\n",
    "#mesh.compute_triangle_normals()\n",
    "mesh_learned.paint_uniform_color([0.2, 0.206, 1.0])\n",
    "o3d.visualization.draw_geometries([mesh_target, mesh_learned])"
   ]
  },
  {
   "cell_type": "code",
   "execution_count": null,
   "id": "b59166cf",
   "metadata": {
    "ExecuteTime": {
     "end_time": "2021-09-22T08:50:41.431194Z",
     "start_time": "2021-09-22T08:50:41.428825Z"
    }
   },
   "outputs": [],
   "source": [
    "#create training environment\n",
    "\n",
    "optim = torch.optim.Adam(learnModel.parameters(), lr=0.001)"
   ]
  },
  {
   "cell_type": "code",
   "execution_count": null,
   "id": "8b324864",
   "metadata": {
    "ExecuteTime": {
     "end_time": "2021-09-22T08:50:46.171063Z",
     "start_time": "2021-09-22T08:50:42.250534Z"
    }
   },
   "outputs": [],
   "source": [
    "for i in range(1000):\n",
    "    optim.zero_grad()\n",
    "    \n",
    "    sphericalTarget = linAlgHelper.asSpherical(torch.rand(5000,3)-0.5)[:,:2].float().cuda()\n",
    "    circularIn = circular2sinCosC(sphericalTarget)\n",
    "    with torch.no_grad():\n",
    "        target = model(circularIn)\n",
    "    prediction = learnModel(circularIn)\n",
    "    error = torch.nn.functional.mse_loss(prediction,target)\n",
    "    error.backward()\n",
    "    optim.step()\n",
    "    if i % 150 == 0:\n",
    "        print(error.detach())"
   ]
  },
  {
   "cell_type": "code",
   "execution_count": null,
   "id": "ed0b29bb",
   "metadata": {
    "ExecuteTime": {
     "end_time": "2021-09-22T08:50:56.735926Z",
     "start_time": "2021-09-22T08:50:48.847347Z"
    }
   },
   "outputs": [],
   "source": [
    "with torch.no_grad():\n",
    "    vertices, faces = mesh(learnModel)\n",
    "mesh_learned = o3d.geometry.TriangleMesh(vertices=o3d.utility.Vector3dVector(np.array(vertices)),\n",
    "                          triangles= o3d.utility.Vector3iVector(faces))\n",
    "mesh_learned.compute_vertex_normals()\n",
    "#mesh.compute_triangle_normals()\n",
    "mesh_learned.paint_uniform_color([0.2, 0.206, 1.0])\n",
    "o3d.visualization.draw_geometries([mesh_target, mesh_learned])"
   ]
  },
  {
   "cell_type": "code",
   "execution_count": null,
   "id": "a59f1838",
   "metadata": {
    "ExecuteTime": {
     "end_time": "2021-09-22T08:51:46.703864Z",
     "start_time": "2021-09-22T08:51:40.753394Z"
    }
   },
   "outputs": [],
   "source": [
    "pointcloud1, pointcloud2 = compare2CenteredModels(model,learnModel)\n",
    "o3d.visualization.draw_geometries([pointcloud1, pointcloud2])\n"
   ]
  },
  {
   "cell_type": "code",
   "execution_count": null,
   "id": "9e57f3f8",
   "metadata": {
    "ExecuteTime": {
     "end_time": "2021-09-22T08:51:48.630642Z",
     "start_time": "2021-09-22T08:51:48.627957Z"
    }
   },
   "outputs": [],
   "source": [
    "\n",
    "optim = torch.optim.Adam(learnModel.parameters(), lr=0.00001)"
   ]
  },
  {
   "cell_type": "code",
   "execution_count": null,
   "id": "fc1c1556",
   "metadata": {
    "ExecuteTime": {
     "end_time": "2021-09-22T08:51:50.081320Z",
     "start_time": "2021-09-22T08:51:50.077373Z"
    }
   },
   "outputs": [],
   "source": [
    "centerOffset = torch.rand((1,3)).cuda()\n",
    "centerOffset"
   ]
  },
  {
   "cell_type": "code",
   "execution_count": null,
   "id": "8508e947",
   "metadata": {
    "ExecuteTime": {
     "end_time": "2021-09-22T08:52:01.420275Z",
     "start_time": "2021-09-22T08:51:55.443062Z"
    }
   },
   "outputs": [],
   "source": [
    "#offcenter training\n",
    "\n",
    "\n",
    "for i in range(1000):\n",
    "    optim.zero_grad()\n",
    "    \n",
    "    sphericalTarget = linAlgHelper.asSpherical(torch.rand(500,3)-0.5)[:,:2].float().cuda()\n",
    "    circularIn = circular2sinCosC(sphericalTarget)\n",
    "    with torch.no_grad():\n",
    "        target = model(circularIn)\n",
    "    targetSpherical = torch.cat((sphericalTarget,target),dim=1)\n",
    "    targetPoints = linAlgHelper.asCartesian(targetSpherical)\n",
    "    #alles korrekt bis hierhin\n",
    "    inputPoints = targetPoints+centerOffset\n",
    "    sphericalInput = linAlgHelper.asSpherical(inputPoints)\n",
    "    circularIn = circular2sinCosC(sphericalInput[:,:2].float())\n",
    "    prediction = learnModel(circularIn)\n",
    "    error = torch.nn.functional.mse_loss(prediction[:,0],sphericalInput[:,2])\n",
    "    #print((sphericalInput[:,2]-target).sum().detach())\n",
    "    error.backward()\n",
    "    optim.step()\n",
    "    if i % 150 == 0:\n",
    "        print(error.detach())\n",
    "\n"
   ]
  },
  {
   "cell_type": "code",
   "execution_count": null,
   "id": "04e9a8d0",
   "metadata": {
    "ExecuteTime": {
     "end_time": "2021-09-22T08:52:07.471897Z",
     "start_time": "2021-09-22T08:52:03.398985Z"
    }
   },
   "outputs": [],
   "source": [
    "pointcloud1, pointcloud2 = compare2CenteredModels(model,learnModel)\n",
    "o3d.visualization.draw_geometries([pointcloud1, pointcloud2])"
   ]
  },
  {
   "cell_type": "code",
   "execution_count": null,
   "id": "5347b041",
   "metadata": {
    "ExecuteTime": {
     "end_time": "2021-09-22T08:52:13.170146Z",
     "start_time": "2021-09-22T08:52:11.085554Z"
    }
   },
   "outputs": [],
   "source": [
    "pointcloud1, pointcloud2 = compare2CenteredModels(model,learnModel)\n",
    "o3d.visualization.draw_geometries([pointcloud1, pointcloud2])\n"
   ]
  },
  {
   "cell_type": "markdown",
   "id": "8201f231",
   "metadata": {},
   "source": [
    "# testen der Vorhersagefähigkeit und konvergenz mit zentrumsverschiebung"
   ]
  },
  {
   "cell_type": "code",
   "execution_count": null,
   "id": "2d9557cc",
   "metadata": {
    "ExecuteTime": {
     "end_time": "2021-09-22T13:08:18.509664Z",
     "start_time": "2021-09-22T13:08:16.354382Z"
    }
   },
   "outputs": [],
   "source": [
    "box = tm.primitives.Box()\n",
    "learnModel = SIREN([11,32,32,32,1], scale=True, dynScale=True, phaseShift=True, dynaPhaseShift=False).cuda()\n",
    "\n",
    "#learnModel = torch.nn.Sequential(torch.nn.Linear(11,64), torch.nn.ReLU(), torch.nn.Linear(64,64), torch.nn.ReLU(), torch.nn.Linear(64,1), torch.nn.ReLU())\n",
    "learnModel = learnModel.cuda()\n",
    "\n",
    "center = torch.zeros((1,3)).cuda()\n",
    "center.requires_grad=True\n"
   ]
  },
  {
   "cell_type": "code",
   "execution_count": null,
   "id": "43076c5a",
   "metadata": {},
   "outputs": [],
   "source": []
  },
  {
   "cell_type": "code",
   "execution_count": null,
   "id": "02641fb6",
   "metadata": {
    "ExecuteTime": {
     "end_time": "2021-09-22T08:52:52.467518Z",
     "start_time": "2021-09-22T08:52:18.796132Z"
    }
   },
   "outputs": [],
   "source": [
    "optim = torch.optim.Adam(learnModel.parameters(), lr=0.001)\n",
    "centerOptim = torch.optim.Adam([center], lr=0.001)\n",
    "for i in range(2000):\n",
    "    optim.zero_grad()\n",
    "    centerOptim.zero_grad()\n",
    "    inputPoints = torch.tensor(box.sample(5000)).float().cuda()-.4  #stark verschobene box\n",
    "    \n",
    "    with torch.no_grad(): #bei angepasstem model wäre es zu offensichtlich das zentrum zu verschieben\n",
    "        inputPoints = inputPoints-center  #Modellverschiebung beeinflusst Input\n",
    "    \n",
    "    sphericalInput = linAlgHelper.asSpherical(inputPoints)\n",
    "    circularIn = circular2sinCosC(sphericalInput[:,:2].float())\n",
    "    prediction = learnModel(circularIn)\n",
    "    error = torch.nn.functional.mse_loss(prediction[:,0],sphericalInput[:,2])  #sollte noch nach positivem und negativem error verteilt werden\n",
    "    error.backward()\n",
    "    \n",
    "    #Regularize Model center to Prediction center\n",
    "    centerCorrection = modelCenterCorrection(learnModel)#\n",
    "    centerError = torch.nn.functional.l1_loss(center,centerCorrection)\n",
    "    \n",
    "    centerError.backward()\n",
    "    \n",
    "    optim.step()\n",
    "    centerOptim.step()\n",
    "    if i % 150 == 0:\n",
    "        print(error.item(),centerError.item(), center.detach())\n"
   ]
  },
  {
   "cell_type": "code",
   "execution_count": null,
   "id": "4e548e12",
   "metadata": {
    "ExecuteTime": {
     "end_time": "2021-09-22T08:52:57.656136Z",
     "start_time": "2021-09-22T08:52:54.697312Z"
    }
   },
   "outputs": [],
   "source": [
    "points = torch.tensor(box.sample(500)).float()-.4  #stark verschobene box\n",
    "pointcloud = o3d.geometry.PointCloud(points=o3d.utility.Vector3dVector(points.detach().cpu()))\n",
    "colors = np.ones_like(points.cpu()).astype(np.float64)\n",
    "colors[:,0] = colors[:,0]*0.\n",
    "colors[:,1] = colors[:,1]*0.\n",
    "pointcloud.colors = o3d.utility.Vector3dVector(colors)\n",
    "\n",
    "pointcloud1, pointcloud2 = compare2CenteredModels(model,learnModel,centerdifference=-center.detach().cpu())\n",
    "o3d.visualization.draw_geometries([pointcloud, pointcloud2])"
   ]
  },
  {
   "cell_type": "code",
   "execution_count": null,
   "id": "a637357b",
   "metadata": {},
   "outputs": [],
   "source": [
    "center"
   ]
  },
  {
   "cell_type": "code",
   "execution_count": null,
   "id": "cfa7e7aa",
   "metadata": {},
   "outputs": [],
   "source": [
    "#zentren müssen INNERHALB der Objekte sein - initialisierungsfrage"
   ]
  },
  {
   "cell_type": "code",
   "execution_count": null,
   "id": "859f46c8",
   "metadata": {},
   "outputs": [],
   "source": []
  },
  {
   "cell_type": "code",
   "execution_count": null,
   "id": "eb718762",
   "metadata": {},
   "outputs": [],
   "source": []
  },
  {
   "cell_type": "markdown",
   "id": "6de0e457",
   "metadata": {},
   "source": [
    "# zweifache figur 1 Bounds test\n",
    "Testen ob 1 Boundzentrum eine klar von einer anderen Figur erfassen kann und dort bleibt"
   ]
  },
  {
   "cell_type": "code",
   "execution_count": null,
   "id": "30fa0117",
   "metadata": {
    "ExecuteTime": {
     "end_time": "2021-09-22T15:15:14.897924Z",
     "start_time": "2021-09-22T15:15:14.872404Z"
    }
   },
   "outputs": [],
   "source": [
    "#erstellen zweier meshes zum samplen aus bounds\n",
    "learnModel = None\n",
    "\n",
    "targetbound1 = torch.Tensor([[1.8,1.8,1.],[0.,1.,0.],[2.,0.,0.],[0.,-1.4,0.],[-1.,0.,0.],[0.,0.,-1.]])\n",
    "targetbound2 = torch.Tensor([[0.,0.2,1.],[0.4,1.,0.],[1.,0.4,0.],[-0.4,-1.1,0.],[-1.,0.2,0.],[0.2,0.2,-1.]])\n",
    "targetcenter1 = torch.Tensor([[2.5,3.2,-3.]])\n",
    "targetcenter2 = torch.Tensor([[1.5,1.2,-1.]])\n",
    "\n",
    "data = torch.rand(50000,3)*12.-6.\n",
    "\n",
    "boundsTest1 = linAlgHelper.getPointDistances2PlaneNormal(data[None,:,:]-targetcenter1, targetbound1[None,:,:])[0]\n",
    "boundsTest2 = linAlgHelper.getPointDistances2PlaneNormal(data[None,:,:]-targetcenter2, targetbound2[None,:,:])[0]\n",
    "\n",
    "inside1 = boundsTest1>0\n",
    "inside2 = boundsTest2>0\n",
    "inside1 = inside1.sum(dim=1)==inside1.shape[1]\n",
    "inside2 = inside2.sum(dim=1)==inside2.shape[1]\n",
    "filtered1 = data[inside1]\n",
    "filtered2 = data[inside2]\n",
    "filteredIdx1 = torch.arange(len(filtered1))\n",
    "filteredIdx2 = torch.arange(len(filtered2))\n",
    "hull1 = ConvexHull(filtered1)\n",
    "hull2 = ConvexHull(filtered2)\n",
    "verts_1 = torch.tensor(hull1.vertices)\n",
    "verts_2 = torch.tensor(hull2.vertices)\n",
    "vertIdx1 = torch.arange(len(verts_1))\n",
    "vertIdx2 = torch.arange(len(verts_2))\n",
    "filteredIdx1[verts_1.long()] = vertIdx1\n",
    "filteredIdx2[verts_2.long()] = vertIdx2\n",
    "faces_1 = torch.tensor(hull1.simplices)\n",
    "faces_2 = torch.tensor(hull2.simplices)\n",
    "vertices1, faces1 =  filtered1[verts_1.long()], filteredIdx1[faces_1.long()]\n",
    "vertices2, faces2 =  filtered2[verts_2.long()], filteredIdx2[faces_2.long()]\n",
    "mesh1 = tm.Trimesh(vertices=vertices1, faces=faces1)\n",
    "mesh2 = tm.Trimesh(vertices=vertices2, faces=faces2)\n",
    "\n",
    "#targetbound1 = targetbound1.cuda()\n",
    "#targetbound2 = targetbound2.cuda()\n",
    "#targetcenter1 = targetcenter1.cuda()\n",
    "#targetcenter2 = targetcenter2.cuda()"
   ]
  },
  {
   "cell_type": "code",
   "execution_count": null,
   "id": "fcfa4864",
   "metadata": {
    "ExecuteTime": {
     "end_time": "2021-09-22T15:15:18.546954Z",
     "start_time": "2021-09-22T15:15:15.604392Z"
    },
    "run_control": {
     "marked": false
    }
   },
   "outputs": [],
   "source": [
    "#visualisieren der Zielfiguren\n",
    "\n",
    "pointcloudPoints = np.concatenate((mesh1.sample(1000),mesh2.sample(1000)),0)\n",
    "\n",
    "pointcloudTargetMeshes = o3d.geometry.PointCloud(points=o3d.utility.Vector3dVector(pointcloudPoints))\n",
    "colors = np.ones_like(pointcloudPoints).astype(np.float64)\n",
    "colors[:,0] = colors[:,0]*0.\n",
    "colors[:,1] = colors[:,1]*0.\n",
    "pointcloudTargetMeshes.colors = o3d.utility.Vector3dVector(colors)\n",
    "\n",
    "\n",
    "o3d.visualization.draw_geometries([pointcloudTargetMeshes])"
   ]
  },
  {
   "cell_type": "code",
   "execution_count": null,
   "id": "c62442d8",
   "metadata": {
    "ExecuteTime": {
     "end_time": "2021-09-22T15:15:28.501346Z",
     "start_time": "2021-09-22T15:15:28.497906Z"
    }
   },
   "outputs": [],
   "source": [
    "#center in 0,0, nur eine bound(plane)\n",
    "\n",
    "planeNr = 12\n",
    "\n",
    "center = torch.Tensor([[2.1,3.5,-2.]])#torch.rand((1,3))*3.\n",
    "bound = torch.rand((planeNr,3))\n",
    "\n",
    "center.requires_grad = True\n",
    "bound.requires_grad = True\n",
    "\n",
    "optimBound = torch.optim.Adam([bound], lr=0.001)\n",
    "optimCenter = torch.optim.Adam([center], lr=0.01) #center sollte eventuell schneller wandern als die bounds um nicht zum 0 Volumen zu werden"
   ]
  },
  {
   "cell_type": "code",
   "execution_count": null,
   "id": "c95ac358",
   "metadata": {
    "ExecuteTime": {
     "end_time": "2021-09-22T15:17:36.884941Z",
     "start_time": "2021-09-22T15:17:10.295130Z"
    }
   },
   "outputs": [],
   "source": [
    "for i in range(10000):\n",
    "    optimBound.zero_grad()\n",
    "    optimCenter.zero_grad()\n",
    "    #create new datasample\n",
    "    surface = torch.tensor(mesh1.sample(500)).float()\n",
    "    surface2 = torch.tensor(mesh2.sample(500)).float()\n",
    "    surface = torch.cat((surface,surface2),0)\n",
    "    data = (torch.rand(5000,3)*24.-12.)\n",
    "    boundsTest1 = linAlgHelper.getPointDistances2PlaneNormal(data[None,:,:]-targetcenter1, targetbound1[None,:,:])[0]\n",
    "    boundsTest2 = linAlgHelper.getPointDistances2PlaneNormal(data[None,:,:]-targetcenter2, targetbound2[None,:,:])[0]\n",
    "    inside1 = boundsTest1>0\n",
    "    inside2 = boundsTest2>0\n",
    "    inside1 = inside1.sum(dim=1)==inside1.shape[1]\n",
    "    inside2 = inside2.sum(dim=1)==inside2.shape[1]\n",
    "    emptySpace = data[~(inside1|inside2)]\n",
    "    value = -torch.ones(len(surface))[:,None]\n",
    "    value = torch.cat((value,torch.ones((len(emptySpace),1))),0)\n",
    "    data = torch.cat((surface,emptySpace),0)\n",
    "    #learn\n",
    "    optimBound.zero_grad()\n",
    "    optimCenter.zero_grad()\n",
    "    tempdata = data-center\n",
    "    boundsTest = linAlgHelper.getPointDistances2PlaneNormal(tempdata[None,:,:], bound[None,:,:])[0]\n",
    "    with torch.no_grad():\n",
    "        inside = boundsTest>0\n",
    "        near = abs(boundsTest)>0.15 #könnte von der länge der ebene abhängig gemacht werden\n",
    "        importance = 0.1/(0.1+abs(boundsTest)) #könnte von der länge der ebene abhängig gemacht werden\n",
    "        completeInner = inside.sum(dim=1)==planeNr\n",
    "        \n",
    "        bound[0,0].clamp(-99999,-0.01)\n",
    "        bound[3,0].clamp(0.01,99999)\n",
    "        bound[1,1].clamp(-99999,-0.01)\n",
    "        bound[4,1].clamp(0.01,99999)\n",
    "        bound[2,2].clamp(-99999,-0.01)\n",
    "        bound[5,2].clamp(0.01,99999)\n",
    "    #hardCutOff = torch.sigmoid((boundsTest+0.01)*256).prod(dim=1) #route all point-losses through this in the end\n",
    "    insideError = torch.sigmoid(boundsTest*8) #könnte von der länge der ebene abhängig gemacht werden\n",
    "    valueMissed = -value*(1-inside*1)\n",
    "    errorGreed = (((1.-insideError)*valueMissed*importance)[value[:,0]<0])\n",
    "    # for the inner loss: errors near a plane are important, but the gradient of the error should shrink, the nearer it gets\n",
    "    wrongValues = value*completeInner[:,None]\n",
    "    innerLoss= (importance**2*wrongValues*insideError)[value[:,0]>0]\n",
    "    #outside = 1.-hardCutOff[0,:]\n",
    "    #greedyGains = torch.relu(-value[:,0]*outside* (1.-softCutOff[0,:])).sum() #vorhersagen aussen erreichen\n",
    "    #innerLoss = torch.relu(value[:,0]*((hardCutOff*softCutOff)[0,:])).sum()  #fehler innen vermeiden\n",
    "    #expansionGain = - #expansionsdrang\n",
    "    #bestSeparation = -((-value)*(insideError-0.5)*importance**2)[near]\n",
    "    error = errorGreed.sum() +100*innerLoss.sum()#+ bestSeparation.sum()\n",
    "    error.backward()\n",
    "    optimBound.step()\n",
    "    optimCenter.step()\n",
    "    # gradients should be fine, but the size of the error will be all over the place\n",
    "    #measurement should be done by \n",
    "    with torch.no_grad():\n",
    "        wrongValueInside = wrongValues[value[:,0]>0].sum()\n",
    "        rightValuesOutside = valueMissed[value[:,0]<0].sum()\n",
    "        \n",
    "    if i % 500 == 0:\n",
    "            print(bound.detach(), \"gainsMissed: \",rightValuesOutside.item(),\"innerLoss: \",wrongValueInside.item(), \" /n              center: \",center.detach())"
   ]
  },
  {
   "cell_type": "code",
   "execution_count": null,
   "id": "f3a7d523",
   "metadata": {
    "ExecuteTime": {
     "end_time": "2021-09-22T15:17:39.126570Z",
     "start_time": "2021-09-22T15:17:39.110418Z"
    }
   },
   "outputs": [],
   "source": [
    "#meshing the bounds\n",
    "data = torch.rand(50000,3)*12.-6.\n",
    "boundsTest = linAlgHelper.getPointDistances2PlaneNormal(data[None,:,:], bound.detach()[None,:,:])[0]\n",
    "inside = boundsTest>0\n",
    "inside = inside.sum(dim=1)==inside.shape[1]\n",
    "filtered = data[inside]\n",
    "filteredIdx = torch.arange(len(filtered))\n",
    "hull = ConvexHull(filtered)\n",
    "verts_ = torch.tensor(hull.vertices)\n",
    "vertIdx = torch.arange(len(verts_))\n",
    "filteredIdx[verts_.long()] = vertIdx\n",
    "faces_ = torch.tensor(hull.simplices)\n",
    "vertices, faces =  filtered[verts_.long()]+center.detach(), filteredIdx[faces_.long()]\n",
    "mesh = tm.Trimesh(vertices=vertices, faces=faces)"
   ]
  },
  {
   "cell_type": "code",
   "execution_count": null,
   "id": "2c8b6466",
   "metadata": {
    "ExecuteTime": {
     "end_time": "2021-09-22T15:18:42.681718Z",
     "start_time": "2021-09-22T15:17:39.874871Z"
    }
   },
   "outputs": [],
   "source": [
    "#visualisieren der Zielfiguren\n",
    "\n",
    "pointcloudPoints = mesh.sample(1000)\n",
    "\n",
    "pointcloudMesh = o3d.geometry.PointCloud(points=o3d.utility.Vector3dVector(pointcloudPoints))\n",
    "colors = np.ones_like(pointcloudPoints).astype(np.float64)\n",
    "colors[:,2] = colors[:,0]*0.\n",
    "colors[:,0] = colors[:,1]*0.\n",
    "pointcloudMesh.colors = o3d.utility.Vector3dVector(colors)\n",
    "\n",
    "data = (torch.rand(500,3)*24.-12.)\n",
    "pointcloudData = o3d.geometry.PointCloud(points=o3d.utility.Vector3dVector(data))\n",
    "colors = np.ones_like(data).astype(np.float64)\n",
    "colors[:,2] = colors[:,0]*0.\n",
    "colors[:,1] = colors[:,1]*0.\n",
    "pointcloudData.colors = o3d.utility.Vector3dVector(colors)\n",
    "\n",
    "o3d.visualization.draw_geometries([pointcloudData, pointcloudTargetMeshes, pointcloudMesh])"
   ]
  },
  {
   "cell_type": "markdown",
   "id": "2a83dd08",
   "metadata": {},
   "source": [
    "# mit \"realen\" Beobachtungen aus verschiedenen Richtungen"
   ]
  },
  {
   "cell_type": "code",
   "execution_count": 2,
   "id": "cdffd702",
   "metadata": {
    "ExecuteTime": {
     "end_time": "2021-09-24T12:40:14.155613Z",
     "start_time": "2021-09-24T12:40:14.152105Z"
    }
   },
   "outputs": [],
   "source": [
    "#center in 0,0, nur eine bound(plane)\n",
    "\n",
    "extraPlaneNr = 28\n",
    "\n",
    "#center = torch.rand((1,3))*3.\n",
    "center = torch.Tensor([[0.,0.,0.]])\n",
    "bound = torch.rand((extraPlaneNr+2,3))-0.5\n",
    "\n",
    "center.requires_grad = True\n",
    "bound.requires_grad = True\n"
   ]
  },
  {
   "cell_type": "code",
   "execution_count": 3,
   "id": "d95d9858",
   "metadata": {
    "ExecuteTime": {
     "end_time": "2021-09-24T12:40:16.524293Z",
     "start_time": "2021-09-24T12:40:16.521768Z"
    }
   },
   "outputs": [],
   "source": [
    "\n",
    "optimBound = torch.optim.Adam([bound], lr=0.001)\n",
    "optimCenter = torch.optim.Adam([center], lr=0.01) #center sollte eventuell schneller wandern als die bounds um nicht zum 0 Volumen zu werden"
   ]
  },
  {
   "cell_type": "code",
   "execution_count": null,
   "id": "9296c248",
   "metadata": {},
   "outputs": [],
   "source": [
    "objects = pyredner.load_obj('/home/jhm/Documents/redner-master/tutorials/teapot.obj', return_objects=True)\n",
    "\n",
    "for iter_idx in range(3000):\n",
    "        #create data\n",
    "        with torch.no_grad():\n",
    "            img, pos, mask, cam = getView(objects)\n",
    "        emptyVectors = (cam.position[None,None,:].cpu()/100.-pos[mask].cpu()).reshape(-1,3)\n",
    "        emptyVectors = emptyVectors/((emptyVectors**2).sum(dim=-1))[:,None]**0.5\n",
    "        emptyStart = (pos[mask].reshape(-1,3).cpu()+emptyVectors*0.09)\n",
    "        empty1 = torch.cat((emptyStart,emptyStart+emptyVectors*0.15),0)\n",
    "        empty1 = torch.cat((empty1,emptyStart+emptyVectors*0.35),0)\n",
    "        points = pos[mask].reshape(-1,3).cpu()\n",
    "        value = -torch.ones(len(points))\n",
    "        points = torch.cat((points,empty1),0)\n",
    "        value = torch.cat((value,torch.ones(len(empty1))),0)[:,None]\n",
    "        #learn\n",
    "        optimBound.zero_grad()\n",
    "        optimCenter.zero_grad()\n",
    "        tempdata = points-center\n",
    "        #create regularized testtimebounds\n",
    "        bounds = bound2bounds(bound)\n",
    "        boundsTest = linAlgHelper.getPointDistances2PlaneNormal(tempdata[None,:,:], bounds[None,:,:])[0]\n",
    "        with torch.no_grad():\n",
    "            near = boundsTest > -0.5 #könnte vom volumen der ersten 6 bounds abhängen\n",
    "            mostNear = (near.sum(dim=1) > near.shape[1]-1)[:,None]\n",
    "            inside = boundsTest>0\n",
    "            importance = 0.1/(0.1+abs(boundsTest)) #könnte vom volumen der ersten 6 bounds abhängen\n",
    "            completeInner = inside.sum(dim=1)==inside.shape[1]\n",
    "        #hardCutOff = torch.sigmoid((boundsTest+0.01)*256).prod(dim=1) #route all point-losses through this in the end\n",
    "        insideError = torch.sigmoid(boundsTest*8) #könnte vom volumen der ersten 6 bounds abhängen\n",
    "        valueMissed = -value*mostNear\n",
    "        errorGreed = (((1.-insideError)*valueMissed*importance)[value[:,0]<0])\n",
    "        # for the inner loss: errors near a plane are important, but the gradient of the error should shrink, the nearer it gets\n",
    "        wrongValues = value*completeInner[:,None]\n",
    "        innerLoss= (importance**2*wrongValues*insideError)[value[:,0]>0]\n",
    "        #outside = 1.-hardCutOff[0,:]\n",
    "        #greedyGains = torch.relu(-value[:,0]*outside* (1.-softCutOff[0,:])).sum() #vorhersagen aussen erreichen\n",
    "        #innerLoss = torch.relu(value[:,0]*((hardCutOff*softCutOff)[0,:])).sum()  #fehler innen vermeiden\n",
    "        #expansion\n",
    "        #expansionGain = -(bound**2).sum(dim=1).mean()\n",
    "        #bestSeparation = -((-value)*(insideError-0.5)*importance**2)[near]\n",
    "        error = errorGreed.sum() +innerLoss.sum()*0.5\n",
    "        error.backward()\n",
    "        optimBound.step()\n",
    "        optimCenter.step()\n",
    "        # gradients should be fine, but the size of the error will be all over the place\n",
    "        #measurement should be done by \n",
    "        with torch.no_grad():\n",
    "            wrongValueInside = wrongValues[value[:,0]>0].sum()\n",
    "            rightValuesOutside = valueMissed[value[:,0]<0].sum()\n",
    "        if iter_idx % 50 == 0:\n",
    "                print(bound.detach(), \"gainsMissed: \",rightValuesOutside.item(),\"innerLoss: \",wrongValueInside.item(), \" /n              center: \",center.detach())"
   ]
  },
  {
   "cell_type": "code",
   "execution_count": 9,
   "id": "bebd8f36",
   "metadata": {
    "ExecuteTime": {
     "end_time": "2021-09-27T11:03:21.871808Z",
     "start_time": "2021-09-27T11:03:21.773315Z"
    }
   },
   "outputs": [
    {
     "name": "stderr",
     "output_type": "stream",
     "text": [
      "faces have mixed data, using slow fallback!\n"
     ]
    },
    {
     "ename": "NameError",
     "evalue": "name 'pointcloudPointsTarget' is not defined",
     "output_type": "error",
     "traceback": [
      "\u001b[0;31m---------------------------------------------------------------------------\u001b[0m",
      "\u001b[0;31mNameError\u001b[0m                                 Traceback (most recent call last)",
      "\u001b[0;32m<ipython-input-9-d0296fc0a1d8>\u001b[0m in \u001b[0;36m<module>\u001b[0;34m\u001b[0m\n\u001b[1;32m     29\u001b[0m \u001b[0;34m\u001b[0m\u001b[0m\n\u001b[1;32m     30\u001b[0m \u001b[0mtarget\u001b[0m \u001b[0;34m=\u001b[0m \u001b[0mtm\u001b[0m\u001b[0;34m.\u001b[0m\u001b[0mload\u001b[0m\u001b[0;34m(\u001b[0m\u001b[0;34m'/home/jhm/Documents/redner-master/tutorials/teapot.obj'\u001b[0m\u001b[0;34m)\u001b[0m\u001b[0;34m.\u001b[0m\u001b[0msample\u001b[0m\u001b[0;34m(\u001b[0m\u001b[0;36m2000\u001b[0m\u001b[0;34m)\u001b[0m\u001b[0;34m/\u001b[0m\u001b[0;36m100.\u001b[0m\u001b[0;34m\u001b[0m\u001b[0;34m\u001b[0m\u001b[0m\n\u001b[0;32m---> 31\u001b[0;31m \u001b[0mpointcloudMeshTarget\u001b[0m \u001b[0;34m=\u001b[0m \u001b[0mo3d\u001b[0m\u001b[0;34m.\u001b[0m\u001b[0mgeometry\u001b[0m\u001b[0;34m.\u001b[0m\u001b[0mPointCloud\u001b[0m\u001b[0;34m(\u001b[0m\u001b[0mpoints\u001b[0m\u001b[0;34m=\u001b[0m\u001b[0mo3d\u001b[0m\u001b[0;34m.\u001b[0m\u001b[0mutility\u001b[0m\u001b[0;34m.\u001b[0m\u001b[0mVector3dVector\u001b[0m\u001b[0;34m(\u001b[0m\u001b[0mpointcloudPointsTarget\u001b[0m\u001b[0;34m)\u001b[0m\u001b[0;34m)\u001b[0m\u001b[0;34m\u001b[0m\u001b[0;34m\u001b[0m\u001b[0m\n\u001b[0m\u001b[1;32m     32\u001b[0m \u001b[0mcolors\u001b[0m \u001b[0;34m=\u001b[0m \u001b[0mnp\u001b[0m\u001b[0;34m.\u001b[0m\u001b[0mones_like\u001b[0m\u001b[0;34m(\u001b[0m\u001b[0mpointcloudPointsTarget\u001b[0m\u001b[0;34m)\u001b[0m\u001b[0;34m.\u001b[0m\u001b[0mastype\u001b[0m\u001b[0;34m(\u001b[0m\u001b[0mnp\u001b[0m\u001b[0;34m.\u001b[0m\u001b[0mfloat64\u001b[0m\u001b[0;34m)\u001b[0m\u001b[0;34m\u001b[0m\u001b[0;34m\u001b[0m\u001b[0m\n\u001b[1;32m     33\u001b[0m \u001b[0mcolors\u001b[0m\u001b[0;34m[\u001b[0m\u001b[0;34m:\u001b[0m\u001b[0;34m,\u001b[0m\u001b[0;36m2\u001b[0m\u001b[0;34m]\u001b[0m \u001b[0;34m=\u001b[0m \u001b[0mcolors\u001b[0m\u001b[0;34m[\u001b[0m\u001b[0;34m:\u001b[0m\u001b[0;34m,\u001b[0m\u001b[0;36m0\u001b[0m\u001b[0;34m]\u001b[0m\u001b[0;34m*\u001b[0m\u001b[0;36m0.\u001b[0m\u001b[0;34m\u001b[0m\u001b[0;34m\u001b[0m\u001b[0m\n",
      "\u001b[0;31mNameError\u001b[0m: name 'pointcloudPointsTarget' is not defined"
     ]
    }
   ],
   "source": [
    "def meshBounds(bound):\n",
    "    #meshing the bounds\n",
    "    data = torch.rand(50000,3)*12.-6.\n",
    "    bounds = bound2bounds(bound)\n",
    "    boundsTest = linAlgHelper.getPointDistances2PlaneNormal(data[None,:,:], bounds.detach()[None,:,:])[0]\n",
    "    inside = boundsTest>0\n",
    "    inside = inside.sum(dim=1)==inside.shape[1]\n",
    "    filtered = data[inside]\n",
    "    filteredIdx = torch.arange(len(filtered))\n",
    "    hull = ConvexHull(filtered)\n",
    "    verts_ = torch.tensor(hull.vertices)\n",
    "    vertIdx = torch.arange(len(verts_))\n",
    "    filteredIdx[verts_.long()] = vertIdx\n",
    "    faces_ = torch.tensor(hull.simplices)\n",
    "    vertices, faces =  filtered[verts_.long()]+center.detach(), filteredIdx[faces_.long()]\n",
    "    mesh = tm.Trimesh(vertices=vertices, faces=faces)\n",
    "    return mesh\n",
    "\n",
    "def mesh2pointcloud(mesh, center = torch.tensor([[0,0,0]]), color=[1,0,0]):\n",
    "    #visualisieren der Zielfiguren\n",
    "    pointcloudPoints = mesh.sample(2000)-center\n",
    "    pointcloudMesh = o3d.geometry.PointCloud(points=o3d.utility.Vector3dVector(pointcloudPoints))\n",
    "    colors = np.ones_like(pointcloudPoints).astype(np.float64)\n",
    "    colors[:,2] = colors[:,2]*color[2]\n",
    "    colors[:,1] = colors[:,1]*color[1]\n",
    "    colors[:,0] = colors[:,1]*color[0]\n",
    "    pointcloudMesh.colors = o3d.utility.Vector3dVector(colors)\n",
    "    return(pointcloudMesh)\n",
    "\n",
    "target = tm.load('/home/jhm/Documents/redner-master/tutorials/teapot.obj').sample(2000)/100.\n",
    "pointcloudMeshTarget = o3d.geometry.PointCloud(points=o3d.utility.Vector3dVector(pointcloudPointsTarget))\n",
    "colors = np.ones_like(pointcloudPointsTarget).astype(np.float64)\n",
    "colors[:,2] = colors[:,0]*0.\n",
    "colors[:,0] = colors[:,1]*0.\n",
    "pointcloudMeshTarget.colors = o3d.utility.Vector3dVector(colors)\n",
    "\n",
    "def array2Pointcloud(array, center = torch.tensor([[0,0,0]]), color=[1,0,0]):\n",
    "    pointcloudPoints = array-center\n",
    "    pointcloudMesh = o3d.geometry.PointCloud(points=o3d.utility.Vector3dVector(pointcloudPoints))\n",
    "    colors = np.ones_like(pointcloudPoints).astype(np.float64)\n",
    "    colors[:,2] = colors[:,2]*color[2]\n",
    "    colors[:,1] = colors[:,1]*color[1]\n",
    "    colors[:,0] = colors[:,1]*color[0]\n",
    "    pointcloudMesh.colors = o3d.utility.Vector3dVector(colors)\n",
    "    return(pointcloudMesh)\n",
    "\n",
    "    \n",
    "    \n",
    "with torch.no_grad():\n",
    "    img, pos, mask, cam = getView(objects)\n",
    "randomMask = torch.rand(mask.shape[0],mask.shape[1]) < 0.03\n",
    "mask = mask.cpu()&randomMask\n",
    "emptyVectors = (cam.position[None,None,:].cpu()/100.-pos[mask].cpu()).reshape(-1,3)\n",
    "emptyVectors = emptyVectors/((emptyVectors**2).sum(dim=-1))[:,None]**0.5\n",
    "emptyStart = (pos[mask].reshape(-1,3).cpu()+emptyVectors*0.09)\n",
    "empty1 = torch.cat((emptyStart,emptyStart+emptyVectors*0.15),0)\n",
    "empty1 = torch.cat((empty1,emptyStart+emptyVectors*0.35),0)\n",
    "points = pos[mask].reshape(-1,3).cpu()\n",
    "pointcloudTarget = points\n",
    "pointcloudT = o3d.geometry.PointCloud(points=o3d.utility.Vector3dVector(pointcloudTarget))\n",
    "colors = np.ones_like(pointcloudTarget).astype(np.float64)\n",
    "colors[:,2] = colors[:,0]*0.\n",
    "#colors[:,0] = colors[:,1]*0.\n",
    "pointcloudT.colors = o3d.utility.Vector3dVector(colors)\n",
    "pointcloudE = o3d.geometry.PointCloud(points=o3d.utility.Vector3dVector(empty1))\n",
    "colors = np.ones_like(empty1).astype(np.float64)\n",
    "colors[:,1] = colors[:,0]*0.\n",
    "colors[:,2] = colors[:,1]*0.\n",
    "pointcloudE.colors = o3d.utility.Vector3dVector(colors)\n",
    "\n",
    "\n",
    "o3d.visualization.draw_geometries([pointcloudMeshTarget, pointcloudMesh,pointcloudT,pointcloudE])"
   ]
  },
  {
   "cell_type": "code",
   "execution_count": null,
   "id": "eb2c0c6a",
   "metadata": {},
   "outputs": [],
   "source": [
    "bound"
   ]
  },
  {
   "cell_type": "code",
   "execution_count": null,
   "id": "dc7acd3d",
   "metadata": {},
   "outputs": [],
   "source": [
    "data"
   ]
  },
  {
   "cell_type": "code",
   "execution_count": null,
   "id": "c1177555",
   "metadata": {},
   "outputs": [],
   "source": [
    "linAlgHelper.getPointDistances2PlaneNormal(data[None,[1,2],:], bound.detach()[None,:,:])[0]"
   ]
  },
  {
   "cell_type": "code",
   "execution_count": null,
   "id": "34f62a84",
   "metadata": {},
   "outputs": [],
   "source": [
    "bound"
   ]
  },
  {
   "cell_type": "code",
   "execution_count": 10,
   "id": "74397554",
   "metadata": {
    "ExecuteTime": {
     "end_time": "2021-09-27T11:03:27.967963Z",
     "start_time": "2021-09-27T11:03:27.957524Z"
    }
   },
   "outputs": [
    {
     "ename": "NameError",
     "evalue": "name 'bound' is not defined",
     "output_type": "error",
     "traceback": [
      "\u001b[0;31m---------------------------------------------------------------------------\u001b[0m",
      "\u001b[0;31mNameError\u001b[0m                                 Traceback (most recent call last)",
      "\u001b[0;32m<ipython-input-10-38a56a132d18>\u001b[0m in \u001b[0;36m<module>\u001b[0;34m\u001b[0m\n\u001b[0;32m----> 1\u001b[0;31m \u001b[0mboundsPoints\u001b[0m \u001b[0;34m=\u001b[0m \u001b[0mo3d\u001b[0m\u001b[0;34m.\u001b[0m\u001b[0mgeometry\u001b[0m\u001b[0;34m.\u001b[0m\u001b[0mPointCloud\u001b[0m\u001b[0;34m(\u001b[0m\u001b[0mpoints\u001b[0m\u001b[0;34m=\u001b[0m\u001b[0mo3d\u001b[0m\u001b[0;34m.\u001b[0m\u001b[0mutility\u001b[0m\u001b[0;34m.\u001b[0m\u001b[0mVector3dVector\u001b[0m\u001b[0;34m(\u001b[0m\u001b[0mbound\u001b[0m\u001b[0;34m.\u001b[0m\u001b[0mdetach\u001b[0m\u001b[0;34m(\u001b[0m\u001b[0;34m)\u001b[0m\u001b[0;34m)\u001b[0m\u001b[0;34m)\u001b[0m\u001b[0;34m\u001b[0m\u001b[0;34m\u001b[0m\u001b[0m\n\u001b[0m\u001b[1;32m      2\u001b[0m \u001b[0mcolors\u001b[0m \u001b[0;34m=\u001b[0m \u001b[0mnp\u001b[0m\u001b[0;34m.\u001b[0m\u001b[0mones_like\u001b[0m\u001b[0;34m(\u001b[0m\u001b[0mbound\u001b[0m\u001b[0;34m.\u001b[0m\u001b[0mdetach\u001b[0m\u001b[0;34m(\u001b[0m\u001b[0;34m)\u001b[0m\u001b[0;34m)\u001b[0m\u001b[0;34m.\u001b[0m\u001b[0mastype\u001b[0m\u001b[0;34m(\u001b[0m\u001b[0mnp\u001b[0m\u001b[0;34m.\u001b[0m\u001b[0mfloat64\u001b[0m\u001b[0;34m)\u001b[0m\u001b[0;34m\u001b[0m\u001b[0;34m\u001b[0m\u001b[0m\n\u001b[1;32m      3\u001b[0m \u001b[0mcolors\u001b[0m\u001b[0;34m[\u001b[0m\u001b[0;34m:\u001b[0m\u001b[0;34m,\u001b[0m\u001b[0;36m2\u001b[0m\u001b[0;34m]\u001b[0m \u001b[0;34m=\u001b[0m \u001b[0mcolors\u001b[0m\u001b[0;34m[\u001b[0m\u001b[0;34m:\u001b[0m\u001b[0;34m,\u001b[0m\u001b[0;36m0\u001b[0m\u001b[0;34m]\u001b[0m\u001b[0;34m*\u001b[0m\u001b[0;36m0.\u001b[0m\u001b[0;34m\u001b[0m\u001b[0;34m\u001b[0m\u001b[0m\n\u001b[1;32m      4\u001b[0m \u001b[0mcolors\u001b[0m\u001b[0;34m[\u001b[0m\u001b[0;34m:\u001b[0m\u001b[0;34m,\u001b[0m\u001b[0;36m1\u001b[0m\u001b[0;34m]\u001b[0m \u001b[0;34m=\u001b[0m \u001b[0mcolors\u001b[0m\u001b[0;34m[\u001b[0m\u001b[0;34m:\u001b[0m\u001b[0;34m,\u001b[0m\u001b[0;36m1\u001b[0m\u001b[0;34m]\u001b[0m\u001b[0;34m*\u001b[0m\u001b[0;36m0.\u001b[0m\u001b[0;34m\u001b[0m\u001b[0;34m\u001b[0m\u001b[0m\n\u001b[1;32m      5\u001b[0m \u001b[0mboundsPoints\u001b[0m\u001b[0;34m.\u001b[0m\u001b[0mcolors\u001b[0m \u001b[0;34m=\u001b[0m \u001b[0mo3d\u001b[0m\u001b[0;34m.\u001b[0m\u001b[0mutility\u001b[0m\u001b[0;34m.\u001b[0m\u001b[0mVector3dVector\u001b[0m\u001b[0;34m(\u001b[0m\u001b[0mcolors\u001b[0m\u001b[0;34m)\u001b[0m\u001b[0;34m\u001b[0m\u001b[0;34m\u001b[0m\u001b[0m\n",
      "\u001b[0;31mNameError\u001b[0m: name 'bound' is not defined"
     ]
    }
   ],
   "source": [
    "boundsPoints = o3d.geometry.PointCloud(points=o3d.utility.Vector3dVector(bound.detach()))\n",
    "colors = np.ones_like(bound.detach()).astype(np.float64)\n",
    "colors[:,2] = colors[:,0]*0.\n",
    "colors[:,1] = colors[:,1]*0.\n",
    "boundsPoints.colors = o3d.utility.Vector3dVector(colors)\n",
    "\n",
    "zeroPoints = o3d.geometry.PointCloud(points=o3d.utility.Vector3dVector(bound.detach()*0))\n",
    "colors = np.ones_like(bound.detach()).astype(np.float64)\n",
    "colors[:,2] = colors[:,0]*0.\n",
    "colors[:,1] = colors[:,1]*0.\n",
    "colors[:,0] = colors[:,0]*0.\n",
    "zeroPoints.colors = o3d.utility.Vector3dVector(colors)\n",
    "\n",
    "o3d.visualization.draw_geometries([pointcloudMeshTarget, boundsPoints, zeroPoints])"
   ]
  },
  {
   "cell_type": "markdown",
   "id": "4d5da1e6",
   "metadata": {},
   "source": [
    "# Rekonstruktion und Sicherheit mit Neuronalem Netz\n",
    "Das Netz sollte bei Unsicherheit und keinen Punkten langsam expandieren (auf Punkte ausserhalb der Bounds trainiert werden - aber ohne das Sicherheitsnetz zu trainieren)  \n",
    "Das Netz sollte bei Sicherheit und keinen Punkten genau so bleiben und den Bounds Punkte liefern.  \n",
    "Das Netz sollte bei Sicherheit und fehlerhaften Punkten auf die richtigen Punkte trainiert werden (ohne das sicherheitsnetz zu trainieren).  \n",
    "Das Netz sollte bei Sicherheit und richtigen Punkten auf die richtigen Punkte trainiert werden."
   ]
  },
  {
   "cell_type": "code",
   "execution_count": 2,
   "id": "2487e2ee",
   "metadata": {
    "ExecuteTime": {
     "end_time": "2021-09-29T08:48:51.847095Z",
     "start_time": "2021-09-29T08:48:47.854879Z"
    }
   },
   "outputs": [
    {
     "name": "stderr",
     "output_type": "stream",
     "text": [
      "faces have mixed data, using slow fallback!\n"
     ]
    }
   ],
   "source": [
    "learnModel = SIREN([11,64,64], lastlayer=False).cuda()\n",
    "learnModelLastLayer = SIREN([64], lastlayer=True).cuda()\n",
    "uncertaintyModel = torch.nn.Sequential(nn.Linear(12,256),nn.ReLU(),nn.Linear(256,67)).cuda()\n",
    "\n",
    "center = torch.tensor([[0.,0.4,0.]])\n",
    "\n",
    "objects = pyredner.load_obj('/home/jhm/Documents/redner-master/tutorials/teapot.obj', return_objects=True)\n",
    "objectsTM = tm.load('/home/jhm/Documents/redner-master/tutorials/teapot.obj')\n",
    "\n",
    "optimLearn = torch.optim.Adam(learnModel.parameters(), lr=0.01)\n",
    "optimLast = torch.optim.Adam(learnModelLastLayer.parameters(), lr=0.01)\n",
    "optimUncertainty = torch.optim.Adam(uncertaintyModel.parameters(), lr=0.0002)"
   ]
  },
  {
   "cell_type": "code",
   "execution_count": 17,
   "id": "2f55c409",
   "metadata": {
    "ExecuteTime": {
     "end_time": "2021-09-27T11:42:32.042841Z",
     "start_time": "2021-09-27T11:42:32.039839Z"
    }
   },
   "outputs": [
    {
     "data": {
      "text/plain": [
       "[<pyredner.object.Object at 0x7fbd5dd88390>,\n",
       " <pyredner.object.Object at 0x7fbd5dd882b0>]"
      ]
     },
     "execution_count": 17,
     "metadata": {},
     "output_type": "execute_result"
    }
   ],
   "source": [
    "objects"
   ]
  },
  {
   "cell_type": "code",
   "execution_count": 3,
   "id": "e01f4f6d",
   "metadata": {
    "ExecuteTime": {
     "end_time": "2021-09-27T12:34:25.688039Z",
     "start_time": "2021-09-27T12:34:25.682622Z"
    }
   },
   "outputs": [],
   "source": [
    "ball = tm.primitives.Capsule(radius=1., height=0.,sections=128)\n",
    "def createPointsForPredictionOfSecurePoints(predictionModel, lastLayerModel, certaintyModel, certaintyThreshold = 0.3, offset = 0.05, samples = 52,):\n",
    "    sphericalInput = linAlgHelper.asSpherical(torch.tensor(ball.sample(samples)).float())[:,:2].cuda()\n",
    "    circularIn = circular2sinCosC(sphericalInput)\n",
    "    with torch.no_grad():\n",
    "        prediction1 = learnModel(circularIn)\n",
    "        distances = learnModelLastLayer(prediction1)\n",
    "        uncertainty = (uncertaintyModel(circularIn)-prediction1).abs().sum(dim=-1)\n",
    "    offsetDistances = distances + offset\n",
    "    predictedSpherical = torch.cat((sphericalInput,distances),dim=1)\n",
    "    predictedSphericalOffset = torch.cat((sphericalInput,offsetDistances),dim=1)\n",
    "    points = linAlgHelper.asCartesian(predictedSpherical)[uncertainty<certaintyThreshold].cpu()   \n",
    "    pointsOffset = linAlgHelper.asCartesian(predictedSphericalOffset)[uncertainty<certaintyThreshold].cpu()   \n",
    "    return points, pointsOffset"
   ]
  },
  {
   "cell_type": "code",
   "execution_count": 54,
   "id": "73688cf0",
   "metadata": {
    "ExecuteTime": {
     "start_time": "2021-09-27T13:34:16.891Z"
    }
   },
   "outputs": [
    {
     "name": "stdout",
     "output_type": "stream",
     "text": [
      "tensor([0.5233, 0.5319, 0.4545], device='cuda:0') tensor(2.5073, device='cuda:0')\n",
      "highDiffCertainty:  tensor([0.5331, 0.5298, 0.4602], device='cuda:0') 4.138385772705078\n",
      "lowDiffCertainty:  tensor([0.5120, 0.5352, 0.4535], device='cuda:0') 0.5542636513710022\n",
      "tensor([0.5061, 0.5187, 0.4512], device='cuda:0') tensor(2.4431, device='cuda:0')\n",
      "highDiffCertainty:  tensor([0.5080, 0.5182, 0.4522], device='cuda:0') 3.2382168769836426\n",
      "lowDiffCertainty:  tensor([0.5012, 0.5202, 0.4485], device='cuda:0') 0.17979153990745544\n",
      "tensor([0.4988, 0.5025, 0.4381], device='cuda:0') tensor(2.2827, device='cuda:0')\n",
      "highDiffCertainty:  tensor([0.4996, 0.5006, 0.4383], device='cuda:0') 2.967170238494873\n",
      "lowDiffCertainty:  tensor([0.4965, 0.5078, 0.4379], device='cuda:0') 0.1654372662305832\n",
      "tensor([0.4946, 0.4889, 0.4334], device='cuda:0') tensor(1.9113, device='cuda:0')\n",
      "highDiffCertainty:  tensor([0.4958, 0.4849, 0.4329], device='cuda:0') 2.7872087955474854\n",
      "lowDiffCertainty:  tensor([0.4928, 0.4956, 0.4342], device='cuda:0') 0.20559972524642944\n",
      "tensor([0.4927, 0.4798, 0.4304], device='cuda:0') tensor(1.4795, device='cuda:0')\n",
      "highDiffCertainty:  tensor([0.4935, 0.4764, 0.4306], device='cuda:0') 2.3921399116516113\n",
      "lowDiffCertainty:  tensor([0.4921, 0.4831, 0.4298], device='cuda:0') 0.20993760228157043\n",
      "tensor([0.4922, 0.4681, 0.4241], device='cuda:0') tensor(1.3229, device='cuda:0')\n",
      "highDiffCertainty:  tensor([0.4938, 0.4665, 0.4228], device='cuda:0') 2.3641202449798584\n",
      "lowDiffCertainty:  tensor([0.4910, 0.4672, 0.4244], device='cuda:0') 0.23416294157505035\n",
      "tensor([0.4853, 0.4571, 0.4141], device='cuda:0') tensor(1.0981, device='cuda:0')\n",
      "highDiffCertainty:  tensor([0.4858, 0.4523, 0.4137], device='cuda:0') 2.0411360263824463\n",
      "lowDiffCertainty:  tensor([0.4843, 0.4593, 0.4135], device='cuda:0') 0.2437376230955124\n",
      "tensor([0.4833, 0.4529, 0.4164], device='cuda:0') tensor(1.0172, device='cuda:0')\n",
      "highDiffCertainty:  tensor([0.4839, 0.4491, 0.4155], device='cuda:0') 1.8731236457824707\n",
      "lowDiffCertainty:  tensor([0.4827, 0.4521, 0.4155], device='cuda:0') 0.2587350010871887\n",
      "tensor([0.4793, 0.4444, 0.4119], device='cuda:0') tensor(0.9449, device='cuda:0')\n",
      "highDiffCertainty:  tensor([0.4794, 0.4423, 0.4121], device='cuda:0') 1.7365310192108154\n",
      "lowDiffCertainty:  tensor([0.4786, 0.4441, 0.4112], device='cuda:0') 0.24311918020248413\n",
      "tensor([0.4776, 0.4432, 0.4152], device='cuda:0') tensor(0.9589, device='cuda:0')\n",
      "highDiffCertainty:  tensor([0.4773, 0.4402, 0.4167], device='cuda:0') 1.7651530504226685\n",
      "lowDiffCertainty:  tensor([0.4777, 0.4424, 0.4125], device='cuda:0') 0.254705011844635\n",
      "tensor([0.4778, 0.4308, 0.4090], device='cuda:0') tensor(0.8330, device='cuda:0')\n",
      "highDiffCertainty:  tensor([0.4784, 0.4286, 0.4094], device='cuda:0') 1.5053765773773193\n",
      "lowDiffCertainty:  tensor([0.4769, 0.4290, 0.4070], device='cuda:0') 0.23095758259296417\n",
      "tensor([0.4711, 0.4013, 0.3864], device='cuda:0') tensor(0.7957, device='cuda:0')\n",
      "highDiffCertainty:  tensor([0.4719, 0.3987, 0.3845], device='cuda:0') 1.4172940254211426\n",
      "lowDiffCertainty:  tensor([0.4699, 0.4014, 0.3870], device='cuda:0') 0.2240264117717743\n",
      "tensor([0.4676, 0.4126, 0.4007], device='cuda:0') tensor(0.7286, device='cuda:0')\n",
      "highDiffCertainty:  tensor([0.4674, 0.4125, 0.4021], device='cuda:0') 1.3169987201690674\n",
      "lowDiffCertainty:  tensor([0.4678, 0.4096, 0.3981], device='cuda:0') 0.1963256597518921\n",
      "tensor([0.4623, 0.3879, 0.3863], device='cuda:0') tensor(0.6791, device='cuda:0')\n",
      "highDiffCertainty:  tensor([0.4630, 0.3864, 0.3849], device='cuda:0') 1.222959280014038\n",
      "lowDiffCertainty:  tensor([0.4619, 0.3869, 0.3856], device='cuda:0') 0.18055588006973267\n",
      "tensor([0.4658, 0.3852, 0.3884], device='cuda:0') tensor(0.5920, device='cuda:0')\n",
      "highDiffCertainty:  tensor([0.4659, 0.3852, 0.3875], device='cuda:0') 1.0975137948989868\n",
      "lowDiffCertainty:  tensor([0.4656, 0.3837, 0.3879], device='cuda:0') 0.15007761120796204\n",
      "tensor([0.4587, 0.3815, 0.3875], device='cuda:0') tensor(0.5999, device='cuda:0')\n",
      "highDiffCertainty:  tensor([0.4594, 0.3821, 0.3884], device='cuda:0') 1.0960811376571655\n",
      "lowDiffCertainty:  tensor([0.4582, 0.3794, 0.3860], device='cuda:0') 0.15145356953144073\n",
      "tensor([0.4584, 0.3696, 0.3822], device='cuda:0') tensor(0.5451, device='cuda:0')\n",
      "highDiffCertainty:  tensor([0.4589, 0.3694, 0.3829], device='cuda:0') 1.0170481204986572\n",
      "lowDiffCertainty:  tensor([0.4585, 0.3675, 0.3803], device='cuda:0') 0.1340603232383728\n",
      "tensor([0.4578, 0.3530, 0.3764], device='cuda:0') tensor(0.4531, device='cuda:0')\n",
      "highDiffCertainty:  tensor([0.4576, 0.3534, 0.3761], device='cuda:0') 0.8656834959983826\n",
      "lowDiffCertainty:  tensor([0.4577, 0.3521, 0.3761], device='cuda:0') 0.10697675496339798\n",
      "tensor([0.4441, 0.3331, 0.3698], device='cuda:0') tensor(0.4350, device='cuda:0')\n",
      "highDiffCertainty:  tensor([0.4442, 0.3332, 0.3677], device='cuda:0') 0.8219579458236694\n",
      "lowDiffCertainty:  tensor([0.4444, 0.3318, 0.3707], device='cuda:0') 0.10352487117052078\n",
      "tensor([0.4408, 0.3120, 0.3592], device='cuda:0') tensor(0.3753, device='cuda:0')\n",
      "highDiffCertainty:  tensor([0.4418, 0.3119, 0.3558], device='cuda:0') 0.7191026210784912\n",
      "lowDiffCertainty:  tensor([0.4405, 0.3113, 0.3618], device='cuda:0') 0.0838991329073906\n",
      "tensor([0.4311, 0.3035, 0.3618], device='cuda:0') tensor(0.3237, device='cuda:0')\n",
      "highDiffCertainty:  tensor([0.4319, 0.3061, 0.3612], device='cuda:0') 0.6145923733711243\n",
      "lowDiffCertainty:  tensor([0.4305, 0.3012, 0.3626], device='cuda:0') 0.07273370772600174\n",
      "tensor([0.4350, 0.2991, 0.3714], device='cuda:0') tensor(0.2926, device='cuda:0')\n",
      "highDiffCertainty:  tensor([0.4346, 0.3013, 0.3705], device='cuda:0') 0.5524464249610901\n",
      "lowDiffCertainty:  tensor([0.4354, 0.2980, 0.3718], device='cuda:0') 0.06467252224683762\n",
      "tensor([0.4170, 0.2660, 0.3581], device='cuda:0') tensor(0.2417, device='cuda:0')\n",
      "highDiffCertainty:  tensor([0.4180, 0.2685, 0.3565], device='cuda:0') 0.47390225529670715\n",
      "lowDiffCertainty:  tensor([0.4161, 0.2636, 0.3592], device='cuda:0') 0.051022280007600784\n",
      "tensor([0.4294, 0.2932, 0.3762], device='cuda:0') tensor(0.2196, device='cuda:0')\n",
      "highDiffCertainty:  tensor([0.4297, 0.2958, 0.3748], device='cuda:0') 0.40179184079170227\n",
      "lowDiffCertainty:  tensor([0.4291, 0.2912, 0.3774], device='cuda:0') 0.039967503398656845\n",
      "tensor([0.4077, 0.2480, 0.3731], device='cuda:0') tensor(0.1716, device='cuda:0')\n",
      "highDiffCertainty:  tensor([0.4082, 0.2480, 0.3724], device='cuda:0') 0.2991178631782532\n",
      "lowDiffCertainty:  tensor([0.4074, 0.2480, 0.3737], device='cuda:0') 0.02749132178723812\n",
      "tensor([0.4119, 0.2682, 0.3964], device='cuda:0') tensor(0.1513, device='cuda:0')\n",
      "highDiffCertainty:  tensor([0.4122, 0.2681, 0.3958], device='cuda:0') 0.20018713176250458\n",
      "lowDiffCertainty:  tensor([0.4112, 0.2687, 0.3981], device='cuda:0') 0.010744912549853325\n",
      "tensor([0.3998, 0.2413, 0.4024], device='cuda:0') tensor(0.1300, device='cuda:0')\n",
      "highDiffCertainty:  tensor([0.3997, 0.2418, 0.4021], device='cuda:0') 0.1915103942155838\n",
      "lowDiffCertainty:  tensor([0.3999, 0.2402, 0.4027], device='cuda:0') 0.01365412026643753\n",
      "tensor([0.4085, 0.2561, 0.4239], device='cuda:0') tensor(0.0921, device='cuda:0')\n",
      "highDiffCertainty:  tensor([0.4079, 0.2561, 0.4211], device='cuda:0') 0.17340783774852753\n",
      "lowDiffCertainty:  tensor([0.4092, 0.2562, 0.4263], device='cuda:0') 0.015307027846574783\n",
      "tensor([0.4075, 0.2523, 0.4361], device='cuda:0') tensor(0.1163, device='cuda:0')\n",
      "highDiffCertainty:  tensor([0.4076, 0.2525, 0.4345], device='cuda:0') 0.19259172677993774\n",
      "lowDiffCertainty:  tensor([0.4075, 0.2520, 0.4380], device='cuda:0') 0.014039045199751854\n",
      "tensor([0.4008, 0.2509, 0.4487], device='cuda:0') tensor(0.1015, device='cuda:0')\n",
      "highDiffCertainty:  tensor([0.4013, 0.2508, 0.4483], device='cuda:0') 0.13682132959365845\n",
      "lowDiffCertainty:  tensor([0.3999, 0.2514, 0.4502], device='cuda:0') 0.006730314809828997\n",
      "tensor([0.3856, 0.2220, 0.4633], device='cuda:0') tensor(0.1328, device='cuda:0')\n",
      "highDiffCertainty:  tensor([0.3856, 0.2200, 0.4628], device='cuda:0') 0.1894756406545639\n",
      "lowDiffCertainty:  tensor([0.3857, 0.2261, 0.4641], device='cuda:0') 0.009774474427103996\n",
      "tensor([0.3765, 0.2081, 0.4784], device='cuda:0') tensor(0.1284, device='cuda:0')\n",
      "highDiffCertainty:  tensor([0.3770, 0.2068, 0.4794], device='cuda:0') 0.2007003277540207\n",
      "lowDiffCertainty:  tensor([0.3761, 0.2097, 0.4761], device='cuda:0') 0.013514427468180656\n"
     ]
    },
    {
     "name": "stdout",
     "output_type": "stream",
     "text": [
      "tensor([0.3722, 0.1997, 0.5011], device='cuda:0') tensor(0.0944, device='cuda:0')\n",
      "highDiffCertainty:  tensor([0.3721, 0.1993, 0.5013], device='cuda:0') 0.11655561625957489\n",
      "lowDiffCertainty:  tensor([0.3727, 0.2011, 0.5006], device='cuda:0') 0.004775010980665684\n",
      "tensor([0.3752, 0.2238, 0.5200], device='cuda:0') tensor(0.0667, device='cuda:0')\n",
      "highDiffCertainty:  tensor([0.3751, 0.2228, 0.5195], device='cuda:0') 0.09956799447536469\n",
      "lowDiffCertainty:  tensor([0.3751, 0.2249, 0.5211], device='cuda:0') 0.006679247599095106\n",
      "tensor([0.3746, 0.2189, 0.5331], device='cuda:0') tensor(0.0865, device='cuda:0')\n",
      "highDiffCertainty:  tensor([0.3742, 0.2186, 0.5335], device='cuda:0') 0.10233047604560852\n",
      "lowDiffCertainty:  tensor([0.3763, 0.2204, 0.5315], device='cuda:0') 0.0037214718759059906\n",
      "tensor([0.3712, 0.2232, 0.5463], device='cuda:0') tensor(0.1200, device='cuda:0')\n",
      "highDiffCertainty:  tensor([0.3714, 0.2174, 0.5440], device='cuda:0') 0.22367781400680542\n",
      "lowDiffCertainty:  tensor([0.3702, 0.2254, 0.5493], device='cuda:0') 0.02158399485051632\n",
      "tensor([0.3573, 0.2128, 0.5744], device='cuda:0') tensor(0.0950, device='cuda:0')\n",
      "highDiffCertainty:  tensor([0.3563, 0.2085, 0.5735], device='cuda:0') 0.16698484122753143\n",
      "lowDiffCertainty:  tensor([0.3572, 0.2145, 0.5763], device='cuda:0') 0.015345233492553234\n",
      "tensor([0.3457, 0.1890, 0.5985], device='cuda:0') tensor(0.1079, device='cuda:0')\n",
      "highDiffCertainty:  tensor([0.3440, 0.1851, 0.5986], device='cuda:0') 0.19582535326480865\n",
      "lowDiffCertainty:  tensor([0.3480, 0.1923, 0.5985], device='cuda:0') 0.02033010870218277\n",
      "tensor([0.3554, 0.2102, 0.5951], device='cuda:0') tensor(0.1154, device='cuda:0')\n",
      "highDiffCertainty:  tensor([0.3546, 0.2059, 0.5939], device='cuda:0') 0.2165660858154297\n",
      "lowDiffCertainty:  tensor([0.3553, 0.2120, 0.5982], device='cuda:0') 0.020704448223114014\n",
      "tensor([0.3485, 0.2044, 0.6128], device='cuda:0') tensor(0.0987, device='cuda:0')\n",
      "highDiffCertainty:  tensor([0.3489, 0.2032, 0.6122], device='cuda:0') 0.1738595813512802\n",
      "lowDiffCertainty:  tensor([0.3468, 0.2032, 0.6151], device='cuda:0') 0.014593173749744892\n",
      "tensor([0.3195, 0.1686, 0.6543], device='cuda:0') tensor(0.0782, device='cuda:0')\n",
      "highDiffCertainty:  tensor([0.3195, 0.1684, 0.6547], device='cuda:0') 0.08799581229686737\n",
      "lowDiffCertainty:  tensor([0.3195, 0.1697, 0.6514], device='cuda:0') 0.0020987805910408497\n",
      "tensor([0.3335, 0.1955, 0.6487], device='cuda:0') tensor(0.0999, device='cuda:0')\n",
      "highDiffCertainty:  tensor([0.3303, 0.1846, 0.6526], device='cuda:0') 0.2043827474117279\n",
      "lowDiffCertainty:  tensor([0.3322, 0.1976, 0.6524], device='cuda:0') 0.021251268684864044\n",
      "tensor([0.3243, 0.1906, 0.6738], device='cuda:0') tensor(0.0764, device='cuda:0')\n",
      "highDiffCertainty:  tensor([0.3228, 0.1868, 0.6725], device='cuda:0') 0.15449213981628418\n",
      "lowDiffCertainty:  tensor([0.3245, 0.1907, 0.6771], device='cuda:0') 0.016540681943297386\n",
      "tensor([0.2893, 0.1509, 0.7207], device='cuda:0') tensor(0.0639, device='cuda:0')\n",
      "highDiffCertainty:  tensor([0.2896, 0.1510, 0.7205], device='cuda:0') 0.0688447654247284\n",
      "lowDiffCertainty:  tensor([0.2861, 0.1494, 0.7227], device='cuda:0') 0.0010613583726808429\n",
      "tensor([0.2984, 0.1751, 0.7226], device='cuda:0') tensor(0.0587, device='cuda:0')\n",
      "highDiffCertainty:  tensor([0.2984, 0.1731, 0.7230], device='cuda:0') 0.09324691444635391\n",
      "lowDiffCertainty:  tensor([0.2977, 0.1763, 0.7230], device='cuda:0') 0.007658190093934536\n",
      "tensor([0.2961, 0.1742, 0.7360], device='cuda:0') tensor(0.0953, device='cuda:0')\n",
      "highDiffCertainty:  tensor([0.2952, 0.1726, 0.7378], device='cuda:0') 0.13225282728672028\n",
      "lowDiffCertainty:  tensor([0.2992, 0.1793, 0.7311], device='cuda:0') 0.008993099443614483\n",
      "tensor([0.3006, 0.1804, 0.7387], device='cuda:0') tensor(0.0825, device='cuda:0')\n",
      "highDiffCertainty:  tensor([0.3017, 0.1773, 0.7389], device='cuda:0') 0.1609753966331482\n",
      "lowDiffCertainty:  tensor([0.2962, 0.1780, 0.7441], device='cuda:0') 0.015020683407783508\n",
      "tensor([0.2922, 0.1778, 0.7593], device='cuda:0') tensor(0.0633, device='cuda:0')\n",
      "highDiffCertainty:  tensor([0.2912, 0.1750, 0.7590], device='cuda:0') 0.12267801910638809\n",
      "lowDiffCertainty:  tensor([0.2925, 0.1787, 0.7607], device='cuda:0') 0.011011810973286629\n",
      "tensor([0.2676, 0.1526, 0.7983], device='cuda:0') tensor(0.0558, device='cuda:0')\n",
      "highDiffCertainty:  tensor([0.2655, 0.1495, 0.7999], device='cuda:0') 0.10139494389295578\n",
      "lowDiffCertainty:  tensor([0.2690, 0.1547, 0.7976], device='cuda:0') 0.008733696304261684\n",
      "tensor([0.2726, 0.1712, 0.7945], device='cuda:0') tensor(0.0644, device='cuda:0')\n",
      "highDiffCertainty:  tensor([0.2718, 0.1692, 0.7955], device='cuda:0') 0.09289184212684631\n",
      "lowDiffCertainty:  tensor([0.2739, 0.1748, 0.7926], device='cuda:0') 0.006175513844937086\n",
      "tensor([0.2720, 0.1730, 0.8034], device='cuda:0') tensor(0.0503, device='cuda:0')\n",
      "highDiffCertainty:  tensor([0.2699, 0.1687, 0.8053], device='cuda:0') 0.09545323252677917\n",
      "lowDiffCertainty:  tensor([0.2734, 0.1758, 0.8025], device='cuda:0') 0.0073912725783884525\n",
      "tensor([0.2533, 0.1568, 0.8338], device='cuda:0') tensor(0.0474, device='cuda:0')\n",
      "highDiffCertainty:  tensor([0.2480, 0.1504, 0.8382], device='cuda:0') 0.0895131379365921\n",
      "lowDiffCertainty:  tensor([0.2575, 0.1616, 0.8305], device='cuda:0') 0.008573970757424831\n",
      "tensor([0.2323, 0.1410, 0.8604], device='cuda:0') tensor(0.0467, device='cuda:0')\n",
      "highDiffCertainty:  tensor([0.2299, 0.1381, 0.8630], device='cuda:0') 0.07877219468355179\n",
      "lowDiffCertainty:  tensor([0.2351, 0.1442, 0.8574], device='cuda:0') 0.005992934573441744\n",
      "tensor([0.2226, 0.1362, 0.8761], device='cuda:0') tensor(0.0598, device='cuda:0')\n",
      "highDiffCertainty:  tensor([0.2230, 0.1366, 0.8756], device='cuda:0') 0.0672091543674469\n",
      "lowDiffCertainty:  tensor([0.2197, 0.1334, 0.8792], device='cuda:0') 0.0014759876066818833\n",
      "tensor([0.2239, 0.1434, 0.8814], device='cuda:0') tensor(0.0695, device='cuda:0')\n",
      "highDiffCertainty:  tensor([0.2164, 0.1352, 0.8892], device='cuda:0') 0.15273696184158325\n",
      "lowDiffCertainty:  tensor([0.2288, 0.1489, 0.8763], device='cuda:0') 0.013834658078849316\n",
      "tensor([0.2435, 0.1815, 0.8624], device='cuda:0') tensor(0.0769, device='cuda:0')\n",
      "highDiffCertainty:  tensor([0.2400, 0.1777, 0.8649], device='cuda:0') 0.15365426242351532\n",
      "lowDiffCertainty:  tensor([0.2427, 0.1804, 0.8648], device='cuda:0') 0.017519356682896614\n",
      "tensor([0.2236, 0.1746, 0.8824], device='cuda:0') tensor(0.0694, device='cuda:0')\n",
      "highDiffCertainty:  tensor([0.2236, 0.1745, 0.8825], device='cuda:0') 0.07020799815654755\n",
      "lowDiffCertainty:  tensor([0.2251, 0.1768, 0.8810], device='cuda:0') 0.00016142170352395624\n"
     ]
    },
    {
     "ename": "KeyboardInterrupt",
     "evalue": "",
     "output_type": "error",
     "traceback": [
      "\u001b[0;31m---------------------------------------------------------------------------\u001b[0m",
      "\u001b[0;31mKeyboardInterrupt\u001b[0m                         Traceback (most recent call last)",
      "\u001b[0;32m<ipython-input-54-8329dfca4e1a>\u001b[0m in \u001b[0;36m<module>\u001b[0;34m\u001b[0m\n\u001b[1;32m      6\u001b[0m     \u001b[0;31m#create data\u001b[0m\u001b[0;34m\u001b[0m\u001b[0;34m\u001b[0m\u001b[0;34m\u001b[0m\u001b[0m\n\u001b[1;32m      7\u001b[0m     \u001b[0;32mwith\u001b[0m \u001b[0mtorch\u001b[0m\u001b[0;34m.\u001b[0m\u001b[0mno_grad\u001b[0m\u001b[0;34m(\u001b[0m\u001b[0;34m)\u001b[0m\u001b[0;34m:\u001b[0m\u001b[0;34m\u001b[0m\u001b[0;34m\u001b[0m\u001b[0m\n\u001b[0;32m----> 8\u001b[0;31m         \u001b[0mimg\u001b[0m\u001b[0;34m,\u001b[0m \u001b[0mpos\u001b[0m\u001b[0;34m,\u001b[0m \u001b[0mmask\u001b[0m\u001b[0;34m,\u001b[0m \u001b[0mcam\u001b[0m \u001b[0;34m=\u001b[0m \u001b[0mgetView\u001b[0m\u001b[0;34m(\u001b[0m\u001b[0mobjects\u001b[0m\u001b[0;34m)\u001b[0m\u001b[0;34m\u001b[0m\u001b[0;34m\u001b[0m\u001b[0m\n\u001b[0m\u001b[1;32m      9\u001b[0m     \u001b[0memptyVectors\u001b[0m \u001b[0;34m=\u001b[0m \u001b[0;34m(\u001b[0m\u001b[0mcam\u001b[0m\u001b[0;34m.\u001b[0m\u001b[0mposition\u001b[0m\u001b[0;34m[\u001b[0m\u001b[0;32mNone\u001b[0m\u001b[0;34m,\u001b[0m\u001b[0;32mNone\u001b[0m\u001b[0;34m,\u001b[0m\u001b[0;34m:\u001b[0m\u001b[0;34m]\u001b[0m\u001b[0;34m.\u001b[0m\u001b[0mcpu\u001b[0m\u001b[0;34m(\u001b[0m\u001b[0;34m)\u001b[0m\u001b[0;34m/\u001b[0m\u001b[0;36m100.\u001b[0m\u001b[0;34m-\u001b[0m\u001b[0mpos\u001b[0m\u001b[0;34m[\u001b[0m\u001b[0mmask\u001b[0m\u001b[0;34m]\u001b[0m\u001b[0;34m.\u001b[0m\u001b[0mcpu\u001b[0m\u001b[0;34m(\u001b[0m\u001b[0;34m)\u001b[0m\u001b[0;34m)\u001b[0m\u001b[0;34m.\u001b[0m\u001b[0mreshape\u001b[0m\u001b[0;34m(\u001b[0m\u001b[0;34m-\u001b[0m\u001b[0;36m1\u001b[0m\u001b[0;34m,\u001b[0m\u001b[0;36m3\u001b[0m\u001b[0;34m)\u001b[0m\u001b[0;34m\u001b[0m\u001b[0;34m\u001b[0m\u001b[0m\n\u001b[1;32m     10\u001b[0m     \u001b[0memptyVectors\u001b[0m \u001b[0;34m=\u001b[0m \u001b[0memptyVectors\u001b[0m\u001b[0;34m/\u001b[0m\u001b[0;34m(\u001b[0m\u001b[0;34m(\u001b[0m\u001b[0memptyVectors\u001b[0m\u001b[0;34m**\u001b[0m\u001b[0;36m2\u001b[0m\u001b[0;34m)\u001b[0m\u001b[0;34m.\u001b[0m\u001b[0msum\u001b[0m\u001b[0;34m(\u001b[0m\u001b[0mdim\u001b[0m\u001b[0;34m=\u001b[0m\u001b[0;34m-\u001b[0m\u001b[0;36m1\u001b[0m\u001b[0;34m)\u001b[0m\u001b[0;34m)\u001b[0m\u001b[0;34m[\u001b[0m\u001b[0;34m:\u001b[0m\u001b[0;34m,\u001b[0m\u001b[0;32mNone\u001b[0m\u001b[0;34m]\u001b[0m\u001b[0;34m**\u001b[0m\u001b[0;36m0.5\u001b[0m\u001b[0;34m\u001b[0m\u001b[0;34m\u001b[0m\u001b[0m\n",
      "\u001b[0;32m~/Desktop/Arbeit/ConvexNeuralVolume/neuralVolumeHelper.py\u001b[0m in \u001b[0;36mgetView\u001b[0;34m(objects)\u001b[0m\n\u001b[1;32m    210\u001b[0m         \u001b[0mrgb\u001b[0m \u001b[0;34m=\u001b[0m \u001b[0mtorch\u001b[0m\u001b[0;34m.\u001b[0m\u001b[0mpow\u001b[0m\u001b[0;34m(\u001b[0m\u001b[0mimg\u001b[0m\u001b[0;34m,\u001b[0m \u001b[0;36m1.0\u001b[0m\u001b[0;34m/\u001b[0m\u001b[0;36m2.2\u001b[0m\u001b[0;34m)\u001b[0m\u001b[0;34m.\u001b[0m\u001b[0mcpu\u001b[0m\u001b[0;34m(\u001b[0m\u001b[0;34m)\u001b[0m\u001b[0;34m\u001b[0m\u001b[0;34m\u001b[0m\u001b[0m\n\u001b[1;32m    211\u001b[0m         \u001b[0mimg\u001b[0m \u001b[0;34m=\u001b[0m \u001b[0mpyredner\u001b[0m\u001b[0;34m.\u001b[0m\u001b[0mrender_deferred\u001b[0m\u001b[0;34m(\u001b[0m\u001b[0mscene\u001b[0m \u001b[0;34m=\u001b[0m \u001b[0mscene\u001b[0m\u001b[0;34m,\u001b[0m \u001b[0mlights\u001b[0m \u001b[0;34m=\u001b[0m \u001b[0;34m[\u001b[0m\u001b[0mlight\u001b[0m\u001b[0;34m]\u001b[0m\u001b[0;34m)\u001b[0m\u001b[0;34m\u001b[0m\u001b[0;34m\u001b[0m\u001b[0m\n\u001b[0;32m--> 212\u001b[0;31m         img = pyredner.render_g_buffer(scene = scene, channels = [pyredner.channels.position,\n\u001b[0m\u001b[1;32m    213\u001b[0m                                                                                                              \u001b[0mpyredner\u001b[0m\u001b[0;34m.\u001b[0m\u001b[0mchannels\u001b[0m\u001b[0;34m.\u001b[0m\u001b[0mshading_normal\u001b[0m\u001b[0;34m,\u001b[0m\u001b[0;34m\u001b[0m\u001b[0;34m\u001b[0m\u001b[0m\n\u001b[1;32m    214\u001b[0m                                                                                                              pyredner.channels.diffuse_reflectance])\n",
      "\u001b[0;32m~/miniconda3/lib/python3.8/site-packages/pyredner/render_utils.py\u001b[0m in \u001b[0;36mrender_g_buffer\u001b[0;34m(scene, channels, num_samples, seed, sample_pixel_center, use_primary_edge_sampling, use_secondary_edge_sampling, device)\u001b[0m\n\u001b[1;32m    492\u001b[0m             \u001b[0;34m|\u001b[0m \u001b[0;32melse\u001b[0m\u001b[0;34m:\u001b[0m \u001b[0ma\u001b[0m \u001b[0mtensor\u001b[0m \u001b[0;32mwith\u001b[0m \u001b[0msize\u001b[0m \u001b[0;34m[\u001b[0m\u001b[0mH\u001b[0m\u001b[0;34m,\u001b[0m \u001b[0mW\u001b[0m\u001b[0;34m,\u001b[0m \u001b[0mC\u001b[0m\u001b[0;34m]\u001b[0m\u001b[0;34m\u001b[0m\u001b[0;34m\u001b[0m\u001b[0m\n\u001b[1;32m    493\u001b[0m     \"\"\"\n\u001b[0;32m--> 494\u001b[0;31m     return render_generic(scene = scene,\n\u001b[0m\u001b[1;32m    495\u001b[0m                           \u001b[0mchannels\u001b[0m \u001b[0;34m=\u001b[0m \u001b[0mchannels\u001b[0m\u001b[0;34m,\u001b[0m\u001b[0;34m\u001b[0m\u001b[0;34m\u001b[0m\u001b[0m\n\u001b[1;32m    496\u001b[0m                           \u001b[0mmax_bounces\u001b[0m \u001b[0;34m=\u001b[0m \u001b[0;36m0\u001b[0m\u001b[0;34m,\u001b[0m\u001b[0;34m\u001b[0m\u001b[0;34m\u001b[0m\u001b[0m\n",
      "\u001b[0;32m~/miniconda3/lib/python3.8/site-packages/pyredner/render_utils.py\u001b[0m in \u001b[0;36mrender_generic\u001b[0;34m(scene, channels, max_bounces, sampler_type, num_samples, seed, sample_pixel_center, use_primary_edge_sampling, use_secondary_edge_sampling, device)\u001b[0m\n\u001b[1;32m    403\u001b[0m             \u001b[0muse_secondary_edge_sampling\u001b[0m \u001b[0;34m=\u001b[0m \u001b[0muse_secondary_edge_sampling\u001b[0m\u001b[0;34m,\u001b[0m\u001b[0;34m\u001b[0m\u001b[0;34m\u001b[0m\u001b[0m\n\u001b[1;32m    404\u001b[0m             device = device)\n\u001b[0;32m--> 405\u001b[0;31m         \u001b[0;32mreturn\u001b[0m \u001b[0mpyredner\u001b[0m\u001b[0;34m.\u001b[0m\u001b[0mRenderFunction\u001b[0m\u001b[0;34m.\u001b[0m\u001b[0mapply\u001b[0m\u001b[0;34m(\u001b[0m\u001b[0mseed\u001b[0m\u001b[0;34m,\u001b[0m \u001b[0;34m*\u001b[0m\u001b[0mscene_args\u001b[0m\u001b[0;34m)\u001b[0m\u001b[0;34m\u001b[0m\u001b[0;34m\u001b[0m\u001b[0m\n\u001b[0m\u001b[1;32m    406\u001b[0m     \u001b[0;32melse\u001b[0m\u001b[0;34m:\u001b[0m\u001b[0;34m\u001b[0m\u001b[0;34m\u001b[0m\u001b[0m\n\u001b[1;32m    407\u001b[0m         \u001b[0;32massert\u001b[0m\u001b[0;34m(\u001b[0m\u001b[0misinstance\u001b[0m\u001b[0;34m(\u001b[0m\u001b[0mscene\u001b[0m\u001b[0;34m,\u001b[0m \u001b[0mlist\u001b[0m\u001b[0;34m)\u001b[0m\u001b[0;34m)\u001b[0m\u001b[0;34m\u001b[0m\u001b[0;34m\u001b[0m\u001b[0m\n",
      "\u001b[0;32m~/miniconda3/lib/python3.8/site-packages/pyredner/render_pytorch.py\u001b[0m in \u001b[0;36mforward\u001b[0;34m(ctx, seed, *args)\u001b[0m\n\u001b[1;32m    683\u001b[0m         \u001b[0mrendered_image\u001b[0m \u001b[0;34m=\u001b[0m \u001b[0mtorch\u001b[0m\u001b[0;34m.\u001b[0m\u001b[0mzeros\u001b[0m\u001b[0;34m(\u001b[0m\u001b[0mimg_height\u001b[0m\u001b[0;34m,\u001b[0m \u001b[0mimg_width\u001b[0m\u001b[0;34m,\u001b[0m \u001b[0mnum_channels\u001b[0m\u001b[0;34m,\u001b[0m \u001b[0mdevice\u001b[0m \u001b[0;34m=\u001b[0m \u001b[0mdevice\u001b[0m\u001b[0;34m)\u001b[0m\u001b[0;34m\u001b[0m\u001b[0;34m\u001b[0m\u001b[0m\n\u001b[1;32m    684\u001b[0m         \u001b[0mstart\u001b[0m \u001b[0;34m=\u001b[0m \u001b[0mtime\u001b[0m\u001b[0;34m.\u001b[0m\u001b[0mtime\u001b[0m\u001b[0;34m(\u001b[0m\u001b[0;34m)\u001b[0m\u001b[0;34m\u001b[0m\u001b[0;34m\u001b[0m\u001b[0m\n\u001b[0;32m--> 685\u001b[0;31m         redner.render(scene,\n\u001b[0m\u001b[1;32m    686\u001b[0m                       \u001b[0moptions\u001b[0m\u001b[0;34m,\u001b[0m\u001b[0;34m\u001b[0m\u001b[0;34m\u001b[0m\u001b[0m\n\u001b[1;32m    687\u001b[0m                       \u001b[0mredner\u001b[0m\u001b[0;34m.\u001b[0m\u001b[0mfloat_ptr\u001b[0m\u001b[0;34m(\u001b[0m\u001b[0mrendered_image\u001b[0m\u001b[0;34m.\u001b[0m\u001b[0mdata_ptr\u001b[0m\u001b[0;34m(\u001b[0m\u001b[0;34m)\u001b[0m\u001b[0;34m)\u001b[0m\u001b[0;34m,\u001b[0m\u001b[0;34m\u001b[0m\u001b[0;34m\u001b[0m\u001b[0m\n",
      "\u001b[0;31mKeyboardInterrupt\u001b[0m: "
     ]
    }
   ],
   "source": [
    "for iter_idx in range(3000):\n",
    "    #print(\"iter \",iter_idx)\n",
    "    optimLast.zero_grad()\n",
    "    optimLearn.zero_grad()\n",
    "    optimUncertainty.zero_grad()\n",
    "    #create data\n",
    "    with torch.no_grad():\n",
    "        img, pos, mask, cam = getView(objects)\n",
    "    emptyVectors = (cam.position[None,None,:].cpu()/100.-pos[mask].cpu()).reshape(-1,3)\n",
    "    emptyVectors = emptyVectors/((emptyVectors**2).sum(dim=-1))[:,None]**0.5\n",
    "    emptyStart = (pos[mask].reshape(-1,3).cpu()+emptyVectors*0.09)\n",
    "    empty1 = torch.cat((emptyStart,emptyStart+emptyVectors*0.15),0)\n",
    "    empty1 = torch.cat((empty1,emptyStart+emptyVectors*0.35),0)\n",
    "    points = pos[mask].reshape(-1,3).cuda()\n",
    "    #print(\"points built\")\n",
    "    #value = -torch.ones(len(points))\n",
    "    #points = torch.cat((points,empty1),0)\n",
    "    #value = torch.cat((value,torch.ones(len(empty1))),0)[:,None]\n",
    "    #points to input\n",
    "    sphericalInput = linAlgHelper.asSpherical(points-center.cuda())\n",
    "    circularIn = circular2sinCosC(sphericalInput[:,:2].float())\n",
    "    prediction1 = learnModel(circularIn)\n",
    "    prediction = learnModelLastLayer(prediction1)\n",
    "    certainty = torch.sigmoid(uncertaintyModel(torch.cat((circularIn,prediction.detach()),1)))\n",
    "    \n",
    "    difference = prediction-sphericalInput[:,2][:,None]\n",
    "    #uncertainty should be 1 with big differences and 0 with smaller differences\n",
    "    certaintyPenalty1 = (difference.detach().abs()-0.05)*certainty[:,0][:,None]\n",
    "    certaintyPenalty2 = (difference.detach().abs()-0.10)*certainty[:,1][:,None]\n",
    "    certaintyPenalty3 = (difference.detach().abs()-0.3)*certainty[:,2][:,None]\n",
    "    highDiff = abs(difference.detach())>1.5*abs(difference.detach().mean())\n",
    "    lowDiff = abs(difference.detach())<.5*abs(difference.detach().mean())\n",
    "    #penalize too big predictions more\n",
    "    loss = (difference + 5.*difference * torch.sigmoid(difference*4.)).abs().sum()#\n",
    "    #print(\"loss of points\")\n",
    "    #learn also from empty-points\n",
    "    #sphericalInput = linAlgHelper.asSpherical(empty1-center)\n",
    "    #circularIn = circular2sinCosC(sphericalInput[:,:2].float())\n",
    "    #prediction1 = learnModel(circularIn)\n",
    "    #prediction = learnModelLastLayer(prediction1)\n",
    "    #lossEmpty = (torch.relu(prediction-sphericalInput[:,2])*10.).sum()\n",
    "    #print(\"loss of empty\")\n",
    "    #lossEmpty.backward()\n",
    "    (certaintyPenalty1.sum()+certaintyPenalty2.sum()+certaintyPenalty3.sum()).backward()\n",
    "    loss.backward()\n",
    "    optimLast.step()\n",
    "    optimLearn.step()\n",
    "    optimUncertainty.step()\n",
    "    if iter_idx%10 == 0:\n",
    "        print(certainty.detach().mean(dim=0), difference.detach().abs().mean())\n",
    "        print(\"highDiffCertainty: \", certainty.detach()[highDiff[:,0]].abs().mean(dim=0), difference.detach()[highDiff[:,0]].abs().mean().item())\n",
    "        print(\"lowDiffCertainty: \", certainty.detach()[lowDiff[:,0]].abs().mean(dim=0), difference.detach()[lowDiff[:,0]].abs().mean().item())\n",
    "\n",
    "\n",
    "\n",
    "\n"
   ]
  },
  {
   "cell_type": "code",
   "execution_count": 38,
   "id": "e99ab447",
   "metadata": {},
   "outputs": [
    {
     "data": {
      "text/plain": [
       "tensor([0.9994, 0.9995, 0.9994,  ..., 0.9990, 0.9990, 0.9990], device='cuda:0',\n",
       "       grad_fn=<SelectBackward>)"
      ]
     },
     "execution_count": 38,
     "metadata": {},
     "output_type": "execute_result"
    }
   ],
   "source": [
    "certainty[:,0]"
   ]
  },
  {
   "cell_type": "code",
   "execution_count": 29,
   "id": "f6be565f",
   "metadata": {
    "ExecuteTime": {
     "end_time": "2021-09-27T13:12:41.300757Z",
     "start_time": "2021-09-27T13:12:41.166371Z"
    }
   },
   "outputs": [
    {
     "data": {
      "text/plain": [
       "[<matplotlib.lines.Line2D at 0x7f6f48a63390>]"
      ]
     },
     "execution_count": 29,
     "metadata": {},
     "output_type": "execute_result"
    },
    {
     "data": {
      "image/png": "[encoded data removed]",
      "text/plain": [
       "<Figure size 432x288 with 1 Axes>"
      ]
     },
     "metadata": {
      "needs_background": "light"
     },
     "output_type": "display_data"
    }
   ],
   "source": [
    "plt.plot(torch.linspace(-0.05,0.3,50),torch.tanh(torch.linspace(-0.05,0.3,50)*15))"
   ]
  },
  {
   "cell_type": "code",
   "execution_count": 25,
   "id": "046ca444",
   "metadata": {
    "ExecuteTime": {
     "end_time": "2021-09-27T13:11:40.446165Z",
     "start_time": "2021-09-27T13:11:40.442295Z"
    }
   },
   "outputs": [
    {
     "data": {
      "text/plain": [
       "tensor(0.)"
      ]
     },
     "execution_count": 25,
     "metadata": {},
     "output_type": "execute_result"
    }
   ],
   "source": [
    "torch.tanh(torch.tensor(0.))"
   ]
  },
  {
   "cell_type": "code",
   "execution_count": null,
   "id": "3e6f3131",
   "metadata": {
    "ExecuteTime": {
     "end_time": "2021-09-24T11:14:53.293415Z",
     "start_time": "2021-09-24T11:14:53.154939Z"
    }
   },
   "outputs": [],
   "source": [
    "plt.plot(torch.linspace(-2,2,100), abs(torch.linspace(-2,2,100)+2*torch.linspace(-2,2,100)*torch.sigmoid(4*torch.linspace(-2,2,100))))"
   ]
  },
  {
   "cell_type": "markdown",
   "id": "10595a3a",
   "metadata": {},
   "source": [
    "try without changing camera directions (first only from positive points)"
   ]
  },
  {
   "cell_type": "code",
   "execution_count": 19,
   "id": "5f9d7199",
   "metadata": {
    "ExecuteTime": {
     "end_time": "2021-09-27T13:48:25.445422Z",
     "start_time": "2021-09-27T13:48:03.892292Z"
    }
   },
   "outputs": [
    {
     "name": "stdout",
     "output_type": "stream",
     "text": [
      "tensor(44.6407, device='cuda:0') tensor(3.5664, device='cuda:0')\n",
      "highDiffCertainty:  tensor(51.1561, device='cuda:0') 7.329883575439453\n",
      "lowDiffCertainty:  tensor(42.8069, device='cuda:0') 1.0919530391693115\n",
      "tensor(23.2901, device='cuda:0') tensor(0.8856, device='cuda:0')\n",
      "highDiffCertainty:  tensor(25.2125, device='cuda:0') 1.5340774059295654\n",
      "lowDiffCertainty:  tensor(23.0464, device='cuda:0') 0.18633991479873657\n",
      "tensor(19.0213, device='cuda:0') tensor(0.7171, device='cuda:0')\n",
      "highDiffCertainty:  tensor(23.6243, device='cuda:0') 1.3632009029388428\n",
      "lowDiffCertainty:  tensor(20.6381, device='cuda:0') 0.20075857639312744\n",
      "tensor(18.8709, device='cuda:0') tensor(0.3916, device='cuda:0')\n",
      "highDiffCertainty:  tensor(19.9303, device='cuda:0') 0.7311310768127441\n",
      "lowDiffCertainty:  tensor(19.9198, device='cuda:0') 0.09723624587059021\n",
      "tensor(16.6512, device='cuda:0') tensor(0.1214, device='cuda:0')\n",
      "highDiffCertainty:  tensor(16.9194, device='cuda:0') 0.19300590455532074\n",
      "lowDiffCertainty:  tensor(16.2299, device='cuda:0') 0.014183493331074715\n",
      "tensor(15.2708, device='cuda:0') tensor(0.0733, device='cuda:0')\n",
      "highDiffCertainty:  tensor(15.3786, device='cuda:0') 0.09475107491016388\n",
      "lowDiffCertainty:  tensor(14.1446, device='cuda:0') 0.005088553298264742\n",
      "tensor(14.4347, device='cuda:0') tensor(0.0710, device='cuda:0')\n",
      "highDiffCertainty:  tensor(14.5087, device='cuda:0') 0.09388457983732224\n",
      "lowDiffCertainty:  tensor(14.6952, device='cuda:0') 0.005587880965322256\n",
      "tensor(13.6861, device='cuda:0') tensor(0.0672, device='cuda:0')\n",
      "highDiffCertainty:  tensor(13.7864, device='cuda:0') 0.08811204880475998\n",
      "lowDiffCertainty:  tensor(13.6396, device='cuda:0') 0.004768166225403547\n",
      "tensor(13.6182, device='cuda:0') tensor(0.0651, device='cuda:0')\n",
      "highDiffCertainty:  tensor(13.6665, device='cuda:0') 0.08061298727989197\n",
      "lowDiffCertainty:  tensor(13.1394, device='cuda:0') 0.003137802006676793\n",
      "tensor(13.3388, device='cuda:0') tensor(0.0647, device='cuda:0')\n",
      "highDiffCertainty:  tensor(13.4844, device='cuda:0') 0.08306115865707397\n",
      "lowDiffCertainty:  tensor(13.3565, device='cuda:0') 0.004388375207781792\n",
      "tensor(12.6912, device='cuda:0') tensor(0.0640, device='cuda:0')\n",
      "highDiffCertainty:  tensor(13.2416, device='cuda:0') 0.08700142055749893\n",
      "lowDiffCertainty:  tensor(11.7693, device='cuda:0') 0.004868226125836372\n",
      "tensor(11.9540, device='cuda:0') tensor(0.0606, device='cuda:0')\n",
      "highDiffCertainty:  tensor(12.1400, device='cuda:0') 0.07607273012399673\n",
      "lowDiffCertainty:  tensor(11.2839, device='cuda:0') 0.002514219842851162\n",
      "tensor(12.1059, device='cuda:0') tensor(0.0579, device='cuda:0')\n",
      "highDiffCertainty:  tensor(12.3948, device='cuda:0') 0.07474204152822495\n",
      "lowDiffCertainty:  tensor(10.8797, device='cuda:0') 0.0037533349823206663\n",
      "tensor(11.8257, device='cuda:0') tensor(0.0601, device='cuda:0')\n",
      "highDiffCertainty:  tensor(11.9293, device='cuda:0') 0.07198110967874527\n",
      "lowDiffCertainty:  tensor(11.2102, device='cuda:0') 0.00262921373359859\n",
      "tensor(11.5576, device='cuda:0') tensor(0.0572, device='cuda:0')\n",
      "highDiffCertainty:  tensor(11.9050, device='cuda:0') 0.07567228376865387\n",
      "lowDiffCertainty:  tensor(10.1823, device='cuda:0') 0.003790586721152067\n",
      "tensor(11.1716, device='cuda:0') tensor(0.0591, device='cuda:0')\n",
      "highDiffCertainty:  tensor(11.6720, device='cuda:0') 0.08879052102565765\n",
      "lowDiffCertainty:  tensor(9.8091, device='cuda:0') 0.004851600620895624\n",
      "tensor(11.2983, device='cuda:0') tensor(0.0528, device='cuda:0')\n",
      "highDiffCertainty:  tensor(11.3758, device='cuda:0') 0.05649254471063614\n",
      "lowDiffCertainty:  tensor(9.8203, device='cuda:0') 0.0007428985554724932\n",
      "tensor(11.0413, device='cuda:0') tensor(0.0554, device='cuda:0')\n",
      "highDiffCertainty:  tensor(11.5363, device='cuda:0') 0.07411394268274307\n",
      "lowDiffCertainty:  tensor(9.7062, device='cuda:0') 0.004266310483217239\n",
      "tensor(10.9072, device='cuda:0') tensor(0.0519, device='cuda:0')\n",
      "highDiffCertainty:  tensor(11.1298, device='cuda:0') 0.0576159730553627\n",
      "lowDiffCertainty:  tensor(8.9288, device='cuda:0') 0.0013321690494194627\n",
      "tensor(10.7001, device='cuda:0') tensor(0.0526, device='cuda:0')\n",
      "highDiffCertainty:  tensor(10.9318, device='cuda:0') 0.06210925057530403\n",
      "lowDiffCertainty:  tensor(8.8724, device='cuda:0') 0.0016750028589740396\n",
      "tensor(10.6279, device='cuda:0') tensor(0.0507, device='cuda:0')\n",
      "highDiffCertainty:  tensor(10.7222, device='cuda:0') 0.058027058839797974\n",
      "lowDiffCertainty:  tensor(10.7185, device='cuda:0') 0.0013666825834661722\n",
      "tensor(10.6707, device='cuda:0') tensor(0.0488, device='cuda:0')\n",
      "highDiffCertainty:  tensor(11.0034, device='cuda:0') 0.06463771313428879\n",
      "lowDiffCertainty:  tensor(9.2375, device='cuda:0') 0.0029506837017834187\n",
      "tensor(10.1589, device='cuda:0') tensor(0.0497, device='cuda:0')\n",
      "highDiffCertainty:  tensor(10.4520, device='cuda:0') 0.0639723464846611\n",
      "lowDiffCertainty:  tensor(9.0656, device='cuda:0') 0.002694639377295971\n",
      "tensor(10.1600, device='cuda:0') tensor(0.0485, device='cuda:0')\n",
      "highDiffCertainty:  tensor(10.2907, device='cuda:0') 0.05213373526930809\n",
      "lowDiffCertainty:  tensor(8.9346, device='cuda:0') 0.0005667287623509765\n",
      "tensor(9.8798, device='cuda:0') tensor(0.0454, device='cuda:0')\n",
      "highDiffCertainty:  tensor(10.0049, device='cuda:0') 0.05366303399205208\n",
      "lowDiffCertainty:  tensor(9.2111, device='cuda:0') 0.0016945446841418743\n",
      "tensor(9.8842, device='cuda:0') tensor(0.0441, device='cuda:0')\n",
      "highDiffCertainty:  tensor(10.1971, device='cuda:0') 0.054487444460392\n",
      "lowDiffCertainty:  tensor(8.5976, device='cuda:0') 0.0016155816847458482\n",
      "tensor(9.6688, device='cuda:0') tensor(0.0411, device='cuda:0')\n",
      "highDiffCertainty:  tensor(9.9899, device='cuda:0') 0.05081339180469513\n",
      "lowDiffCertainty:  tensor(8.3084, device='cuda:0') 0.001880600000731647\n",
      "tensor(9.9380, device='cuda:0') tensor(0.0445, device='cuda:0')\n",
      "highDiffCertainty:  tensor(10.2852, device='cuda:0') 0.06042021885514259\n",
      "lowDiffCertainty:  tensor(9.2692, device='cuda:0') 0.002646527485921979\n",
      "tensor(9.4428, device='cuda:0') tensor(0.0442, device='cuda:0')\n",
      "highDiffCertainty:  tensor(9.8627, device='cuda:0') 0.057084646075963974\n",
      "lowDiffCertainty:  tensor(7.8829, device='cuda:0') 0.002418716438114643\n",
      "tensor(9.8826, device='cuda:0') tensor(0.0407, device='cuda:0')\n",
      "highDiffCertainty:  tensor(9.9116, device='cuda:0') 0.041474610567092896\n",
      "lowDiffCertainty:  tensor(8.7736, device='cuda:0') 0.00018590688705444336\n",
      "tensor(9.6066, device='cuda:0') tensor(0.0354, device='cuda:0')\n",
      "highDiffCertainty:  tensor(9.8067, device='cuda:0') 0.04230714589357376\n",
      "lowDiffCertainty:  tensor(8.3013, device='cuda:0') 0.0012765193823724985\n",
      "tensor(8.9881, device='cuda:0') tensor(0.0387, device='cuda:0')\n",
      "highDiffCertainty:  tensor(9.2840, device='cuda:0') 0.0511532686650753\n",
      "lowDiffCertainty:  tensor(7.9402, device='cuda:0') 0.0021880941931158304\n",
      "tensor(8.8678, device='cuda:0') tensor(0.0352, device='cuda:0')\n",
      "highDiffCertainty:  tensor(8.9628, device='cuda:0') 0.03957325965166092\n",
      "lowDiffCertainty:  tensor(8.1623, device='cuda:0') 0.0008898013038560748\n",
      "tensor(9.0537, device='cuda:0') tensor(0.0317, device='cuda:0')\n",
      "highDiffCertainty:  tensor(9.0945, device='cuda:0') 0.03264785185456276\n",
      "lowDiffCertainty:  tensor(6.8712, device='cuda:0') 0.00018303468823432922\n",
      "tensor(8.4252, device='cuda:0') tensor(0.0300, device='cuda:0')\n",
      "highDiffCertainty:  tensor(8.4443, device='cuda:0') 0.031172199174761772\n",
      "lowDiffCertainty:  tensor(6.9902, device='cuda:0') 0.0001576476643094793\n",
      "tensor(8.2834, device='cuda:0') tensor(0.0315, device='cuda:0')\n",
      "highDiffCertainty:  tensor(8.3252, device='cuda:0') 0.03293932229280472\n",
      "lowDiffCertainty:  tensor(7.1345, device='cuda:0') 0.00024808518355712295\n",
      "tensor(8.4645, device='cuda:0') tensor(0.0315, device='cuda:0')\n",
      "highDiffCertainty:  tensor(8.5489, device='cuda:0') 0.03500695526599884\n",
      "lowDiffCertainty:  tensor(8.2357, device='cuda:0') 0.0006850599893368781\n",
      "tensor(8.2563, device='cuda:0') tensor(0.0276, device='cuda:0')\n",
      "highDiffCertainty:  tensor(8.4059, device='cuda:0') 0.034522801637649536\n",
      "lowDiffCertainty:  tensor(8.0164, device='cuda:0') 0.0011780071072280407\n",
      "tensor(8.4105, device='cuda:0') tensor(0.0304, device='cuda:0')\n",
      "highDiffCertainty:  tensor(8.4201, device='cuda:0') 0.03160007670521736\n",
      "lowDiffCertainty:  tensor(7.0547, device='cuda:0') 0.0002816885826177895\n",
      "tensor(7.9829, device='cuda:0') tensor(0.0276, device='cuda:0')\n",
      "highDiffCertainty:  tensor(8.0356, device='cuda:0') 0.02968965843319893\n",
      "lowDiffCertainty:  tensor(6.8761, device='cuda:0') 0.00028333731461316347\n"
     ]
    },
    {
     "name": "stdout",
     "output_type": "stream",
     "text": [
      "tensor(8.2511, device='cuda:0') tensor(0.0269, device='cuda:0')\n",
      "highDiffCertainty:  tensor(8.5382, device='cuda:0') 0.03389707952737808\n",
      "lowDiffCertainty:  tensor(7.1039, device='cuda:0') 0.0009814818622544408\n",
      "tensor(7.7660, device='cuda:0') tensor(0.0230, device='cuda:0')\n",
      "highDiffCertainty:  tensor(7.9026, device='cuda:0') 0.026516061276197433\n",
      "lowDiffCertainty:  tensor(6.2684, device='cuda:0') 0.0006299493834376335\n",
      "tensor(7.8757, device='cuda:0') tensor(0.0254, device='cuda:0')\n",
      "highDiffCertainty:  tensor(8.0848, device='cuda:0') 0.032887473702430725\n",
      "lowDiffCertainty:  tensor(7.1345, device='cuda:0') 0.001392242033034563\n",
      "tensor(7.7069, device='cuda:0') tensor(0.0233, device='cuda:0')\n",
      "highDiffCertainty:  tensor(7.8778, device='cuda:0') 0.029032811522483826\n",
      "lowDiffCertainty:  tensor(7.2500, device='cuda:0') 0.0007984840776771307\n",
      "tensor(7.9944, device='cuda:0') tensor(0.0256, device='cuda:0')\n",
      "highDiffCertainty:  tensor(8.0038, device='cuda:0') 0.026087017729878426\n",
      "lowDiffCertainty:  tensor(8.5137, device='cuda:0') 6.459866563091055e-05\n",
      "tensor(7.6693, device='cuda:0') tensor(0.0227, device='cuda:0')\n",
      "highDiffCertainty:  tensor(7.8608, device='cuda:0') 0.02929212525486946\n",
      "lowDiffCertainty:  tensor(7.3075, device='cuda:0') 0.001053627347573638\n",
      "tensor(7.7494, device='cuda:0') tensor(0.0218, device='cuda:0')\n",
      "highDiffCertainty:  tensor(7.8644, device='cuda:0') 0.023792941123247147\n",
      "lowDiffCertainty:  tensor(5.5521, device='cuda:0') 0.0003163417277392\n",
      "tensor(7.6784, device='cuda:0') tensor(0.0225, device='cuda:0')\n",
      "highDiffCertainty:  tensor(7.8476, device='cuda:0') 0.02742869034409523\n",
      "lowDiffCertainty:  tensor(7.3862, device='cuda:0') 0.001069757156074047\n",
      "tensor(7.7491, device='cuda:0') tensor(0.0223, device='cuda:0')\n",
      "highDiffCertainty:  tensor(7.9207, device='cuda:0') 0.0255176592618227\n",
      "lowDiffCertainty:  tensor(6.5701, device='cuda:0') 0.0005500434199348092\n",
      "tensor(7.4681, device='cuda:0') tensor(0.0224, device='cuda:0')\n",
      "highDiffCertainty:  tensor(7.6059, device='cuda:0') 0.02524726465344429\n",
      "lowDiffCertainty:  tensor(6.4052, device='cuda:0') 0.00047191110206767917\n",
      "tensor(7.2812, device='cuda:0') tensor(0.0224, device='cuda:0')\n",
      "highDiffCertainty:  tensor(7.3911, device='cuda:0') 0.025094186887145042\n",
      "lowDiffCertainty:  tensor(6.3545, device='cuda:0') 0.0003529881942085922\n",
      "tensor(7.2434, device='cuda:0') tensor(0.0197, device='cuda:0')\n",
      "highDiffCertainty:  tensor(7.3139, device='cuda:0') 0.021495847031474113\n",
      "lowDiffCertainty:  tensor(6.2424, device='cuda:0') 0.0002765409299172461\n",
      "tensor(6.8031, device='cuda:0') tensor(0.0213, device='cuda:0')\n",
      "highDiffCertainty:  tensor(6.9131, device='cuda:0') 0.024078568443655968\n",
      "lowDiffCertainty:  tensor(6.3878, device='cuda:0') 0.0004687639302574098\n",
      "tensor(6.5521, device='cuda:0') tensor(0.0205, device='cuda:0')\n",
      "highDiffCertainty:  tensor(6.5770, device='cuda:0') 0.021043039858341217\n",
      "lowDiffCertainty:  tensor(5.4808, device='cuda:0') 0.00011270493268966675\n",
      "tensor(6.8225, device='cuda:0') tensor(0.0220, device='cuda:0')\n",
      "highDiffCertainty:  tensor(6.8945, device='cuda:0') 0.023595906794071198\n",
      "lowDiffCertainty:  tensor(6.0627, device='cuda:0') 0.00025908785755746067\n",
      "tensor(6.4108, device='cuda:0') tensor(0.0194, device='cuda:0')\n",
      "highDiffCertainty:  tensor(6.4262, device='cuda:0') 0.01979241706430912\n",
      "lowDiffCertainty:  tensor(5.6464, device='cuda:0') 8.635057747596875e-05\n",
      "tensor(6.1120, device='cuda:0') tensor(0.0159, device='cuda:0')\n",
      "highDiffCertainty:  tensor(6.2610, device='cuda:0') 0.018575027585029602\n",
      "lowDiffCertainty:  tensor(5.3557, device='cuda:0') 0.00045225227950140834\n",
      "tensor(6.2640, device='cuda:0') tensor(0.0186, device='cuda:0')\n",
      "highDiffCertainty:  tensor(6.3388, device='cuda:0') 0.019803892821073532\n",
      "lowDiffCertainty:  tensor(5.0205, device='cuda:0') 0.00022105686366558075\n",
      "tensor(6.1442, device='cuda:0') tensor(0.0182, device='cuda:0')\n",
      "highDiffCertainty:  tensor(6.1570, device='cuda:0') 0.01864786632359028\n",
      "lowDiffCertainty:  tensor(7.0803, device='cuda:0') 3.124475551885553e-05\n",
      "tensor(6.2297, device='cuda:0') tensor(0.0185, device='cuda:0')\n",
      "highDiffCertainty:  tensor(6.3051, device='cuda:0') 0.020843951031565666\n",
      "lowDiffCertainty:  tensor(5.6298, device='cuda:0') 0.00044113644980825484\n"
     ]
    }
   ],
   "source": [
    "proximity = tm.proximity.ProximityQuery(objectsTM)\n",
    "\n",
    "for iter_idx in range(3000):\n",
    "    #print(\"iter \",iter_idx)\n",
    "    optimLast.zero_grad()\n",
    "    optimLearn.zero_grad()\n",
    "    optimUncertainty.zero_grad()\n",
    "    #create data\n",
    "    points = torch.tensor(objectsTM.sample(1500)).float().cuda()/100.\n",
    "    points = points[(points[:,0] > 0.)] #only positive points\n",
    "    #empty = (np.random.rand(2000,3)-0.5)*150\n",
    "    #print(\"points built\")\n",
    "    #value = -torch.ones(len(points))\n",
    "    #points = torch.cat((points,empty1),0)\n",
    "    #value = torch.cat((value,torch.ones(len(empty1))),0)[:,None]\n",
    "    #points to input\n",
    "    sphericalInput = linAlgHelper.asSpherical(points-center.cuda())\n",
    "    circularIn = circular2sinCosC(sphericalInput[:,:2].float())\n",
    "    prediction1 = learnModel(circularIn)\n",
    "    prediction = learnModelLastLayer(prediction1)\n",
    "    uncertaintyOut = uncertaintyModel(torch.cat((circularIn,prediction.detach()),1))\n",
    "    uncertainty = (uncertaintyOut[:,:-3]-prediction1.detach()).abs().sum(dim=1)\n",
    "    difference = prediction-sphericalInput[:,2][:,None]\n",
    "    #uncertainty should be 1 with big differences and 0 with smaller differences\n",
    "    certaintyPenalty1 = (difference.detach().abs()-0.05)*uncertaintyOut[:,-3][:,None].clamp(-10,10)\n",
    "    certaintyPenalty2 = (difference.detach().abs()-0.10)*uncertaintyOut[:,-2][:,None].clamp(-10,10)\n",
    "    certaintyPenalty3 = (difference.detach().abs()-0.3)*uncertaintyOut[:,-1][:,None].clamp(-10,10)\n",
    "    highDiff = abs(difference.detach())>1.5*abs(difference.detach().mean())\n",
    "    lowDiff = abs(difference.detach())<.5*abs(difference.detach().mean())\n",
    "    #penalize too big predictions more\n",
    "    loss = (difference + 5.*difference * torch.sigmoid(difference*4.)).abs().sum()#\n",
    "    #print(\"loss of points\")\n",
    "    #learn also from empty-points\n",
    "    #sphericalInput = linAlgHelper.asSpherical(empty1-center)\n",
    "    #circularIn = circular2sinCosC(sphericalInput[:,:2].float())\n",
    "    #prediction1 = learnModel(circularIn)\n",
    "    #prediction = learnModelLastLayer(prediction1)\n",
    "    #lossEmpty = (torch.relu(prediction-sphericalInput[:,2])*10.).sum()\n",
    "    #print(\"loss of empty\")\n",
    "    #lossEmpty.backward()\n",
    "    uncertSum = uncertainty.sum()+certaintyPenalty1.sum()+certaintyPenalty2.sum()+certaintyPenalty3.sum()\n",
    "    uncertSum.backward()\n",
    "    loss.backward()\n",
    "    optimLast.step()\n",
    "    optimLearn.step()\n",
    "    optimUncertainty.step()\n",
    "    if iter_idx%50 == 0:\n",
    "        print(uncertainty.detach().mean(dim=0), difference.detach().abs().mean())\n",
    "        print(\"highDiffCertainty: \", uncertainty.detach()[highDiff[:,0]].abs().mean(dim=0), difference.detach()[highDiff[:,0]].abs().mean().item())\n",
    "        print(\"lowDiffCertainty: \", uncertainty.detach()[lowDiff[:,0]].abs().mean(dim=0), difference.detach()[lowDiff[:,0]].abs().mean().item())\n",
    "\n"
   ]
  },
  {
   "cell_type": "code",
   "execution_count": 21,
   "id": "cd9d3786",
   "metadata": {},
   "outputs": [
    {
     "name": "stdout",
     "output_type": "stream",
     "text": [
      "tensor(0.0072, device='cuda:0') tensor(9.5396, device='cuda:0')\n",
      "tensor(-0.0037, device='cuda:0')\n"
     ]
    }
   ],
   "source": [
    "print(uncertaintyOut[:,:-3].detach().mean(), uncertaintyOut[:,-3].detach().mean())\n",
    "print(difference.detach().mean())"
   ]
  },
  {
   "cell_type": "code",
   "execution_count": 29,
   "id": "b7286649",
   "metadata": {},
   "outputs": [
    {
     "name": "stdout",
     "output_type": "stream",
     "text": [
      "tensor(-0.0107, device='cuda:0', grad_fn=<MeanBackward0>) tensor(7.4758, device='cuda:0', grad_fn=<MeanBackward0>)\n",
      "tensor(-0.0167, device='cuda:0')\n"
     ]
    }
   ],
   "source": [
    "# teste jetzt punkte aus anderen quadranten - die sicherheit sollte gering sein!\n",
    "\n",
    "points = torch.tensor(objectsTM.sample(1500)).float().cuda()/100.\n",
    "points = points[(points[:,2] < 0.)] #only negative points\n",
    "#empty = (np.random.rand(2000,3)-0.5)*150\n",
    "#print(\"points built\")\n",
    "#value = -torch.ones(len(points))\n",
    "#points = torch.cat((points,empty1),0)\n",
    "#value = torch.cat((value,torch.ones(len(empty1))),0)[:,None]\n",
    "#points to input\n",
    "sphericalInput = linAlgHelper.asSpherical(points-center.cuda())\n",
    "circularIn = circular2sinCosC(sphericalInput[:,:2].float())\n",
    "prediction1 = learnModel(circularIn)\n",
    "prediction = learnModelLastLayer(prediction1)\n",
    "uncertaintyOut = uncertaintyModel(torch.cat((circularIn,prediction.detach()),1))\n",
    "uncertainty = (uncertaintyOut[:,:-3]-prediction1.detach()).abs().sum(dim=1)\n",
    "difference = prediction-sphericalInput[:,2][:,None]\n",
    "\n",
    "print((uncertaintyOut[:,:-3]-prediction1.detach()).mean(), uncertaintyOut[:,-3].mean())\n",
    "print(difference.detach().mean())"
   ]
  },
  {
   "cell_type": "code",
   "execution_count": 49,
   "id": "2257c907",
   "metadata": {},
   "outputs": [
    {
     "data": {
      "text/plain": [
       "tensor([], device='cuda:0', size=(0, 3))"
      ]
     },
     "execution_count": 49,
     "metadata": {},
     "output_type": "execute_result"
    }
   ],
   "source": [
    "points"
   ]
  },
  {
   "cell_type": "code",
   "execution_count": 31,
   "id": "799bb955",
   "metadata": {
    "ExecuteTime": {
     "end_time": "2021-09-27T13:46:29.948797Z",
     "start_time": "2021-09-27T13:46:09.973317Z"
    }
   },
   "outputs": [],
   "source": [
    "pointcloudTarget = (objectsTM.sample(1500))/100.-center.numpy()\n",
    "\n",
    "pointcloudT = o3d.geometry.PointCloud(points=o3d.utility.Vector3dVector(pointcloudTarget))\n",
    "colors = np.ones_like(pointcloudTarget).astype(np.float64)\n",
    "colors[:,2] = colors[:,0]*0.\n",
    "colors[:,0] = colors[:,1]*0.\n",
    "pointcloudT.colors = o3d.utility.Vector3dVector(colors)\n",
    "\n",
    "vertices, faces = meshIt(torch.nn.Sequential(learnModel,learnModelLastLayer))\n",
    "learnMesh = tm.Trimesh(vertices=vertices, faces=faces)\n",
    "\n",
    "pointcloudMesh = learnMesh.sample(1000)\n",
    "pointcloudE = o3d.geometry.PointCloud(points=o3d.utility.Vector3dVector(pointcloudMesh))\n",
    "colors = np.ones_like(pointcloudMesh).astype(np.float64)\n",
    "colors[:,1] = colors[:,0]*0.\n",
    "colors[:,2] = colors[:,1]*0.\n",
    "pointcloudE.colors = o3d.utility.Vector3dVector(colors)\n",
    "\n",
    "\n",
    "o3d.visualization.draw_geometries([ pointcloudT,pointcloudE])"
   ]
  },
  {
   "cell_type": "markdown",
   "id": "31f84b4d",
   "metadata": {},
   "source": [
    "# Neubewertung des Values der Punkte bei sicherer Rekonstruktion  \n",
    "Eine sichere Rekonstruktion ausserhalb der Bounds sollte die Bounds verschieben.  \n",
    "Starke Unsicherheit sollte ebenfalls die Bounds ein wenig nach aussen schieben.  (hier hat das Netz niemals Punkte gesehen).\n",
    "Eine sichere aber fehlerhafte Rekonstruktion sollte viel Value erhalten und die Bounds nach innen führen.  \n",
    "Eine sichere Rekonstruktion innerhalb der Bounds sollte ebenfalls viel Value erzeugen und die Bounds an Ort und Stelle lassen."
   ]
  },
  {
   "cell_type": "code",
   "execution_count": null,
   "id": "d799c12e",
   "metadata": {},
   "outputs": [],
   "source": []
  },
  {
   "cell_type": "markdown",
   "id": "8af7d78b",
   "metadata": {
    "ExecuteTime": {
     "end_time": "2021-09-22T15:23:24.908059Z",
     "start_time": "2021-09-22T15:23:24.905997Z"
    }
   },
   "source": [
    "# mit interaktion zwischen Mehreren Objekten mit Bounds\n",
    "Points Gained werden durch andere Objekte maskiert - sofern ihr inneres Loss 0 beträgt (oder sehr gering ist)   \n",
    "Überschneidung von Objekten untereinander muss bestraft werden (inner Loss von beiden erhöhen?)  \n",
    "Wird wohl objektorientiert aufgebaut werden müssen"
   ]
  },
  {
   "cell_type": "code",
   "execution_count": null,
   "id": "364b51e9",
   "metadata": {},
   "outputs": [],
   "source": [
    "class NeuralBound:\n",
    "    pointOccupationVector = torch.Tensor([[]])\n",
    "    neuralBoundList = []\n",
    "    unoccupiedRegions = torch.Tensor([[]])\n",
    "    \n",
    "    def createOccupationVector(points):\n",
    "        neuralBound.pointOccupationVector = torch.zeros_like(points[:,0])\n",
    "        for volume in neuralBound.neuralBoundList:\n",
    "            volume.insideOccupation(points)\n",
    "        neuralBound.unoccupiedRegions = neuralBound.pointOccupationVector == 0\n",
    "        neuralBound.pointOccupationVector = neuralBound.pointOccupationVector > 1\n",
    "    \n",
    "    def __init__(self, \n",
    "                 additionalBounds = None,\n",
    "                 boundsize = 1.,\n",
    "                 center=torch.Tensor([[0.,0.,0.]]), \n",
    "                 verbose=True,\n",
    "                centerLR = 0.01,\n",
    "                boundsLR = 0.01):\n",
    "        self.center = center.cuda()\n",
    "        self.bounds = torch.Tensor([[1.,0.,0.],[0.,1.,0.],[0.,0.,1.],[-1.,0.,0.],[0.,-1.,0.],[0.,0.,-1.]])*boundsize\n",
    "        if additionalBounds is not None:\n",
    "            self.bounds = torch.cat((self.bounds,additionalBounds),0)\n",
    "        self.bounds = self.bounds.cuda()\n",
    "        self.name = \"newBound\"\n",
    "        self.verbose = verbose\n",
    "        self.center.requires_grad = True\n",
    "        self.bounds.requires_grad = True\n",
    "        self.centerOptim = torch.optim.Adam([self.center], lr=centerLR)\n",
    "        self.boundsOptim = torch.optim.Adam([self.bounds], lr=boundsLR)\n",
    "        neuralBound.neuralBoundList.append(self)\n",
    "        if self.verbose:\n",
    "            print(\"{} was created at {}\".format(self.name, self.center.cpu().detach()))\n",
    "    \n",
    "    def getVolume(self):\n",
    "        return (self.bounds[0]-self.bounds[3])[0].detach()*(self.bounds[1]-self.bounds[4])[1].detach()*(self.bounds[2]-self.bounds[5])[2].detach()\n",
    "    \n",
    "    def clampBounds(self):\n",
    "        self.bounds[0,0].clamp(-99999,-0.01)\n",
    "        self.bounds[0,1] = 0.\n",
    "        self.bounds[0,2] = 0.\n",
    "        self.bounds[3,0].clamp(0.01,99999)\n",
    "        self.bounds[3,1] = 0.\n",
    "        self.bounds[3,2] = 0.\n",
    "        self.bounds[1,1].clamp(-99999,-0.01)\n",
    "        self.bounds[1,0] = 0.\n",
    "        self.bounds[1,2] = 0.\n",
    "        self.bounds[4,1].clamp(0.01,99999)\n",
    "        self.bounds[4,0] = 0.\n",
    "        self.bounds[4,2] = 0.\n",
    "        self.bounds[2,2].clamp(-99999,-0.01)\n",
    "        self.bounds[2,0] = 0.\n",
    "        self.bounds[2,1] = 0.\n",
    "        self.bounds[5,2].clamp(0.01,99999)\n",
    "        self.bounds[5,0] = 0.\n",
    "        self.bounds[5,1] = 0.\n",
    "        \n",
    "    def insideOccupation(self, points):\n",
    "        '''Takes only surfacepoints (n,3)'''\n",
    "        with torch.no_grad():\n",
    "            centeredPoints = points-self.center\n",
    "            boundsTest = linAlgHelper.getPointDistances2PlaneNormal(centeredPoints[None,:,:], self.bounds[None,:,:])[0]\n",
    "            inside = boundsTest>0\n",
    "            completeInner = inside.sum(dim=1)==inside.shape[1]\n",
    "            neuralBound.pointOccupationVector += completeInner*1\n",
    "    \n",
    "    def boundsTest(self, surfacepoints, emptyVectors):\n",
    "        '''gets tensor(n,3) surfacespoints (surface ) with (n,1) values (1 for surface, -1 for empty)'''\n",
    "        points = torch.cat((surfacepoints,emptypoints),0)\n",
    "        centeredPoints_surface = surfacepoints-self.center\n",
    "        centeredPoints_empty = emptypoints-self.center\n",
    "        boundsTest_surface = linAlgHelper.getPointDistances2PlaneNormal(centeredPoints_surface[None,:,:], self.bounds[None,:,:])[0]\n",
    "        boundsTest_empty = linAlgHelper.getPointDistances2PlaneNormal(centeredPoints_empty[None,:,:], self.bounds[None,:,:])[0]\n",
    "        with torch.no_grad():\n",
    "            size = self.bounds[:6].detach().abs().max()\n",
    "            inside_surface = boundsTest_surface>0\n",
    "            inside_empty = boundsTest_empty>0\n",
    "            near_surface = boundsTest<-0.5*size \n",
    "            importance_surface = 0.1*size/(0.1*size+abs(boundsTest_surface)) \n",
    "            importance_empty = 0.1*size/(0.1*size+abs(boundsTest_empty)) \n",
    "            completeInner_surface = importance_surface.sum(dim=1)==importance_surface.shape[1]\n",
    "            completeInner_empty = inside_empty.sum(dim=1)==inside_empty.shape[1]\n",
    "            completeNear_surface = near_surface.sum(dim=1)==near_surface.shape[1]\n",
    "        insideGradient_surface = torch.sigmoid(boundsTest_surface*3./(size))\n",
    "        insideGradient_empty = torch.sigmoid(boundsTest_empty*3./(size))\n",
    "        outsideGradient_surface = -torch.sigmoid(boundsTest_surface/(size))\n",
    "        outsideGradient_empty = -torch.sigmoid(boundsTest_empty/(size))\n",
    "        #recalculation of value (overlap and reproducing accuracy/certainty)\n",
    "        #overlap penalty\n",
    "        value[pointOccupationVector] = -0.1 #smaller negative value to encourage seamless reconstructions\n",
    "        \n",
    "        missedPointsLoss = (((1.-inside)*near*importance*outsideGradient*)[value[:,0]<0])\n",
    "        # for the inner loss: errors near a plane are important, but the gradient of the error should shrink, the nearer it gets\n",
    "        wrongValues = value*completeInner[:,None]\n",
    "        innerLoss= (importance**2*wrongValues*insideError)[value[:,0]>0]\n",
    "        #outside = 1.-hardCutOff[0,:]\n",
    "        #greedyGains = torch.relu(-value[:,0]*outside* (1.-softCutOff[0,:])).sum() #vorhersagen aussen erreichen\n",
    "        #innerLoss = torch.relu(value[:,0]*((hardCutOff*softCutOff)[0,:])).sum()  #fehler innen vermeiden\n",
    "        #expansionGain = - #expansionsdrang\n",
    "        #bestSeparation = -((-value)*(insideError-0.5)*importance**2)[near]\n",
    "        error = errorGreed.sum() +100*innerLoss.sum()#+ bestSeparation.sum()\n",
    "        error.backward()\n",
    "        \n",
    "    def show(self):\n",
    "        #get size\n",
    "        data = torch.rand(50000,3)*2.*size-size\n",
    "        boundsTest = linAlgHelper.getPointDistances2PlaneNormal(data[None,:,:], self.bounds.detach()[None,:,:])[0]\n",
    "        inside = boundsTest>0\n",
    "        inside = inside.sum(dim=1)==inside.shape[1]\n",
    "        filtered = data[inside]\n",
    "        filteredIdx = torch.arange(len(filtered))\n",
    "        hull = ConvexHull(filtered)\n",
    "        verts_ = torch.tensor(hull.vertices)\n",
    "        vertIdx = torch.arange(len(verts_))\n",
    "        filteredIdx[verts_.long()] = vertIdx\n",
    "        faces_ = torch.tensor(hull.simplices)\n",
    "        vertices, faces =  filtered[verts_.long()]+center.detach(), filteredIdx[faces_.long()]\n",
    "        mesh = tm.Trimesh(vertices=vertices+self.center.detach().cpu(), faces=faces)\n",
    "        #visualisieren der Zielfiguren\n",
    "        pointcloudPoints = mesh.sample(max(int(500.*size),20))\n",
    "        pointcloudO3d = o3d.geometry.PointCloud(points=o3d.utility.Vector3dVector(pointcloudPoints))\n",
    "        colors = np.ones_like(pointcloudPoints).astype(np.float64)\n",
    "        colors[:,2] = np.random.rand()\n",
    "        colors[:,1] = np.random.rand()\n",
    "        colors[:,0] = np.random.rand()\n",
    "        pointcloudO3d.colors = o3d.utility.Vector3dVector(colors)\n",
    "        return(pointcloudO3d)\n",
    "    \n",
    "    def trainStep(points, camPosition):\n",
    "        '''Points as Vector (n,3)     camPosition as vector 3'''\n",
    "        NeuralBound.createOccupationVector(points)\n",
    "        #create empty points\n",
    "        emptyVectors = (camPosition[None,None,:].cuda()-points.cuda()).reshape(-1,3)\n",
    "        emptyVectors = emptyVectors/((emptyVectors**2).sum(dim=-1))[:,None]**0.5\n",
    "        emptyStart = (points.reshape(-1,3).cuda()+emptyVectors*0.09)\n",
    "        empty1 = torch.cat((emptyStart,points.reshape(-1,3).cuda()+emptyVectors*0.15),0)\n",
    "        empty1 = torch.cat((empty1,points.reshape(-1,3).cuda()+emptyVectors*0.35),0)\n",
    "        for volume in neuralBound.neuralBoundList:\n",
    "            volume.boundsTest(points, emptypoints)\n",
    "        \n",
    "    def isZero(self):\n",
    "        #get size\n",
    "        if size < 0.05:\n",
    "            #delete self from volumeList\n",
    "            \n",
    "            \n",
    "#new neuralVolumes should be initialized when there is no \"growing/learning\" neural Volume in a Region\n",
    "\n",
    "\n",
    "            \n",
    "    "
   ]
  },
  {
   "cell_type": "code",
   "execution_count": null,
   "id": "064ff75f",
   "metadata": {},
   "outputs": [],
   "source": []
  },
  {
   "cell_type": "code",
   "execution_count": null,
   "id": "a5e812fa",
   "metadata": {},
   "outputs": [],
   "source": [
    "    \n"
   ]
  },
  {
   "cell_type": "markdown",
   "id": "15a52f5e",
   "metadata": {},
   "source": [
    "# spawnen von neuen Objekten bei Bedarf"
   ]
  },
  {
   "cell_type": "code",
   "execution_count": null,
   "id": "c28bdc3d",
   "metadata": {},
   "outputs": [],
   "source": []
  },
  {
   "cell_type": "code",
   "execution_count": null,
   "id": "4b969def",
   "metadata": {},
   "outputs": [],
   "source": []
  },
  {
   "cell_type": "code",
   "execution_count": null,
   "id": "a7e71be1",
   "metadata": {},
   "outputs": [],
   "source": []
  }
 ],
 "metadata": {
  "kernelspec": {
   "display_name": "Python 3",
   "language": "python",
   "name": "python3"
  },
  "language_info": {
   "codemirror_mode": {
    "name": "ipython",
    "version": 3
   },
   "file_extension": ".py",
   "mimetype": "text/x-python",
   "name": "python",
   "nbconvert_exporter": "python",
   "pygments_lexer": "ipython3",
   "version": "3.8.5"
  },
  "latex_envs": {
   "LaTeX_envs_menu_present": true,
   "autoclose": false,
   "autocomplete": true,
   "bibliofile": "biblio.bib",
   "cite_by": "apalike",
   "current_citInitial": 1,
   "eqLabelWithNumbers": true,
   "eqNumInitial": 1,
   "hotkeys": {
    "equation": "Ctrl-E",
    "itemize": "Ctrl-I"
   },
   "labels_anchors": false,
   "latex_user_defs": false,
   "report_style_numbering": false,
   "user_envs_cfg": false
  },
  "toc": {
   "base_numbering": 1,
   "nav_menu": {},
   "number_sections": true,
   "sideBar": true,
   "skip_h1_title": false,
   "title_cell": "Table of Contents",
   "title_sidebar": "Contents",
   "toc_cell": false,
   "toc_position": {},
   "toc_section_display": true,
   "toc_window_display": false
  }
 },
 "nbformat": 4,
 "nbformat_minor": 5
}
